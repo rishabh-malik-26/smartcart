{
 "cells": [
  {
   "cell_type": "code",
   "execution_count": 16,
   "id": "501351e9-45a4-4e77-b336-7407bfd3a65b",
   "metadata": {},
   "outputs": [
    {
     "name": "stderr",
     "output_type": "stream",
     "text": [
      "[nltk_data] Downloading package stopwords to\n",
      "[nltk_data]     C:\\Users\\Rishabh\\AppData\\Roaming\\nltk_data...\n",
      "[nltk_data]   Package stopwords is already up-to-date!\n"
     ]
    }
   ],
   "source": [
    "import pandas as pd\n",
    "import gensim\n",
    "from gensim.utils import simple_preprocess\n",
    "\n",
    "import warnings\n",
    "warnings.filterwarnings('ignore')\n",
    "import nltk\n",
    "from nltk.corpus import stopwords\n",
    "nltk.download(\"stopwords\")\n",
    "stop_words = stopwords.words(\"english\")"
   ]
  },
  {
   "cell_type": "code",
   "execution_count": 17,
   "id": "87ef02a7-d990-44e3-ad53-89b15b77f2a0",
   "metadata": {},
   "outputs": [],
   "source": [
    "def preprocess(text):\n",
    "    tokens = simple_preprocess(text,deacc= True)\n",
    "    return [word for word in tokens if word not in stop_words]"
   ]
  },
  {
   "cell_type": "code",
   "execution_count": 122,
   "id": "cd765a3c-fcd1-4a3f-86d9-b3504204a831",
   "metadata": {},
   "outputs": [],
   "source": [
    "# Correct full import block\n",
    "from qdrant_client.http.models import PointStruct\n",
    "# from qdrant_client.http.models import PointBatch\n",
    "\n",
    "from qdrant_client import QdrantClient\n",
    "from qdrant_client.models import Distance, VectorParams,PointStruct\n",
    "\n",
    "## Docker Command - docker start qdrant\n",
    "\n",
    "class Qdrant():\n",
    "\n",
    "    def __init__(self,host = \"localhost\", port=6333):\n",
    "        try:\n",
    "            self.client=QdrantClient(host=host,port=port)\n",
    "        except Exception as e:\n",
    "            raise ConnectionError(f\"Qdrant Connection failed {e}\")\n",
    "\n",
    "    \n",
    "    def create_collection(self,collection_name,vector_size):\n",
    "        try:\n",
    "            self.client.recreate_collection(\n",
    "            collection_name = collection_name,\n",
    "            vectors_config=VectorParams(size=vector_size, distance=Distance.COSINE),)\n",
    "        except Exception as e:\n",
    "            return f\"Error Creating Colletion: {e}\"\n",
    "\n",
    "\n",
    "    def add_vectors(self,collection_name,id,vector):\n",
    "\n",
    "        try:\n",
    "            self.client.upsert(\n",
    "            collection_name=collection_name,\n",
    "            points=[PointStruct(id = id,vector=vector)])\n",
    "        except Exception as e:\n",
    "            return f\"Error adding vectors: {e}\"\n",
    "\n",
    "    def add_bulk_vectors(self,collection_name,points):\n",
    "        try:\n",
    "            self.client.upload_collection(collection_name=collection_name,\n",
    "                                      points=points)\n",
    "\n",
    "        except Exception as e:\n",
    "            return f\"Error retreiving data: {e}\"\n",
    "\n",
    "    def retreve(self,collection_name,ids,with_vectors= True):\n",
    "        try:\n",
    "            data = self.client.retrieve(\n",
    "                collection_name=collection_name,\n",
    "                ids=ids,\n",
    "                with_vectors= with_vectors)\n",
    "            return data\n",
    "        except Exception as e:\n",
    "            return f\"Error retreiving data: {e}\"\n",
    "\n",
    "    \n",
    "    def search(self,collection_name,query_vector,limit):\n",
    "        try:\n",
    "            result = self.client.search(collection_name = collection_name,\n",
    "                                    query_vector=query_vector,limit = limit )\n",
    "            return result\n",
    "        except Exception as e:\n",
    "            return f\"Error searching vectors: {e}\"\n",
    "        \n",
    "    def check_collections(self):\n",
    "        try:\n",
    "            result = self.client.get_collections()\n",
    "            return result\n",
    "        except Exception as e:\n",
    "            return f\"Error fetching collections: {e}\"\n",
    "        \n",
    "    def delete_collect(self,collection_name):\n",
    "        try:\n",
    "            self.client.delete_collection(collection_name=collection_name)\n",
    "        \n",
    "        except Exception as e:\n",
    "            return f\"Error Deleting Collection: {e}\"\n",
    "        \n",
    "    def count_vecs(self):\n",
    "        collection_info  =self.client.get_collection(\"products\")\n",
    "        return collection_info.vectors_count\n",
    "\n",
    "\n",
    "\n",
    "\n",
    "# # collection_info = client.get_collection(\"your_collection_name\")\n",
    "# print(f\"Number of vectors: {collection_info.vectors_count}\")\n",
    "\n",
    "\n",
    "\n",
    "# print(qd.count_vecs())\n",
    "\n",
    "\n",
    "\n",
    "# hits = client.search(collection_name = \"test_collection\",query_vector =search_vec,limit = 4 )\n",
    "\n",
    "# # Step 2: Upload vectors\n",
    "# client.upsert(\n",
    "#     collection_name=\"test_collection\",\n",
    "#     points=[\n",
    "#         PointStruct(id=i+1, vector= vec) for i , vec in enumerate(demo_vecs)\n",
    "         \n",
    "#     ]\n",
    "# )\n",
    "\n",
    "\n",
    "# result = client.retrieve(collection_name=\"test_collection\", ids = [10],with_vectors=True)\n",
    "\n",
    "\n"
   ]
  },
  {
   "cell_type": "code",
   "execution_count": 7,
   "id": "a32248b4-92cc-466c-ab44-548e7d6b18d2",
   "metadata": {},
   "outputs": [],
   "source": [
    "import json\n",
    "data = []\n",
    "with open(r\"C:\\Users\\Rishabh\\Desktop\\Python New\\Amazon Recommender System\\product_data\\Appliances\\meta_Appliances.jsonl\",'r',encoding = \"utf-8\") as file:\n",
    "    for line in file:\n",
    "        data_line = json.loads(line.strip())\n",
    "        data.append(data_line)\n",
    "        "
   ]
  },
  {
   "cell_type": "code",
   "execution_count": 11,
   "id": "0fe53623-745a-4317-bc8d-281a6e2a8ad1",
   "metadata": {},
   "outputs": [],
   "source": [
    "df =pd.DataFrame(data)"
   ]
  },
  {
   "cell_type": "code",
   "execution_count": 14,
   "id": "24c80442-fd36-4b07-98e4-b94e2565037c",
   "metadata": {},
   "outputs": [
    {
     "data": {
      "text/html": [
       "<div>\n",
       "<style scoped>\n",
       "    .dataframe tbody tr th:only-of-type {\n",
       "        vertical-align: middle;\n",
       "    }\n",
       "\n",
       "    .dataframe tbody tr th {\n",
       "        vertical-align: top;\n",
       "    }\n",
       "\n",
       "    .dataframe thead th {\n",
       "        text-align: right;\n",
       "    }\n",
       "</style>\n",
       "<table border=\"1\" class=\"dataframe\">\n",
       "  <thead>\n",
       "    <tr style=\"text-align: right;\">\n",
       "      <th></th>\n",
       "      <th>main_category</th>\n",
       "      <th>title</th>\n",
       "      <th>average_rating</th>\n",
       "      <th>rating_number</th>\n",
       "      <th>features</th>\n",
       "      <th>description</th>\n",
       "      <th>price</th>\n",
       "      <th>images</th>\n",
       "      <th>videos</th>\n",
       "      <th>store</th>\n",
       "      <th>categories</th>\n",
       "      <th>details</th>\n",
       "      <th>parent_asin</th>\n",
       "      <th>bought_together</th>\n",
       "      <th>subtitle</th>\n",
       "      <th>author</th>\n",
       "    </tr>\n",
       "  </thead>\n",
       "  <tbody>\n",
       "    <tr>\n",
       "      <th>0</th>\n",
       "      <td>Industrial &amp; Scientific</td>\n",
       "      <td>ROVSUN Ice Maker Machine Countertop, Make 44lb...</td>\n",
       "      <td>3.7</td>\n",
       "      <td>61</td>\n",
       "      <td>[【Quick Ice Making】This countertop ice machine...</td>\n",
       "      <td>[]</td>\n",
       "      <td>NaN</td>\n",
       "      <td>[{'thumb': 'https://m.media-amazon.com/images/...</td>\n",
       "      <td>[{'title': 'Our Point of View on the Euhomy Ic...</td>\n",
       "      <td>ROVSUN</td>\n",
       "      <td>[Appliances, Refrigerators, Freezers &amp; Ice Mak...</td>\n",
       "      <td>{'Brand': 'ROVSUN', 'Model Name': 'ICM-2005', ...</td>\n",
       "      <td>B08Z743RRD</td>\n",
       "      <td>None</td>\n",
       "      <td>NaN</td>\n",
       "      <td>NaN</td>\n",
       "    </tr>\n",
       "    <tr>\n",
       "      <th>1</th>\n",
       "      <td>Tools &amp; Home Improvement</td>\n",
       "      <td>HANSGO Egg Holder for Refrigerator, Deviled Eg...</td>\n",
       "      <td>4.2</td>\n",
       "      <td>75</td>\n",
       "      <td>[Plastic, Practical Kitchen Storage - Our egg ...</td>\n",
       "      <td>[]</td>\n",
       "      <td>NaN</td>\n",
       "      <td>[{'thumb': 'https://m.media-amazon.com/images/...</td>\n",
       "      <td>[{'title': '10 Eggs Egg Holder for Refrigerato...</td>\n",
       "      <td>HANSGO</td>\n",
       "      <td>[Appliances, Parts &amp; Accessories, Refrigerator...</td>\n",
       "      <td>{'Manufacturer': 'HANSGO', 'Part Number': 'HAN...</td>\n",
       "      <td>B097BQDGHJ</td>\n",
       "      <td>None</td>\n",
       "      <td>NaN</td>\n",
       "      <td>NaN</td>\n",
       "    </tr>\n",
       "    <tr>\n",
       "      <th>2</th>\n",
       "      <td>Tools &amp; Home Improvement</td>\n",
       "      <td>Clothes Dryer Drum Slide, General Electric, Ho...</td>\n",
       "      <td>3.5</td>\n",
       "      <td>18</td>\n",
       "      <td>[]</td>\n",
       "      <td>[Brand new dryer drum slide, replaces General ...</td>\n",
       "      <td>NaN</td>\n",
       "      <td>[{'thumb': 'https://m.media-amazon.com/images/...</td>\n",
       "      <td>[]</td>\n",
       "      <td>GE</td>\n",
       "      <td>[Appliances, Parts &amp; Accessories]</td>\n",
       "      <td>{'Manufacturer': 'RPI', 'Part Number': 'WE1M33...</td>\n",
       "      <td>B00IN9AGAE</td>\n",
       "      <td>None</td>\n",
       "      <td>NaN</td>\n",
       "      <td>NaN</td>\n",
       "    </tr>\n",
       "    <tr>\n",
       "      <th>3</th>\n",
       "      <td>Tools &amp; Home Improvement</td>\n",
       "      <td>154567702 Dishwasher Lower Wash Arm Assembly f...</td>\n",
       "      <td>4.5</td>\n",
       "      <td>26</td>\n",
       "      <td>[MODEL NUMBER:154567702 Dishwasher Lower Wash ...</td>\n",
       "      <td>[MODEL NUMBER:154567702 Dishwasher Lower Wash ...</td>\n",
       "      <td>NaN</td>\n",
       "      <td>[{'thumb': 'https://m.media-amazon.com/images/...</td>\n",
       "      <td>[]</td>\n",
       "      <td>folosem</td>\n",
       "      <td>[Appliances, Parts &amp; Accessories, Dryer Parts ...</td>\n",
       "      <td>{'Manufacturer': 'folosem', 'Part Number': '15...</td>\n",
       "      <td>B0C7K98JZS</td>\n",
       "      <td>None</td>\n",
       "      <td>NaN</td>\n",
       "      <td>NaN</td>\n",
       "    </tr>\n",
       "    <tr>\n",
       "      <th>4</th>\n",
       "      <td>Tools &amp; Home Improvement</td>\n",
       "      <td>Whirlpool W10918546 Igniter</td>\n",
       "      <td>3.8</td>\n",
       "      <td>12</td>\n",
       "      <td>[This is a Genuine OEM Replacement Part.]</td>\n",
       "      <td>[Whirlpool Igniter]</td>\n",
       "      <td>25.07</td>\n",
       "      <td>[{'thumb': 'https://m.media-amazon.com/images/...</td>\n",
       "      <td>[]</td>\n",
       "      <td>Whirlpool</td>\n",
       "      <td>[Appliances, Parts &amp; Accessories]</td>\n",
       "      <td>{'Manufacturer': 'Whirlpool', 'Part Number': '...</td>\n",
       "      <td>B07QZHQTVJ</td>\n",
       "      <td>None</td>\n",
       "      <td>NaN</td>\n",
       "      <td>NaN</td>\n",
       "    </tr>\n",
       "  </tbody>\n",
       "</table>\n",
       "</div>"
      ],
      "text/plain": [
       "              main_category  \\\n",
       "0   Industrial & Scientific   \n",
       "1  Tools & Home Improvement   \n",
       "2  Tools & Home Improvement   \n",
       "3  Tools & Home Improvement   \n",
       "4  Tools & Home Improvement   \n",
       "\n",
       "                                               title  average_rating  \\\n",
       "0  ROVSUN Ice Maker Machine Countertop, Make 44lb...             3.7   \n",
       "1  HANSGO Egg Holder for Refrigerator, Deviled Eg...             4.2   \n",
       "2  Clothes Dryer Drum Slide, General Electric, Ho...             3.5   \n",
       "3  154567702 Dishwasher Lower Wash Arm Assembly f...             4.5   \n",
       "4                        Whirlpool W10918546 Igniter             3.8   \n",
       "\n",
       "   rating_number                                           features  \\\n",
       "0             61  [【Quick Ice Making】This countertop ice machine...   \n",
       "1             75  [Plastic, Practical Kitchen Storage - Our egg ...   \n",
       "2             18                                                 []   \n",
       "3             26  [MODEL NUMBER:154567702 Dishwasher Lower Wash ...   \n",
       "4             12          [This is a Genuine OEM Replacement Part.]   \n",
       "\n",
       "                                         description  price  \\\n",
       "0                                                 []    NaN   \n",
       "1                                                 []    NaN   \n",
       "2  [Brand new dryer drum slide, replaces General ...    NaN   \n",
       "3  [MODEL NUMBER:154567702 Dishwasher Lower Wash ...    NaN   \n",
       "4                                [Whirlpool Igniter]  25.07   \n",
       "\n",
       "                                              images  \\\n",
       "0  [{'thumb': 'https://m.media-amazon.com/images/...   \n",
       "1  [{'thumb': 'https://m.media-amazon.com/images/...   \n",
       "2  [{'thumb': 'https://m.media-amazon.com/images/...   \n",
       "3  [{'thumb': 'https://m.media-amazon.com/images/...   \n",
       "4  [{'thumb': 'https://m.media-amazon.com/images/...   \n",
       "\n",
       "                                              videos      store  \\\n",
       "0  [{'title': 'Our Point of View on the Euhomy Ic...     ROVSUN   \n",
       "1  [{'title': '10 Eggs Egg Holder for Refrigerato...     HANSGO   \n",
       "2                                                 []         GE   \n",
       "3                                                 []    folosem   \n",
       "4                                                 []  Whirlpool   \n",
       "\n",
       "                                          categories  \\\n",
       "0  [Appliances, Refrigerators, Freezers & Ice Mak...   \n",
       "1  [Appliances, Parts & Accessories, Refrigerator...   \n",
       "2                  [Appliances, Parts & Accessories]   \n",
       "3  [Appliances, Parts & Accessories, Dryer Parts ...   \n",
       "4                  [Appliances, Parts & Accessories]   \n",
       "\n",
       "                                             details parent_asin  \\\n",
       "0  {'Brand': 'ROVSUN', 'Model Name': 'ICM-2005', ...  B08Z743RRD   \n",
       "1  {'Manufacturer': 'HANSGO', 'Part Number': 'HAN...  B097BQDGHJ   \n",
       "2  {'Manufacturer': 'RPI', 'Part Number': 'WE1M33...  B00IN9AGAE   \n",
       "3  {'Manufacturer': 'folosem', 'Part Number': '15...  B0C7K98JZS   \n",
       "4  {'Manufacturer': 'Whirlpool', 'Part Number': '...  B07QZHQTVJ   \n",
       "\n",
       "  bought_together subtitle author  \n",
       "0            None      NaN    NaN  \n",
       "1            None      NaN    NaN  \n",
       "2            None      NaN    NaN  \n",
       "3            None      NaN    NaN  \n",
       "4            None      NaN    NaN  "
      ]
     },
     "execution_count": 14,
     "metadata": {},
     "output_type": "execute_result"
    }
   ],
   "source": [
    "df.head()"
   ]
  },
  {
   "cell_type": "code",
   "execution_count": 19,
   "id": "954af1f2-621b-4739-b8aa-9cb306427747",
   "metadata": {},
   "outputs": [],
   "source": [
    "\n",
    "df['cleaned_text'] = df['title'].apply(lambda x: preprocess(str(x) if pd.notnull(x) else \"\"))\n"
   ]
  },
  {
   "cell_type": "code",
   "execution_count": 20,
   "id": "b7775c97-4158-46d4-8748-9a3f59fd772a",
   "metadata": {},
   "outputs": [],
   "source": [
    "model = gensim.models.Word2Vec(df['cleaned_text'],min_count = 1)\n"
   ]
  },
  {
   "cell_type": "code",
   "execution_count": 24,
   "id": "848dac1b-5cf7-4e36-a399-9a9ebd332001",
   "metadata": {},
   "outputs": [],
   "source": [
    "\n",
    "\n",
    "def tokens_to_vec(token_text, vector_size=100):\n",
    "    # Filter tokens in the model's vocabulary\n",
    "    valid_tokens = [token for token in token_text if token in model.wv]\n",
    "    \n",
    "    # Handle empty valid_tokens gracefully\n",
    "    if not valid_tokens:\n",
    "        return np.zeros((1, vector_size))  # Return zero vector if no valid tokens\n",
    "    \n",
    "    # Get embeddings for valid tokens\n",
    "    token_embeddings = model.wv[valid_tokens]\n",
    "    \n",
    "    # Compute mean embedding\n",
    "    mean_embedding = np.mean(token_embeddings, axis=0)\n",
    "\n",
    "    return mean_embedding\n",
    "    "
   ]
  },
  {
   "cell_type": "code",
   "execution_count": 26,
   "id": "cfd3952d-e1cd-4ce3-9a61-cd9cc16a7f22",
   "metadata": {},
   "outputs": [],
   "source": [
    "import numpy as np\n",
    "df['vecs'] = df['cleaned_text'].apply(lambda x: list(tokens_to_vec(x)))   "
   ]
  },
  {
   "cell_type": "code",
   "execution_count": 75,
   "id": "66cc70bd-0776-4c84-82a7-65abf689da12",
   "metadata": {},
   "outputs": [
    {
     "data": {
      "text/plain": [
       "Index(['main_category', 'title', 'average_rating', 'rating_number', 'features',\n",
       "       'description', 'price', 'images', 'videos', 'store', 'categories',\n",
       "       'details', 'parent_asin', 'bought_together', 'subtitle', 'author',\n",
       "       'cleaned_text', 'vecs'],\n",
       "      dtype='object')"
      ]
     },
     "execution_count": 75,
     "metadata": {},
     "output_type": "execute_result"
    }
   ],
   "source": [
    "df.columns"
   ]
  },
  {
   "cell_type": "code",
   "execution_count": 132,
   "id": "4254c920-753e-4cf9-b5a2-dbe492997d78",
   "metadata": {},
   "outputs": [],
   "source": [
    "product_id  =1\n",
    "vec = df['vecs'].iloc[0]\n",
    "\n",
    "product_id_2  = 2\n",
    "vec_2 = df['vecs'].iloc[10]\n",
    "\n",
    "product_id_3  = 3\n",
    "vec_3 = df['vecs'].iloc[10]\n"
   ]
  },
  {
   "cell_type": "code",
   "execution_count": 136,
   "id": "25a71c44-e475-4b90-88f4-2ab819cb26ce",
   "metadata": {},
   "outputs": [],
   "source": [
    "all_vecs = [{'id':product_id,'vec':vec }, {'id':product_id_2,'vec':vec_2 },{'id':product_id_3,'vec':vec_3 }]"
   ]
  },
  {
   "cell_type": "code",
   "execution_count": 143,
   "id": "fc4aa100-6ab9-4edf-b250-84263fa29b14",
   "metadata": {},
   "outputs": [],
   "source": [
    "# all_vecs[1]['vec']"
   ]
  },
  {
   "cell_type": "code",
   "execution_count": 130,
   "id": "c8569c56-d5df-4ff8-bb3e-fe523ad2e57f",
   "metadata": {},
   "outputs": [],
   "source": [
    "# demo_dict=[PointStruct(id= product_id, vector = vec)]"
   ]
  },
  {
   "cell_type": "code",
   "execution_count": 131,
   "id": "457ec7e3-2107-4c81-9905-48431bad29fc",
   "metadata": {},
   "outputs": [],
   "source": [
    "def chunkify(data,batch_size):\n",
    "    for i in range(0,len(data),batch_size):\n",
    "        batch = data[i:i+batch_size]\n",
    "        yield batch"
   ]
  },
  {
   "cell_type": "code",
   "execution_count": 152,
   "id": "ff1be262-5a00-446e-a0c7-0ec880381f96",
   "metadata": {},
   "outputs": [
    {
     "data": {
      "text/plain": [
       "<generator object chunkify at 0x000001AA03A4FF10>"
      ]
     },
     "execution_count": 152,
     "metadata": {},
     "output_type": "execute_result"
    }
   ],
   "source": [
    "chunkify(all_vecs,1)"
   ]
  },
  {
   "cell_type": "code",
   "execution_count": 154,
   "id": "766c32c9-5e28-4456-81c9-8a5663eac89d",
   "metadata": {},
   "outputs": [
    {
     "name": "stdout",
     "output_type": "stream",
     "text": [
      "0\n",
      "1\n",
      "2\n"
     ]
    }
   ],
   "source": [
    "for index, a in enumerate(chunkify(all_vecs,1)):\n",
    "    qd.add_vectors(collection_name='product_date',id =all_vecs[index]['id'],vector = all_vecs[index]['vec'])\n",
    "    print(index)\n"
   ]
  },
  {
   "cell_type": "code",
   "execution_count": null,
   "id": "088c0d1b-29b9-4622-ad80-ef7c48379f06",
   "metadata": {},
   "outputs": [],
   "source": []
  },
  {
   "cell_type": "code",
   "execution_count": 145,
   "id": "797ada74-79e5-4546-a926-5c48fddf5372",
   "metadata": {},
   "outputs": [],
   "source": [
    "qd = Qdrant()\n",
    "for i in range(len(all_vecs)):\n",
    "    qd.add_vectors(collection_name='product_date',id =all_vecs[i]['id'],vector = all_vecs[i]['vec'])\n",
    "    "
   ]
  },
  {
   "cell_type": "code",
   "execution_count": 158,
   "id": "145b8859-eaf5-4325-8bcb-d31581a5a417",
   "metadata": {},
   "outputs": [],
   "source": [
    "# qd.retreve(collection_name='product_date',ids =[3])"
   ]
  },
  {
   "cell_type": "code",
   "execution_count": 46,
   "id": "79f81960-d9e7-4202-b927-6a6de45d9b23",
   "metadata": {},
   "outputs": [],
   "source": [
    "# qd.create_collection(collection_name ='product_date',vector_size = 100)"
   ]
  },
  {
   "cell_type": "code",
   "execution_count": 159,
   "id": "d3a366e4-8668-45b1-9c10-da7e3ebf6977",
   "metadata": {},
   "outputs": [],
   "source": [
    "vec_points = [\n",
    "    PointStruct(id=row['title'], vector=row['vecs'])\n",
    "    for row in df.to_dict('records')\n",
    "]"
   ]
  },
  {
   "cell_type": "code",
   "execution_count": 167,
   "id": "d2309de1-1cef-46c3-a41c-a9f315af3eee",
   "metadata": {},
   "outputs": [],
   "source": [
    "# vec_points[1]"
   ]
  },
  {
   "cell_type": "code",
   "execution_count": null,
   "id": "602f1d01-a9cc-4226-b712-bea797312dd9",
   "metadata": {},
   "outputs": [],
   "source": []
  },
  {
   "cell_type": "code",
   "execution_count": null,
   "id": "0a2544dc-4fe9-4b54-a888-8993490099f7",
   "metadata": {},
   "outputs": [],
   "source": []
  },
  {
   "cell_type": "code",
   "execution_count": 73,
   "id": "e2b5b5e9-aedf-4518-ae87-9fbbc74781c0",
   "metadata": {},
   "outputs": [],
   "source": [
    "\n",
    "# vec_points = [\n",
    "#     PointStruct(id=row['title'], vector=row['vecs'])\n",
    "#     for row in df.to_dict('records')\n",
    "# ]\n"
   ]
  }
 ],
 "metadata": {
  "kernelspec": {
   "display_name": "Python 3.12.3",
   "language": "python",
   "name": "python312"
  },
  "language_info": {
   "codemirror_mode": {
    "name": "ipython",
    "version": 3
   },
   "file_extension": ".py",
   "mimetype": "text/x-python",
   "name": "python",
   "nbconvert_exporter": "python",
   "pygments_lexer": "ipython3",
   "version": "3.12.3"
  }
 },
 "nbformat": 4,
 "nbformat_minor": 5
}
