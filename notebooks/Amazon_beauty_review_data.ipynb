{
 "cells": [
  {
   "cell_type": "code",
   "execution_count": 2,
   "id": "55cdd131-27b3-484e-90e9-8b89eb043bd1",
   "metadata": {},
   "outputs": [],
   "source": [
    "import pandas as pd \n",
    "import numpy as np\n",
    "import json\n",
    "import os\n",
    "import json\n",
    "import warnings\n",
    "warnings.filterwarnings('ignore')\n",
    "import gzip\n",
    "import faiss"
   ]
  },
  {
   "cell_type": "code",
   "execution_count": null,
   "id": "78decfc4",
   "metadata": {},
   "outputs": [],
   "source": []
  },
  {
   "cell_type": "code",
   "execution_count": 4,
   "id": "d7deebaf-98e5-4f6f-a33c-1ec2778fb7a6",
   "metadata": {},
   "outputs": [
    {
     "name": "stdout",
     "output_type": "stream",
     "text": [
      "True\n"
     ]
    }
   ],
   "source": [
    "\n",
    "def is_gzipped(file_path):\n",
    "    with open(file_path, 'rb') as f:\n",
    "        return f.read(2) == b'\\x1f\\x8b'\n",
    "    \n",
    "\n",
    "print(is_gzipped(r\"C:\\Users\\Rishabh\\Desktop\\Python New\\Amazon Recommender System\\product_data\\Appliances\\Appliances.jsonl\")) "
   ]
  },
  {
   "cell_type": "code",
   "execution_count": 3,
   "id": "8f044976-fbb9-4059-b66d-c234cb35b491",
   "metadata": {},
   "outputs": [],
   "source": [
    "\n",
    "reviews = []\n",
    "\n",
    "with gzip.open(r\"C:\\Users\\Rishabh\\Desktop\\Python New\\Amazon Recommender System\\product_data\\Appliances\\Appliances.jsonl\", \"rt\", encoding=\"utf-8\") as fp:\n",
    "    for line in fp:\n",
    "        data_line = json.loads(line.strip())\n",
    "        reviews.append(data_line)"
   ]
  },
  {
   "cell_type": "code",
   "execution_count": 5,
   "id": "17668d07-2b03-4de6-938f-3e8e0f468b2e",
   "metadata": {},
   "outputs": [],
   "source": [
    "df1 = pd.DataFrame(reviews)"
   ]
  },
  {
   "cell_type": "code",
   "execution_count": 6,
   "id": "85730543-e190-489e-bc82-9fca1296621a",
   "metadata": {},
   "outputs": [
    {
     "data": {
      "text/html": [
       "<div>\n",
       "<style scoped>\n",
       "    .dataframe tbody tr th:only-of-type {\n",
       "        vertical-align: middle;\n",
       "    }\n",
       "\n",
       "    .dataframe tbody tr th {\n",
       "        vertical-align: top;\n",
       "    }\n",
       "\n",
       "    .dataframe thead th {\n",
       "        text-align: right;\n",
       "    }\n",
       "</style>\n",
       "<table border=\"1\" class=\"dataframe\">\n",
       "  <thead>\n",
       "    <tr style=\"text-align: right;\">\n",
       "      <th></th>\n",
       "      <th>rating</th>\n",
       "      <th>title</th>\n",
       "      <th>text</th>\n",
       "      <th>images</th>\n",
       "      <th>asin</th>\n",
       "      <th>parent_asin</th>\n",
       "      <th>user_id</th>\n",
       "      <th>timestamp</th>\n",
       "      <th>helpful_vote</th>\n",
       "      <th>verified_purchase</th>\n",
       "    </tr>\n",
       "  </thead>\n",
       "  <tbody>\n",
       "    <tr>\n",
       "      <th>0</th>\n",
       "      <td>5.0</td>\n",
       "      <td>Work great</td>\n",
       "      <td>work great. use a new one every month</td>\n",
       "      <td>[]</td>\n",
       "      <td>B01N0TQ0OH</td>\n",
       "      <td>B01N0TQ0OH</td>\n",
       "      <td>AGKHLEW2SOWHNMFQIJGBECAF7INQ</td>\n",
       "      <td>1519317108692</td>\n",
       "      <td>0</td>\n",
       "      <td>True</td>\n",
       "    </tr>\n",
       "    <tr>\n",
       "      <th>1</th>\n",
       "      <td>5.0</td>\n",
       "      <td>excellent product</td>\n",
       "      <td>Little on the thin side</td>\n",
       "      <td>[]</td>\n",
       "      <td>B07DD2DMXB</td>\n",
       "      <td>B07DD37QPZ</td>\n",
       "      <td>AHWWLSPCJMALVHDDVSUGICL6RUCA</td>\n",
       "      <td>1664746863446</td>\n",
       "      <td>0</td>\n",
       "      <td>True</td>\n",
       "    </tr>\n",
       "    <tr>\n",
       "      <th>2</th>\n",
       "      <td>5.0</td>\n",
       "      <td>Happy customer!</td>\n",
       "      <td>Quick delivery, fixed the issue!</td>\n",
       "      <td>[]</td>\n",
       "      <td>B082W3Z9YK</td>\n",
       "      <td>B082W3Z9YK</td>\n",
       "      <td>AHZIJGKEWRTAEOZ673G5B3SNXEGQ</td>\n",
       "      <td>1607225435363</td>\n",
       "      <td>0</td>\n",
       "      <td>True</td>\n",
       "    </tr>\n",
       "    <tr>\n",
       "      <th>3</th>\n",
       "      <td>5.0</td>\n",
       "      <td>Amazing value</td>\n",
       "      <td>I wasn't sure whether these were worth it or n...</td>\n",
       "      <td>[]</td>\n",
       "      <td>B078W2BJY8</td>\n",
       "      <td>B078W2BJY8</td>\n",
       "      <td>AFGUPTDFAWOHHL4LZDV27ERDNOYQ</td>\n",
       "      <td>1534104184306</td>\n",
       "      <td>0</td>\n",
       "      <td>True</td>\n",
       "    </tr>\n",
       "    <tr>\n",
       "      <th>4</th>\n",
       "      <td>5.0</td>\n",
       "      <td>Dryer parts</td>\n",
       "      <td>Easy to install got the product expected to re...</td>\n",
       "      <td>[]</td>\n",
       "      <td>B08C9LPCQV</td>\n",
       "      <td>B08C9LPCQV</td>\n",
       "      <td>AELFJFAXQERUSMTXJQ6SYFFRDWMA</td>\n",
       "      <td>1620176603754</td>\n",
       "      <td>0</td>\n",
       "      <td>True</td>\n",
       "    </tr>\n",
       "  </tbody>\n",
       "</table>\n",
       "</div>"
      ],
      "text/plain": [
       "   rating              title  \\\n",
       "0     5.0         Work great   \n",
       "1     5.0  excellent product   \n",
       "2     5.0    Happy customer!   \n",
       "3     5.0      Amazing value   \n",
       "4     5.0        Dryer parts   \n",
       "\n",
       "                                                text images        asin  \\\n",
       "0              work great. use a new one every month     []  B01N0TQ0OH   \n",
       "1                            Little on the thin side     []  B07DD2DMXB   \n",
       "2                   Quick delivery, fixed the issue!     []  B082W3Z9YK   \n",
       "3  I wasn't sure whether these were worth it or n...     []  B078W2BJY8   \n",
       "4  Easy to install got the product expected to re...     []  B08C9LPCQV   \n",
       "\n",
       "  parent_asin                       user_id      timestamp  helpful_vote  \\\n",
       "0  B01N0TQ0OH  AGKHLEW2SOWHNMFQIJGBECAF7INQ  1519317108692             0   \n",
       "1  B07DD37QPZ  AHWWLSPCJMALVHDDVSUGICL6RUCA  1664746863446             0   \n",
       "2  B082W3Z9YK  AHZIJGKEWRTAEOZ673G5B3SNXEGQ  1607225435363             0   \n",
       "3  B078W2BJY8  AFGUPTDFAWOHHL4LZDV27ERDNOYQ  1534104184306             0   \n",
       "4  B08C9LPCQV  AELFJFAXQERUSMTXJQ6SYFFRDWMA  1620176603754             0   \n",
       "\n",
       "   verified_purchase  \n",
       "0               True  \n",
       "1               True  \n",
       "2               True  \n",
       "3               True  \n",
       "4               True  "
      ]
     },
     "execution_count": 6,
     "metadata": {},
     "output_type": "execute_result"
    }
   ],
   "source": [
    "df1.head()"
   ]
  },
  {
   "cell_type": "code",
   "execution_count": 7,
   "id": "c76c6548-dcc5-4c9b-a644-1ae42ea37634",
   "metadata": {},
   "outputs": [],
   "source": [
    "df = df1[['rating','parent_asin','user_id']]"
   ]
  },
  {
   "cell_type": "code",
   "execution_count": null,
   "id": "31540d3f-129b-4b57-bbee-c68a32d56f03",
   "metadata": {},
   "outputs": [],
   "source": [
    "data = []\n",
    "\n",
    "with open(r\"C:\\Users\\Rishabh\\Downloads\\Amazon_Project_Data\\Beauty\\meta_All_Beauty.jsonl (1).gz\", \"rt\", encoding=\"utf-8\") as fp:\n",
    "    for line in fp:\n",
    "        data_line = json.loads(line.strip())\n",
    "        data.append(data_line)"
   ]
  },
  {
   "cell_type": "code",
   "execution_count": 7,
   "id": "d125d0ab-5373-4b00-b772-1e0dbc3c977c",
   "metadata": {},
   "outputs": [],
   "source": [
    "df2 = pd.DataFrame(data)"
   ]
  },
  {
   "cell_type": "code",
   "execution_count": 8,
   "id": "1b4ff62a-497d-489b-93ef-520ceea5f065",
   "metadata": {},
   "outputs": [
    {
     "data": {
      "text/plain": [
       "112565"
      ]
     },
     "execution_count": 8,
     "metadata": {},
     "output_type": "execute_result"
    }
   ],
   "source": [
    "len(df1['parent_asin'].unique())"
   ]
  },
  {
   "cell_type": "code",
   "execution_count": 9,
   "id": "2587c4c0-3a4f-4c9e-ae96-e332900a1938",
   "metadata": {},
   "outputs": [
    {
     "data": {
      "text/plain": [
       "(112590, 112565)"
      ]
     },
     "execution_count": 9,
     "metadata": {},
     "output_type": "execute_result"
    }
   ],
   "source": [
    "len(df2['parent_asin'].unique()) , len(df1['parent_asin'].unique())"
   ]
  },
  {
   "cell_type": "code",
   "execution_count": 10,
   "id": "709f2041-fb40-4bb9-adf0-b85989fbf5ce",
   "metadata": {},
   "outputs": [],
   "source": [
    "new_df =pd.merge(df1,df2, on = 'parent_asin')"
   ]
  },
  {
   "cell_type": "code",
   "execution_count": 11,
   "id": "4126e4b0-b2fd-4c6c-94ec-4486b11f333c",
   "metadata": {},
   "outputs": [
    {
     "data": {
      "text/plain": [
       "((701528, 10), (112590, 14))"
      ]
     },
     "execution_count": 11,
     "metadata": {},
     "output_type": "execute_result"
    }
   ],
   "source": [
    "df1.shape,df2.shape"
   ]
  },
  {
   "cell_type": "code",
   "execution_count": 12,
   "id": "d2e725d8-b40d-4fe2-80ab-a4f4a0bf6704",
   "metadata": {},
   "outputs": [],
   "source": [
    "new_df = new_df.sample(frac = 0.01)\n"
   ]
  },
  {
   "cell_type": "code",
   "execution_count": 13,
   "id": "4e87c9c2-7d50-478b-ab5b-7ce991f18616",
   "metadata": {},
   "outputs": [],
   "source": [
    "r_df = new_df[['parent_asin','user_id','rating']]"
   ]
  },
  {
   "cell_type": "code",
   "execution_count": 14,
   "id": "f0594725-ddbd-455f-b91a-63570738995f",
   "metadata": {},
   "outputs": [
    {
     "name": "stdout",
     "output_type": "stream",
     "text": [
      "RMSE: 1.4851\n",
      "RMSE: 1.4850501883622036\n"
     ]
    }
   ],
   "source": [
    "from surprise import SVD, Dataset, Reader\n",
    "from surprise.model_selection import train_test_split\n",
    "from surprise import accuracy\n",
    " \n",
    "# Define the format\n",
    "reader = Reader(rating_scale=(1, 5))\n",
    "data = Dataset.load_from_df(r_df[[\"user_id\", \"parent_asin\", \"rating\"]], reader)\n",
    "\n",
    "# Train-test split\n",
    "trainset, testset = train_test_split(data, test_size=0.2)\n",
    "\n",
    "# Train SVD model\n",
    "model = SVD()\n",
    "model.fit(trainset)\n",
    "\n",
    "# Predict and evaluate\n",
    "predictions = model.test(testset)\n",
    "print(\"RMSE:\", accuracy.rmse(predictions))\n"
   ]
  },
  {
   "cell_type": "code",
   "execution_count": 15,
   "id": "7e22235b-155e-4db0-b37c-1983ef3bbfd9",
   "metadata": {},
   "outputs": [],
   "source": [
    "user_mat = model.pu\n",
    "item_mat = model.qi "
   ]
  },
  {
   "cell_type": "code",
   "execution_count": 16,
   "id": "4a92c974-e932-477e-a14e-e07c6be9f9f8",
   "metadata": {},
   "outputs": [],
   "source": [
    "user_mat = user_mat.astype('float32')\n",
    "item_mat = item_mat.astype('float32')"
   ]
  },
  {
   "cell_type": "code",
   "execution_count": 17,
   "id": "075f59e8-82ba-4679-bb80-9fac5ad7aa6c",
   "metadata": {},
   "outputs": [
    {
     "data": {
      "text/plain": [
       "(5596, (4560, 100))"
      ]
     },
     "execution_count": 17,
     "metadata": {},
     "output_type": "execute_result"
    }
   ],
   "source": [
    "user_mat.shape[0],item_mat.shape"
   ]
  },
  {
   "cell_type": "code",
   "execution_count": 18,
   "id": "6e45fa13-a7b7-421c-940c-d3795b44f2e4",
   "metadata": {},
   "outputs": [],
   "source": [
    "user_ids = [trainset.to_raw_uid(i) for i in range(user_mat.shape[0])]\n",
    "item_ids = [trainset.to_raw_iid(j) for j in range(item_mat.shape[0])]"
   ]
  },
  {
   "cell_type": "code",
   "execution_count": 19,
   "id": "f0e63e79-46c8-4014-ac92-1892a76ca0a3",
   "metadata": {},
   "outputs": [],
   "source": [
    "user_df = pd.DataFrame(user_mat,index=user_ids)"
   ]
  },
  {
   "cell_type": "code",
   "execution_count": 20,
   "id": "3a6b9c4c-fb83-4147-8ebd-e2bdeddc8cc3",
   "metadata": {},
   "outputs": [],
   "source": [
    "item_df = pd.DataFrame(item_mat,index=item_ids)"
   ]
  },
  {
   "cell_type": "code",
   "execution_count": 11,
   "id": "eb26ecd3-c96a-4610-8261-f429411c6499",
   "metadata": {
    "scrolled": true
   },
   "outputs": [
    {
     "ename": "NameError",
     "evalue": "name 'user_df' is not defined",
     "output_type": "error",
     "traceback": [
      "\u001b[1;31m---------------------------------------------------------------------------\u001b[0m",
      "\u001b[1;31mNameError\u001b[0m                                 Traceback (most recent call last)",
      "Cell \u001b[1;32mIn[11], line 1\u001b[0m\n\u001b[1;32m----> 1\u001b[0m \u001b[43muser_df\u001b[49m\u001b[38;5;241m.\u001b[39mloc[\u001b[38;5;241m0\u001b[39m]\n",
      "\u001b[1;31mNameError\u001b[0m: name 'user_df' is not defined"
     ]
    }
   ],
   "source": [
    "user_df"
   ]
  },
  {
   "cell_type": "code",
   "execution_count": null,
   "id": "4f096c69-18a3-44dd-b572-e0e899f79ea7",
   "metadata": {},
   "outputs": [],
   "source": []
  },
  {
   "cell_type": "code",
   "execution_count": 22,
   "id": "99eff3bb-fc75-4ef9-a156-068ccb2e1c20",
   "metadata": {},
   "outputs": [
    {
     "data": {
      "text/plain": [
       "(100,)"
      ]
     },
     "execution_count": 22,
     "metadata": {},
     "output_type": "execute_result"
    }
   ],
   "source": [
    "user= user_df.iloc[400] \n",
    "user.shape"
   ]
  },
  {
   "cell_type": "code",
   "execution_count": 23,
   "id": "2af2d2f8-1dd1-495a-8e6a-d24b56e7eed8",
   "metadata": {},
   "outputs": [],
   "source": [
    "user_array = np.array(user).reshape(1,-1)"
   ]
  },
  {
   "cell_type": "code",
   "execution_count": 24,
   "id": "745e32fc-2642-4ce3-9f96-eb50b782710d",
   "metadata": {},
   "outputs": [],
   "source": [
    "d = item_mat.shape[1]\n",
    "\n",
    "index = faiss.IndexFlatIP(d)  \n",
    "index.add(item_mat)\n",
    "k  = item_mat.shape[0]\n",
    "\n",
    "distances,indices = index.search(user_array, k) "
   ]
  },
  {
   "cell_type": "code",
   "execution_count": 25,
   "id": "ec122da8-f1dd-4d62-9158-cbac9e64071f",
   "metadata": {},
   "outputs": [],
   "source": [
    "top_user_ids  = indices[0]"
   ]
  },
  {
   "cell_type": "code",
   "execution_count": 26,
   "id": "cd713da5-6ef3-4fa1-b34b-b7b32852b864",
   "metadata": {},
   "outputs": [],
   "source": [
    "top_dist  = distances[0]"
   ]
  },
  {
   "cell_type": "code",
   "execution_count": 27,
   "id": "24801c93-dd81-49ef-a8f9-f0fb41b9f4a8",
   "metadata": {},
   "outputs": [],
   "source": [
    "#for i in top_user_ids:\n",
    " #   print(user_df.index[i])"
   ]
  },
  {
   "cell_type": "code",
   "execution_count": 28,
   "id": "6f38a5be-0f1f-4e58-ac29-b33f4585f052",
   "metadata": {},
   "outputs": [
    {
     "data": {
      "text/plain": [
       "1772"
      ]
     },
     "execution_count": 28,
     "metadata": {},
     "output_type": "execute_result"
    }
   ],
   "source": [
    "top_user_ids[0]"
   ]
  },
  {
   "cell_type": "code",
   "execution_count": 29,
   "id": "ee2b16eb-efe2-4b6a-92a0-8554999519a2",
   "metadata": {},
   "outputs": [],
   "source": [
    "dist =list(top_dist)"
   ]
  },
  {
   "cell_type": "code",
   "execution_count": null,
   "id": "eb43e298-f194-4671-aad2-c15956321f34",
   "metadata": {},
   "outputs": [],
   "source": []
  },
  {
   "cell_type": "code",
   "execution_count": 30,
   "id": "f84cca05-3d4f-4ada-a058-33f40ae792a5",
   "metadata": {},
   "outputs": [],
   "source": [
    "sim_ids = [user_df.index[i] for i in top_user_ids]\n"
   ]
  },
  {
   "cell_type": "code",
   "execution_count": 31,
   "id": "3b63e010-ce6b-4bc1-a07d-0419c7e1b57c",
   "metadata": {},
   "outputs": [],
   "source": [
    "user_dist_df = pd.DataFrame(dist,sim_ids,columns=['Distance'])"
   ]
  },
  {
   "cell_type": "code",
   "execution_count": 32,
   "id": "4d29de78-fd97-4970-9f46-46ab0ee09b71",
   "metadata": {},
   "outputs": [
    {
     "data": {
      "text/plain": [
       "4560"
      ]
     },
     "execution_count": 32,
     "metadata": {},
     "output_type": "execute_result"
    }
   ],
   "source": [
    "len(sim_ids)"
   ]
  },
  {
   "cell_type": "code",
   "execution_count": 33,
   "id": "d4a77e0d-7492-49a3-985c-f9458451a4e3",
   "metadata": {},
   "outputs": [
    {
     "data": {
      "text/plain": [
       "6990"
      ]
     },
     "execution_count": 33,
     "metadata": {},
     "output_type": "execute_result"
    }
   ],
   "source": [
    "len(r_df['user_id'].unique())"
   ]
  },
  {
   "cell_type": "code",
   "execution_count": 34,
   "id": "534f6396-abb0-4839-ac4e-787d2eeffbe2",
   "metadata": {},
   "outputs": [
    {
     "data": {
      "text/plain": [
       "Series([], Name: parent_asin, dtype: object)"
      ]
     },
     "execution_count": 34,
     "metadata": {},
     "output_type": "execute_result"
    }
   ],
   "source": [
    "r_df['parent_asin'][r_df['user_id'] == 'AFR2TVY45HMKVZU2IBCR3DB2ESAQ']"
   ]
  },
  {
   "cell_type": "code",
   "execution_count": 35,
   "id": "ee3989dc-647e-4a3a-9826-20d46e9e5d11",
   "metadata": {},
   "outputs": [],
   "source": [
    "mat = {}\n",
    "for i in sim_ids:\n",
    "    user_r = dict(zip(r_df['parent_asin'][r_df['user_id'] == i],r_df['rating'][r_df['user_id'] == i]))  \n",
    "    mat[i] = user_r"
   ]
  },
  {
   "cell_type": "code",
   "execution_count": 36,
   "id": "f5ec4a2f-17b2-472b-a9a8-ce9718974108",
   "metadata": {},
   "outputs": [],
   "source": [
    "#filter_df = r_df[r_df['user_id'].isin(sim_ids)]"
   ]
  },
  {
   "cell_type": "code",
   "execution_count": 37,
   "id": "7cff04dd-c8f1-4369-88b4-1b392192ec4f",
   "metadata": {},
   "outputs": [],
   "source": [
    "#mat = (filter_df.groupby('user_id').apply(lambda x: dict(zip( x['parent_asin'] ,x['rating'] )) ).to_dict())     "
   ]
  },
  {
   "cell_type": "code",
   "execution_count": null,
   "id": "0e5a1326-dab0-45d2-a14f-eb4d51bff7a5",
   "metadata": {},
   "outputs": [],
   "source": []
  },
  {
   "cell_type": "code",
   "execution_count": 38,
   "id": "8a0665ae-52ea-4891-a395-f344007279fa",
   "metadata": {},
   "outputs": [
    {
     "data": {
      "text/html": [
       "<div>\n",
       "<style scoped>\n",
       "    .dataframe tbody tr th:only-of-type {\n",
       "        vertical-align: middle;\n",
       "    }\n",
       "\n",
       "    .dataframe tbody tr th {\n",
       "        vertical-align: top;\n",
       "    }\n",
       "\n",
       "    .dataframe thead th {\n",
       "        text-align: right;\n",
       "    }\n",
       "</style>\n",
       "<table border=\"1\" class=\"dataframe\">\n",
       "  <thead>\n",
       "    <tr style=\"text-align: right;\">\n",
       "      <th></th>\n",
       "      <th>Distance</th>\n",
       "    </tr>\n",
       "  </thead>\n",
       "  <tbody>\n",
       "    <tr>\n",
       "      <th>AE473N3C62NCTUFKQ3S5MEG7VV6A</th>\n",
       "      <td>0.395182</td>\n",
       "    </tr>\n",
       "    <tr>\n",
       "      <th>AGE43YVBZBNDKZXAYUH7T4PRVFMA</th>\n",
       "      <td>0.379780</td>\n",
       "    </tr>\n",
       "    <tr>\n",
       "      <th>AFPNS3QJZSTRREDG6AWQPZWA76VA</th>\n",
       "      <td>0.373747</td>\n",
       "    </tr>\n",
       "    <tr>\n",
       "      <th>AF62SIYNIKEFQXTYADQ5NWDNUYLQ</th>\n",
       "      <td>0.369976</td>\n",
       "    </tr>\n",
       "    <tr>\n",
       "      <th>AFIS2P42MZBJ2KB6KO655YSZKELA</th>\n",
       "      <td>0.365041</td>\n",
       "    </tr>\n",
       "    <tr>\n",
       "      <th>...</th>\n",
       "      <td>...</td>\n",
       "    </tr>\n",
       "    <tr>\n",
       "      <th>AGRH7ORHR745X5TSZDEO4RRU3HFQ</th>\n",
       "      <td>-0.352158</td>\n",
       "    </tr>\n",
       "    <tr>\n",
       "      <th>AGNN2ZWUN2WIUDVC3VCVRE6POMRA</th>\n",
       "      <td>-0.357317</td>\n",
       "    </tr>\n",
       "    <tr>\n",
       "      <th>AFFJEOWFZ6HHUIAYUJEKI4ANDLZQ</th>\n",
       "      <td>-0.364813</td>\n",
       "    </tr>\n",
       "    <tr>\n",
       "      <th>AHSO6LYXYFBTBYNY4V7R5LSED75Q</th>\n",
       "      <td>-0.368823</td>\n",
       "    </tr>\n",
       "    <tr>\n",
       "      <th>AENEHO4ZDUMMLNR5CIBZKZZXNKRA</th>\n",
       "      <td>-0.385045</td>\n",
       "    </tr>\n",
       "  </tbody>\n",
       "</table>\n",
       "<p>4560 rows × 1 columns</p>\n",
       "</div>"
      ],
      "text/plain": [
       "                              Distance\n",
       "AE473N3C62NCTUFKQ3S5MEG7VV6A  0.395182\n",
       "AGE43YVBZBNDKZXAYUH7T4PRVFMA  0.379780\n",
       "AFPNS3QJZSTRREDG6AWQPZWA76VA  0.373747\n",
       "AF62SIYNIKEFQXTYADQ5NWDNUYLQ  0.369976\n",
       "AFIS2P42MZBJ2KB6KO655YSZKELA  0.365041\n",
       "...                                ...\n",
       "AGRH7ORHR745X5TSZDEO4RRU3HFQ -0.352158\n",
       "AGNN2ZWUN2WIUDVC3VCVRE6POMRA -0.357317\n",
       "AFFJEOWFZ6HHUIAYUJEKI4ANDLZQ -0.364813\n",
       "AHSO6LYXYFBTBYNY4V7R5LSED75Q -0.368823\n",
       "AENEHO4ZDUMMLNR5CIBZKZZXNKRA -0.385045\n",
       "\n",
       "[4560 rows x 1 columns]"
      ]
     },
     "execution_count": 38,
     "metadata": {},
     "output_type": "execute_result"
    }
   ],
   "source": [
    "user_dist_df"
   ]
  },
  {
   "cell_type": "code",
   "execution_count": 39,
   "id": "d175e2cd-bdc3-47b5-a3b8-1a13f08721a3",
   "metadata": {},
   "outputs": [],
   "source": [
    "df_mat =pd.DataFrame(mat)"
   ]
  },
  {
   "cell_type": "code",
   "execution_count": 1,
   "id": "03398740-15d2-450b-925f-ac226cb238ad",
   "metadata": {},
   "outputs": [
    {
     "ename": "NameError",
     "evalue": "name 'df_mat' is not defined",
     "output_type": "error",
     "traceback": [
      "\u001b[1;31m---------------------------------------------------------------------------\u001b[0m",
      "\u001b[1;31mNameError\u001b[0m                                 Traceback (most recent call last)",
      "Cell \u001b[1;32mIn[1], line 1\u001b[0m\n\u001b[1;32m----> 1\u001b[0m \u001b[43mdf_mat\u001b[49m\u001b[38;5;241m.\u001b[39mhead()  \n",
      "\u001b[1;31mNameError\u001b[0m: name 'df_mat' is not defined"
     ]
    }
   ],
   "source": [
    "df_mat.head()  "
   ]
  },
  {
   "cell_type": "code",
   "execution_count": 43,
   "id": "8b3c16c8-10a8-4250-bc98-6085bbdff605",
   "metadata": {},
   "outputs": [],
   "source": [
    "t_df = df_mat.fillna(0)"
   ]
  },
  {
   "cell_type": "code",
   "execution_count": 44,
   "id": "67051c84-3c89-417a-81d6-117d4cdca656",
   "metadata": {},
   "outputs": [
    {
     "data": {
      "text/html": [
       "<div>\n",
       "<style scoped>\n",
       "    .dataframe tbody tr th:only-of-type {\n",
       "        vertical-align: middle;\n",
       "    }\n",
       "\n",
       "    .dataframe tbody tr th {\n",
       "        vertical-align: top;\n",
       "    }\n",
       "\n",
       "    .dataframe thead th {\n",
       "        text-align: right;\n",
       "    }\n",
       "</style>\n",
       "<table border=\"1\" class=\"dataframe\">\n",
       "  <thead>\n",
       "    <tr style=\"text-align: right;\">\n",
       "      <th></th>\n",
       "      <th>AE473N3C62NCTUFKQ3S5MEG7VV6A</th>\n",
       "      <th>AGE43YVBZBNDKZXAYUH7T4PRVFMA</th>\n",
       "      <th>AFPNS3QJZSTRREDG6AWQPZWA76VA</th>\n",
       "      <th>AF62SIYNIKEFQXTYADQ5NWDNUYLQ</th>\n",
       "      <th>AFIS2P42MZBJ2KB6KO655YSZKELA</th>\n",
       "      <th>AHUGKUVWBYGBSXW3SSMMR2QNTKNQ</th>\n",
       "      <th>AFO456XNS5YAY3LHNVPLRJUJDCWA</th>\n",
       "      <th>AEBAUHHD6BLR276NRQL4IQZK7AIA</th>\n",
       "      <th>AGHABE2FIHA2R6QH6ZRXB2WOEJCA</th>\n",
       "      <th>AGHL4YKLZXMA6EJVQ3HMA7R7TAEQ</th>\n",
       "      <th>...</th>\n",
       "      <th>AHKTCQ5JJQOYHGAHBPKINIRVKUHQ</th>\n",
       "      <th>AHHRZK4U2MTWGIRT2M3U3SPQ6SZA</th>\n",
       "      <th>AER62CDQFLZ5HUQPV5PELHQBWCUQ</th>\n",
       "      <th>AEKJYOIX4FMCCFGQ7SKXDVIPPJDQ</th>\n",
       "      <th>AH2MORTGCST5G33AMEITA47QDK6Q</th>\n",
       "      <th>AGRH7ORHR745X5TSZDEO4RRU3HFQ</th>\n",
       "      <th>AGNN2ZWUN2WIUDVC3VCVRE6POMRA</th>\n",
       "      <th>AFFJEOWFZ6HHUIAYUJEKI4ANDLZQ</th>\n",
       "      <th>AHSO6LYXYFBTBYNY4V7R5LSED75Q</th>\n",
       "      <th>AENEHO4ZDUMMLNR5CIBZKZZXNKRA</th>\n",
       "    </tr>\n",
       "  </thead>\n",
       "  <tbody>\n",
       "    <tr>\n",
       "      <th>B01M1OFZOG</th>\n",
       "      <td>5.0</td>\n",
       "      <td>0.0</td>\n",
       "      <td>0.0</td>\n",
       "      <td>0.0</td>\n",
       "      <td>0.0</td>\n",
       "      <td>0.0</td>\n",
       "      <td>0.0</td>\n",
       "      <td>0.0</td>\n",
       "      <td>0.0</td>\n",
       "      <td>0.0</td>\n",
       "      <td>...</td>\n",
       "      <td>0.0</td>\n",
       "      <td>0.0</td>\n",
       "      <td>0.0</td>\n",
       "      <td>0.0</td>\n",
       "      <td>0.0</td>\n",
       "      <td>0.0</td>\n",
       "      <td>0.0</td>\n",
       "      <td>0.0</td>\n",
       "      <td>0.0</td>\n",
       "      <td>0.0</td>\n",
       "    </tr>\n",
       "    <tr>\n",
       "      <th>B07DM82YBT</th>\n",
       "      <td>0.0</td>\n",
       "      <td>5.0</td>\n",
       "      <td>0.0</td>\n",
       "      <td>0.0</td>\n",
       "      <td>0.0</td>\n",
       "      <td>0.0</td>\n",
       "      <td>0.0</td>\n",
       "      <td>0.0</td>\n",
       "      <td>0.0</td>\n",
       "      <td>0.0</td>\n",
       "      <td>...</td>\n",
       "      <td>0.0</td>\n",
       "      <td>0.0</td>\n",
       "      <td>0.0</td>\n",
       "      <td>0.0</td>\n",
       "      <td>0.0</td>\n",
       "      <td>0.0</td>\n",
       "      <td>0.0</td>\n",
       "      <td>0.0</td>\n",
       "      <td>0.0</td>\n",
       "      <td>0.0</td>\n",
       "    </tr>\n",
       "    <tr>\n",
       "      <th>B00JQI7JBK</th>\n",
       "      <td>0.0</td>\n",
       "      <td>0.0</td>\n",
       "      <td>5.0</td>\n",
       "      <td>0.0</td>\n",
       "      <td>0.0</td>\n",
       "      <td>0.0</td>\n",
       "      <td>0.0</td>\n",
       "      <td>0.0</td>\n",
       "      <td>0.0</td>\n",
       "      <td>0.0</td>\n",
       "      <td>...</td>\n",
       "      <td>0.0</td>\n",
       "      <td>0.0</td>\n",
       "      <td>0.0</td>\n",
       "      <td>0.0</td>\n",
       "      <td>0.0</td>\n",
       "      <td>0.0</td>\n",
       "      <td>0.0</td>\n",
       "      <td>0.0</td>\n",
       "      <td>0.0</td>\n",
       "      <td>0.0</td>\n",
       "    </tr>\n",
       "    <tr>\n",
       "      <th>B010B5ZE4U</th>\n",
       "      <td>0.0</td>\n",
       "      <td>0.0</td>\n",
       "      <td>0.0</td>\n",
       "      <td>5.0</td>\n",
       "      <td>0.0</td>\n",
       "      <td>0.0</td>\n",
       "      <td>0.0</td>\n",
       "      <td>0.0</td>\n",
       "      <td>0.0</td>\n",
       "      <td>0.0</td>\n",
       "      <td>...</td>\n",
       "      <td>0.0</td>\n",
       "      <td>0.0</td>\n",
       "      <td>0.0</td>\n",
       "      <td>0.0</td>\n",
       "      <td>0.0</td>\n",
       "      <td>0.0</td>\n",
       "      <td>0.0</td>\n",
       "      <td>0.0</td>\n",
       "      <td>0.0</td>\n",
       "      <td>0.0</td>\n",
       "    </tr>\n",
       "    <tr>\n",
       "      <th>B07STXMKKT</th>\n",
       "      <td>0.0</td>\n",
       "      <td>0.0</td>\n",
       "      <td>0.0</td>\n",
       "      <td>0.0</td>\n",
       "      <td>5.0</td>\n",
       "      <td>0.0</td>\n",
       "      <td>0.0</td>\n",
       "      <td>0.0</td>\n",
       "      <td>0.0</td>\n",
       "      <td>0.0</td>\n",
       "      <td>...</td>\n",
       "      <td>0.0</td>\n",
       "      <td>0.0</td>\n",
       "      <td>0.0</td>\n",
       "      <td>0.0</td>\n",
       "      <td>0.0</td>\n",
       "      <td>0.0</td>\n",
       "      <td>0.0</td>\n",
       "      <td>0.0</td>\n",
       "      <td>0.0</td>\n",
       "      <td>0.0</td>\n",
       "    </tr>\n",
       "    <tr>\n",
       "      <th>...</th>\n",
       "      <td>...</td>\n",
       "      <td>...</td>\n",
       "      <td>...</td>\n",
       "      <td>...</td>\n",
       "      <td>...</td>\n",
       "      <td>...</td>\n",
       "      <td>...</td>\n",
       "      <td>...</td>\n",
       "      <td>...</td>\n",
       "      <td>...</td>\n",
       "      <td>...</td>\n",
       "      <td>...</td>\n",
       "      <td>...</td>\n",
       "      <td>...</td>\n",
       "      <td>...</td>\n",
       "      <td>...</td>\n",
       "      <td>...</td>\n",
       "      <td>...</td>\n",
       "      <td>...</td>\n",
       "      <td>...</td>\n",
       "      <td>...</td>\n",
       "    </tr>\n",
       "    <tr>\n",
       "      <th>B01M0DFPV1</th>\n",
       "      <td>0.0</td>\n",
       "      <td>0.0</td>\n",
       "      <td>0.0</td>\n",
       "      <td>0.0</td>\n",
       "      <td>0.0</td>\n",
       "      <td>0.0</td>\n",
       "      <td>0.0</td>\n",
       "      <td>0.0</td>\n",
       "      <td>0.0</td>\n",
       "      <td>0.0</td>\n",
       "      <td>...</td>\n",
       "      <td>0.0</td>\n",
       "      <td>0.0</td>\n",
       "      <td>0.0</td>\n",
       "      <td>5.0</td>\n",
       "      <td>0.0</td>\n",
       "      <td>0.0</td>\n",
       "      <td>0.0</td>\n",
       "      <td>0.0</td>\n",
       "      <td>0.0</td>\n",
       "      <td>0.0</td>\n",
       "    </tr>\n",
       "    <tr>\n",
       "      <th>B002D4IBFM</th>\n",
       "      <td>0.0</td>\n",
       "      <td>0.0</td>\n",
       "      <td>0.0</td>\n",
       "      <td>0.0</td>\n",
       "      <td>0.0</td>\n",
       "      <td>0.0</td>\n",
       "      <td>0.0</td>\n",
       "      <td>0.0</td>\n",
       "      <td>0.0</td>\n",
       "      <td>0.0</td>\n",
       "      <td>...</td>\n",
       "      <td>0.0</td>\n",
       "      <td>0.0</td>\n",
       "      <td>0.0</td>\n",
       "      <td>0.0</td>\n",
       "      <td>5.0</td>\n",
       "      <td>0.0</td>\n",
       "      <td>0.0</td>\n",
       "      <td>0.0</td>\n",
       "      <td>0.0</td>\n",
       "      <td>0.0</td>\n",
       "    </tr>\n",
       "    <tr>\n",
       "      <th>B07YSFYJSH</th>\n",
       "      <td>0.0</td>\n",
       "      <td>0.0</td>\n",
       "      <td>0.0</td>\n",
       "      <td>0.0</td>\n",
       "      <td>0.0</td>\n",
       "      <td>0.0</td>\n",
       "      <td>0.0</td>\n",
       "      <td>0.0</td>\n",
       "      <td>0.0</td>\n",
       "      <td>0.0</td>\n",
       "      <td>...</td>\n",
       "      <td>0.0</td>\n",
       "      <td>0.0</td>\n",
       "      <td>0.0</td>\n",
       "      <td>0.0</td>\n",
       "      <td>0.0</td>\n",
       "      <td>0.0</td>\n",
       "      <td>0.0</td>\n",
       "      <td>5.0</td>\n",
       "      <td>0.0</td>\n",
       "      <td>0.0</td>\n",
       "    </tr>\n",
       "    <tr>\n",
       "      <th>B079TJVNLL</th>\n",
       "      <td>0.0</td>\n",
       "      <td>0.0</td>\n",
       "      <td>0.0</td>\n",
       "      <td>0.0</td>\n",
       "      <td>0.0</td>\n",
       "      <td>0.0</td>\n",
       "      <td>0.0</td>\n",
       "      <td>0.0</td>\n",
       "      <td>0.0</td>\n",
       "      <td>0.0</td>\n",
       "      <td>...</td>\n",
       "      <td>0.0</td>\n",
       "      <td>0.0</td>\n",
       "      <td>0.0</td>\n",
       "      <td>0.0</td>\n",
       "      <td>0.0</td>\n",
       "      <td>0.0</td>\n",
       "      <td>0.0</td>\n",
       "      <td>0.0</td>\n",
       "      <td>5.0</td>\n",
       "      <td>0.0</td>\n",
       "    </tr>\n",
       "    <tr>\n",
       "      <th>B00T9NSPH4</th>\n",
       "      <td>0.0</td>\n",
       "      <td>0.0</td>\n",
       "      <td>0.0</td>\n",
       "      <td>0.0</td>\n",
       "      <td>0.0</td>\n",
       "      <td>0.0</td>\n",
       "      <td>0.0</td>\n",
       "      <td>0.0</td>\n",
       "      <td>0.0</td>\n",
       "      <td>0.0</td>\n",
       "      <td>...</td>\n",
       "      <td>0.0</td>\n",
       "      <td>0.0</td>\n",
       "      <td>0.0</td>\n",
       "      <td>0.0</td>\n",
       "      <td>0.0</td>\n",
       "      <td>0.0</td>\n",
       "      <td>0.0</td>\n",
       "      <td>0.0</td>\n",
       "      <td>0.0</td>\n",
       "      <td>5.0</td>\n",
       "    </tr>\n",
       "  </tbody>\n",
       "</table>\n",
       "<p>3816 rows × 4560 columns</p>\n",
       "</div>"
      ],
      "text/plain": [
       "            AE473N3C62NCTUFKQ3S5MEG7VV6A  AGE43YVBZBNDKZXAYUH7T4PRVFMA  \\\n",
       "B01M1OFZOG                           5.0                           0.0   \n",
       "B07DM82YBT                           0.0                           5.0   \n",
       "B00JQI7JBK                           0.0                           0.0   \n",
       "B010B5ZE4U                           0.0                           0.0   \n",
       "B07STXMKKT                           0.0                           0.0   \n",
       "...                                  ...                           ...   \n",
       "B01M0DFPV1                           0.0                           0.0   \n",
       "B002D4IBFM                           0.0                           0.0   \n",
       "B07YSFYJSH                           0.0                           0.0   \n",
       "B079TJVNLL                           0.0                           0.0   \n",
       "B00T9NSPH4                           0.0                           0.0   \n",
       "\n",
       "            AFPNS3QJZSTRREDG6AWQPZWA76VA  AF62SIYNIKEFQXTYADQ5NWDNUYLQ  \\\n",
       "B01M1OFZOG                           0.0                           0.0   \n",
       "B07DM82YBT                           0.0                           0.0   \n",
       "B00JQI7JBK                           5.0                           0.0   \n",
       "B010B5ZE4U                           0.0                           5.0   \n",
       "B07STXMKKT                           0.0                           0.0   \n",
       "...                                  ...                           ...   \n",
       "B01M0DFPV1                           0.0                           0.0   \n",
       "B002D4IBFM                           0.0                           0.0   \n",
       "B07YSFYJSH                           0.0                           0.0   \n",
       "B079TJVNLL                           0.0                           0.0   \n",
       "B00T9NSPH4                           0.0                           0.0   \n",
       "\n",
       "            AFIS2P42MZBJ2KB6KO655YSZKELA  AHUGKUVWBYGBSXW3SSMMR2QNTKNQ  \\\n",
       "B01M1OFZOG                           0.0                           0.0   \n",
       "B07DM82YBT                           0.0                           0.0   \n",
       "B00JQI7JBK                           0.0                           0.0   \n",
       "B010B5ZE4U                           0.0                           0.0   \n",
       "B07STXMKKT                           5.0                           0.0   \n",
       "...                                  ...                           ...   \n",
       "B01M0DFPV1                           0.0                           0.0   \n",
       "B002D4IBFM                           0.0                           0.0   \n",
       "B07YSFYJSH                           0.0                           0.0   \n",
       "B079TJVNLL                           0.0                           0.0   \n",
       "B00T9NSPH4                           0.0                           0.0   \n",
       "\n",
       "            AFO456XNS5YAY3LHNVPLRJUJDCWA  AEBAUHHD6BLR276NRQL4IQZK7AIA  \\\n",
       "B01M1OFZOG                           0.0                           0.0   \n",
       "B07DM82YBT                           0.0                           0.0   \n",
       "B00JQI7JBK                           0.0                           0.0   \n",
       "B010B5ZE4U                           0.0                           0.0   \n",
       "B07STXMKKT                           0.0                           0.0   \n",
       "...                                  ...                           ...   \n",
       "B01M0DFPV1                           0.0                           0.0   \n",
       "B002D4IBFM                           0.0                           0.0   \n",
       "B07YSFYJSH                           0.0                           0.0   \n",
       "B079TJVNLL                           0.0                           0.0   \n",
       "B00T9NSPH4                           0.0                           0.0   \n",
       "\n",
       "            AGHABE2FIHA2R6QH6ZRXB2WOEJCA  AGHL4YKLZXMA6EJVQ3HMA7R7TAEQ  ...  \\\n",
       "B01M1OFZOG                           0.0                           0.0  ...   \n",
       "B07DM82YBT                           0.0                           0.0  ...   \n",
       "B00JQI7JBK                           0.0                           0.0  ...   \n",
       "B010B5ZE4U                           0.0                           0.0  ...   \n",
       "B07STXMKKT                           0.0                           0.0  ...   \n",
       "...                                  ...                           ...  ...   \n",
       "B01M0DFPV1                           0.0                           0.0  ...   \n",
       "B002D4IBFM                           0.0                           0.0  ...   \n",
       "B07YSFYJSH                           0.0                           0.0  ...   \n",
       "B079TJVNLL                           0.0                           0.0  ...   \n",
       "B00T9NSPH4                           0.0                           0.0  ...   \n",
       "\n",
       "            AHKTCQ5JJQOYHGAHBPKINIRVKUHQ  AHHRZK4U2MTWGIRT2M3U3SPQ6SZA  \\\n",
       "B01M1OFZOG                           0.0                           0.0   \n",
       "B07DM82YBT                           0.0                           0.0   \n",
       "B00JQI7JBK                           0.0                           0.0   \n",
       "B010B5ZE4U                           0.0                           0.0   \n",
       "B07STXMKKT                           0.0                           0.0   \n",
       "...                                  ...                           ...   \n",
       "B01M0DFPV1                           0.0                           0.0   \n",
       "B002D4IBFM                           0.0                           0.0   \n",
       "B07YSFYJSH                           0.0                           0.0   \n",
       "B079TJVNLL                           0.0                           0.0   \n",
       "B00T9NSPH4                           0.0                           0.0   \n",
       "\n",
       "            AER62CDQFLZ5HUQPV5PELHQBWCUQ  AEKJYOIX4FMCCFGQ7SKXDVIPPJDQ  \\\n",
       "B01M1OFZOG                           0.0                           0.0   \n",
       "B07DM82YBT                           0.0                           0.0   \n",
       "B00JQI7JBK                           0.0                           0.0   \n",
       "B010B5ZE4U                           0.0                           0.0   \n",
       "B07STXMKKT                           0.0                           0.0   \n",
       "...                                  ...                           ...   \n",
       "B01M0DFPV1                           0.0                           5.0   \n",
       "B002D4IBFM                           0.0                           0.0   \n",
       "B07YSFYJSH                           0.0                           0.0   \n",
       "B079TJVNLL                           0.0                           0.0   \n",
       "B00T9NSPH4                           0.0                           0.0   \n",
       "\n",
       "            AH2MORTGCST5G33AMEITA47QDK6Q  AGRH7ORHR745X5TSZDEO4RRU3HFQ  \\\n",
       "B01M1OFZOG                           0.0                           0.0   \n",
       "B07DM82YBT                           0.0                           0.0   \n",
       "B00JQI7JBK                           0.0                           0.0   \n",
       "B010B5ZE4U                           0.0                           0.0   \n",
       "B07STXMKKT                           0.0                           0.0   \n",
       "...                                  ...                           ...   \n",
       "B01M0DFPV1                           0.0                           0.0   \n",
       "B002D4IBFM                           5.0                           0.0   \n",
       "B07YSFYJSH                           0.0                           0.0   \n",
       "B079TJVNLL                           0.0                           0.0   \n",
       "B00T9NSPH4                           0.0                           0.0   \n",
       "\n",
       "            AGNN2ZWUN2WIUDVC3VCVRE6POMRA  AFFJEOWFZ6HHUIAYUJEKI4ANDLZQ  \\\n",
       "B01M1OFZOG                           0.0                           0.0   \n",
       "B07DM82YBT                           0.0                           0.0   \n",
       "B00JQI7JBK                           0.0                           0.0   \n",
       "B010B5ZE4U                           0.0                           0.0   \n",
       "B07STXMKKT                           0.0                           0.0   \n",
       "...                                  ...                           ...   \n",
       "B01M0DFPV1                           0.0                           0.0   \n",
       "B002D4IBFM                           0.0                           0.0   \n",
       "B07YSFYJSH                           0.0                           5.0   \n",
       "B079TJVNLL                           0.0                           0.0   \n",
       "B00T9NSPH4                           0.0                           0.0   \n",
       "\n",
       "            AHSO6LYXYFBTBYNY4V7R5LSED75Q  AENEHO4ZDUMMLNR5CIBZKZZXNKRA  \n",
       "B01M1OFZOG                           0.0                           0.0  \n",
       "B07DM82YBT                           0.0                           0.0  \n",
       "B00JQI7JBK                           0.0                           0.0  \n",
       "B010B5ZE4U                           0.0                           0.0  \n",
       "B07STXMKKT                           0.0                           0.0  \n",
       "...                                  ...                           ...  \n",
       "B01M0DFPV1                           0.0                           0.0  \n",
       "B002D4IBFM                           0.0                           0.0  \n",
       "B07YSFYJSH                           0.0                           0.0  \n",
       "B079TJVNLL                           5.0                           0.0  \n",
       "B00T9NSPH4                           0.0                           5.0  \n",
       "\n",
       "[3816 rows x 4560 columns]"
      ]
     },
     "execution_count": 44,
     "metadata": {},
     "output_type": "execute_result"
    }
   ],
   "source": [
    "t_df"
   ]
  },
  {
   "cell_type": "code",
   "execution_count": null,
   "id": "41e98967-b323-448c-af7b-4270c71226d2",
   "metadata": {},
   "outputs": [],
   "source": [
    "product_scores = np.dot(user_dist_df.T,t_df.T)\n",
    "product_scores "
   ]
  },
  {
   "cell_type": "code",
   "execution_count": null,
   "id": "32af8c9c-c4fe-4f78-857f-e75693b76329",
   "metadata": {
    "scrolled": true
   },
   "outputs": [],
   "source": [
    "## Similar user ids\n",
    "for i in top_user_ids:\n",
    "    print(user_df.index[i])"
   ]
  },
  {
   "cell_type": "code",
   "execution_count": null,
   "id": "7e4d5b5a-d4b8-4cef-b517-5b0e6b0ebccc",
   "metadata": {},
   "outputs": [],
   "source": [
    "user_rating = r_df['rating'][r_df['user_id'] == 'AFER7OPRGQOYGVSQCMVCPFLY4PKA']"
   ]
  },
  {
   "cell_type": "code",
   "execution_count": null,
   "id": "d01ad039-d33a-4308-b196-b9fa8ddf329a",
   "metadata": {},
   "outputs": [],
   "source": [
    "sim_products = [r_df['parent_asin'][r_df['user_id'] == i] for i in sim_ids]"
   ]
  },
  {
   "cell_type": "code",
   "execution_count": 45,
   "id": "23bb159c-a8d9-4711-992f-6e705109fe1d",
   "metadata": {},
   "outputs": [],
   "source": [
    "distance_df = pd.DataFrame(distances[0],columns=['Distance'])"
   ]
  },
  {
   "cell_type": "code",
   "execution_count": 46,
   "id": "ce659d3e-4875-43eb-b66b-c4b786237828",
   "metadata": {},
   "outputs": [],
   "source": [
    "indice_df = pd.DataFrame(indices[0],columns = ['Index'])"
   ]
  },
  {
   "cell_type": "code",
   "execution_count": 47,
   "id": "b408c85e-4fd5-4d04-99c5-b47d618d90a9",
   "metadata": {},
   "outputs": [],
   "source": [
    "score_ind = pd.concat([distance_df,indice_df],axis = 1)"
   ]
  },
  {
   "cell_type": "code",
   "execution_count": 48,
   "id": "0464667a-ccd8-41dd-9f7e-da5626fc2e10",
   "metadata": {},
   "outputs": [
    {
     "data": {
      "text/html": [
       "<div>\n",
       "<style scoped>\n",
       "    .dataframe tbody tr th:only-of-type {\n",
       "        vertical-align: middle;\n",
       "    }\n",
       "\n",
       "    .dataframe tbody tr th {\n",
       "        vertical-align: top;\n",
       "    }\n",
       "\n",
       "    .dataframe thead th {\n",
       "        text-align: right;\n",
       "    }\n",
       "</style>\n",
       "<table border=\"1\" class=\"dataframe\">\n",
       "  <thead>\n",
       "    <tr style=\"text-align: right;\">\n",
       "      <th></th>\n",
       "      <th>Distance</th>\n",
       "      <th>Index</th>\n",
       "    </tr>\n",
       "  </thead>\n",
       "  <tbody>\n",
       "    <tr>\n",
       "      <th>0</th>\n",
       "      <td>0.395182</td>\n",
       "      <td>1772</td>\n",
       "    </tr>\n",
       "    <tr>\n",
       "      <th>1</th>\n",
       "      <td>0.379780</td>\n",
       "      <td>2827</td>\n",
       "    </tr>\n",
       "    <tr>\n",
       "      <th>2</th>\n",
       "      <td>0.373747</td>\n",
       "      <td>2957</td>\n",
       "    </tr>\n",
       "    <tr>\n",
       "      <th>3</th>\n",
       "      <td>0.369976</td>\n",
       "      <td>59</td>\n",
       "    </tr>\n",
       "    <tr>\n",
       "      <th>4</th>\n",
       "      <td>0.365041</td>\n",
       "      <td>517</td>\n",
       "    </tr>\n",
       "    <tr>\n",
       "      <th>...</th>\n",
       "      <td>...</td>\n",
       "      <td>...</td>\n",
       "    </tr>\n",
       "    <tr>\n",
       "      <th>4555</th>\n",
       "      <td>-0.352158</td>\n",
       "      <td>1971</td>\n",
       "    </tr>\n",
       "    <tr>\n",
       "      <th>4556</th>\n",
       "      <td>-0.357317</td>\n",
       "      <td>2712</td>\n",
       "    </tr>\n",
       "    <tr>\n",
       "      <th>4557</th>\n",
       "      <td>-0.364813</td>\n",
       "      <td>4078</td>\n",
       "    </tr>\n",
       "    <tr>\n",
       "      <th>4558</th>\n",
       "      <td>-0.368823</td>\n",
       "      <td>1272</td>\n",
       "    </tr>\n",
       "    <tr>\n",
       "      <th>4559</th>\n",
       "      <td>-0.385045</td>\n",
       "      <td>3594</td>\n",
       "    </tr>\n",
       "  </tbody>\n",
       "</table>\n",
       "<p>4560 rows × 2 columns</p>\n",
       "</div>"
      ],
      "text/plain": [
       "      Distance  Index\n",
       "0     0.395182   1772\n",
       "1     0.379780   2827\n",
       "2     0.373747   2957\n",
       "3     0.369976     59\n",
       "4     0.365041    517\n",
       "...        ...    ...\n",
       "4555 -0.352158   1971\n",
       "4556 -0.357317   2712\n",
       "4557 -0.364813   4078\n",
       "4558 -0.368823   1272\n",
       "4559 -0.385045   3594\n",
       "\n",
       "[4560 rows x 2 columns]"
      ]
     },
     "execution_count": 48,
     "metadata": {},
     "output_type": "execute_result"
    }
   ],
   "source": [
    "score_ind"
   ]
  },
  {
   "cell_type": "code",
   "execution_count": null,
   "id": "704f05af-8d64-4977-a398-1ecd3b558ce0",
   "metadata": {},
   "outputs": [],
   "source": [
    "item_df.index[6424]"
   ]
  },
  {
   "cell_type": "code",
   "execution_count": null,
   "id": "cdeb6478-dbbe-4b68-b573-f894e603b270",
   "metadata": {},
   "outputs": [],
   "source": [
    "print(new_df['images_y'].iloc[2154][0]['large'])\n",
    "print(new_df['images_y'].iloc[1037][0]['large'])\n",
    "print(new_df['images_y'].iloc[6424][0]['large'])\n",
    "print(new_df['images_y'].iloc[7250][0]['large'])\n",
    "print(new_df['images_y'].iloc[252][0]['large'])\n"
   ]
  },
  {
   "cell_type": "code",
   "execution_count": null,
   "id": "e4c2c6e5-bb2d-4540-b174-1d12cfa8322f",
   "metadata": {
    "scrolled": true
   },
   "outputs": [],
   "source": [
    "print(new_df['title_y'].iloc[2154] )\n",
    "print(new_df['title_y'].iloc[1037])\n",
    "print(new_df['title_y'].iloc[6424])\n",
    "print(new_df['title_y'].iloc[7250])\n",
    "print(new_df['title_y'].iloc[252])"
   ]
  },
  {
   "cell_type": "code",
   "execution_count": null,
   "id": "83e1a70b-3451-45ee-adb4-b944114457ad",
   "metadata": {},
   "outputs": [],
   "source": [
    "#!pip install pyspark"
   ]
  },
  {
   "cell_type": "code",
   "execution_count": null,
   "id": "8ac91a83-efda-41a8-a84b-871e329136e7",
   "metadata": {},
   "outputs": [],
   "source": [
    "#from pyspark.sql import SparkSession"
   ]
  },
  {
   "cell_type": "code",
   "execution_count": null,
   "id": "7960f244-4e51-46aa-a98f-f7c8b57fa43b",
   "metadata": {},
   "outputs": [],
   "source": [
    "#spark = SparkSession.builder.appName(\"MyFirstSparkApp\").getOrCreate()"
   ]
  },
  {
   "cell_type": "code",
   "execution_count": null,
   "id": "697c5245-9988-44eb-b1f6-8d7a48d327a4",
   "metadata": {},
   "outputs": [],
   "source": [
    "#import os\n",
    "#print(\"JAVA_HOME:\", os.environ.get(\"JAVA_HOME\"))"
   ]
  },
  {
   "cell_type": "code",
   "execution_count": null,
   "id": "0d3a89bc-fc51-45af-adcd-1a6c0203c588",
   "metadata": {},
   "outputs": [],
   "source": [
    "#user_df = pd.DataFrame(user_mat)"
   ]
  },
  {
   "cell_type": "code",
   "execution_count": null,
   "id": "7976487f-3e23-4412-93c4-65b189c3526b",
   "metadata": {},
   "outputs": [],
   "source": [
    "#item_df = pd.DataFrame(item_mat)"
   ]
  },
  {
   "cell_type": "code",
   "execution_count": null,
   "id": "9dbbb337-6119-47fd-993d-edf6eb04d867",
   "metadata": {},
   "outputs": [],
   "source": [
    "#df_spark = spark.createDataFrame(item_df)"
   ]
  },
  {
   "cell_type": "code",
   "execution_count": null,
   "id": "581630a4-68fd-4be6-91f3-ac9f571cb7b3",
   "metadata": {},
   "outputs": [],
   "source": [
    "#spark_user_df = spark.createDataFrame(user_mat)"
   ]
  },
  {
   "cell_type": "code",
   "execution_count": null,
   "id": "1d8b4dc9-16b7-4ccb-9f14-77d837c37b2f",
   "metadata": {},
   "outputs": [],
   "source": []
  },
  {
   "cell_type": "code",
   "execution_count": null,
   "id": "90f8f521-aa40-4c62-b44e-60c0b8ae6308",
   "metadata": {},
   "outputs": [],
   "source": []
  }
 ],
 "metadata": {
  "kernelspec": {
   "display_name": "Python 3 (ipykernel)",
   "language": "python",
   "name": "python3"
  },
  "language_info": {
   "codemirror_mode": {
    "name": "ipython",
    "version": 3
   },
   "file_extension": ".py",
   "mimetype": "text/x-python",
   "name": "python",
   "nbconvert_exporter": "python",
   "pygments_lexer": "ipython3",
   "version": "3.12.3"
  }
 },
 "nbformat": 4,
 "nbformat_minor": 5
}
