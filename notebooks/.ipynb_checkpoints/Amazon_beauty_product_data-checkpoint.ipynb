{
 "cells": [
  {
   "cell_type": "code",
   "execution_count": 23,
   "id": "8a9882ab-0d76-4a73-a1fa-a0d3e24177a6",
   "metadata": {},
   "outputs": [],
   "source": [
    "! pip install gensim"
   ]
  },
  {
   "cell_type": "code",
   "execution_count": 1,
   "id": "c64cc29f-74c5-4ffc-87c8-c509085b5570",
   "metadata": {},
   "outputs": [
    {
     "name": "stdout",
     "output_type": "stream",
     "text": [
      "C:\\Users\\Rishabh\\AppData\\Local\\Programs\\Python\\Python312\\python.exe\n"
     ]
    }
   ],
   "source": [
    "import sys\n",
    "print(sys.executable)"
   ]
  },
  {
   "cell_type": "code",
   "execution_count": 2,
   "id": "1bbe4a21-3892-478f-b653-19c28201b036",
   "metadata": {},
   "outputs": [],
   "source": [
    "import pandas as pd \n",
    "import numpy as np\n",
    "import json\n",
    "import os\n",
    "import json\n",
    "import gzip\n",
    "# from nltk.tokenize import word_tokenize\n",
    "import gensim\n",
    "from gensim.models import word2vec\n",
    "import warnings\n",
    "warnings.filterwarnings('ignore')"
   ]
  },
  {
   "cell_type": "code",
   "execution_count": 27,
   "id": "f2df1cd6-5129-450b-b011-26a9e077f444",
   "metadata": {},
   "outputs": [],
   "source": [
    "data = []\n",
    "\n",
    "with open(r\"C:\\Users\\Rishabh\\Downloads\\Amazon_Project_Data\\Beauty\\meta_All_Beauty.jsonl (1).gz\", \"rt\", encoding=\"utf-8\") as fp:\n",
    "    for line in fp:\n",
    "        data_line = json.loads(line.strip())\n",
    "        data.append(data_line)"
   ]
  },
  {
   "cell_type": "code",
   "execution_count": 28,
   "id": "cdc745f4-e538-4b6b-b7ac-244eb67c6707",
   "metadata": {},
   "outputs": [],
   "source": [
    "df = pd.DataFrame(data)"
   ]
  },
  {
   "cell_type": "code",
   "execution_count": 29,
   "id": "1e8847cd-f77e-4b33-9bbf-1f17a802a0c8",
   "metadata": {},
   "outputs": [
    {
     "data": {
      "text/plain": [
       "Index(['main_category', 'title', 'average_rating', 'rating_number', 'features',\n",
       "       'description', 'price', 'images', 'videos', 'store', 'categories',\n",
       "       'details', 'parent_asin', 'bought_together'],\n",
       "      dtype='object')"
      ]
     },
     "execution_count": 29,
     "metadata": {},
     "output_type": "execute_result"
    }
   ],
   "source": [
    "df.columns"
   ]
  },
  {
   "cell_type": "code",
   "execution_count": 30,
   "id": "7f42c8f6-b3ee-4a41-bec2-a16bf1412e34",
   "metadata": {},
   "outputs": [],
   "source": [
    "np.random.seed(42)"
   ]
  },
  {
   "cell_type": "code",
   "execution_count": 90,
   "id": "e1f5d13c-1bc7-4c3e-b323-80eba638b93e",
   "metadata": {},
   "outputs": [],
   "source": [
    "#df = df.sample(frac = 0.5).reset_index()"
   ]
  },
  {
   "cell_type": "code",
   "execution_count": 31,
   "id": "4163779a-c69a-41cd-8184-55b05ac5d9ad",
   "metadata": {},
   "outputs": [
    {
     "data": {
      "text/plain": [
       "(112590, 14)"
      ]
     },
     "execution_count": 31,
     "metadata": {},
     "output_type": "execute_result"
    }
   ],
   "source": [
    "df.shape"
   ]
  },
  {
   "cell_type": "code",
   "execution_count": 36,
   "id": "e744d087-002b-4fca-bd60-efdac09eca04",
   "metadata": {},
   "outputs": [
    {
     "data": {
      "text/plain": [
       "112590"
      ]
     },
     "execution_count": 36,
     "metadata": {},
     "output_type": "execute_result"
    }
   ],
   "source": [
    "len(df['parent_asin'].unique())"
   ]
  },
  {
   "cell_type": "code",
   "execution_count": 37,
   "id": "f650260e-1c4d-41f4-af56-b60086c297f1",
   "metadata": {},
   "outputs": [
    {
     "data": {
      "text/plain": [
       "Index(['main_category', 'title', 'average_rating', 'rating_number', 'features',\n",
       "       'description', 'price', 'images', 'videos', 'store', 'categories',\n",
       "       'details', 'parent_asin', 'bought_together', 'org_title'],\n",
       "      dtype='object')"
      ]
     },
     "execution_count": 37,
     "metadata": {},
     "output_type": "execute_result"
    }
   ],
   "source": [
    "df.columns"
   ]
  },
  {
   "cell_type": "code",
   "execution_count": 38,
   "id": "2b302268-e25d-464d-a4c3-670176955196",
   "metadata": {},
   "outputs": [],
   "source": [
    "df['org_title'] = df['title'].copy()"
   ]
  },
  {
   "cell_type": "code",
   "execution_count": 39,
   "id": "ef5923b8-705e-47b1-a8ff-6cdbc9d1d2d0",
   "metadata": {},
   "outputs": [],
   "source": [
    "## Lower The strings ##\n",
    "df['title'] = df['title'].str.lower() "
   ]
  },
  {
   "cell_type": "code",
   "execution_count": 40,
   "id": "16e19591-c60f-43ff-91be-e0a6dc87593e",
   "metadata": {},
   "outputs": [],
   "source": [
    "def remove_punct(string):\n",
    "    for i in string:\n",
    "        puncts = '''!()-[]{};:'\",<>./?@#$%^&*_~'''\n",
    "        if i in puncts:\n",
    "           string = string.replace(i,'')\n",
    "            \n",
    "    return string"
   ]
  },
  {
   "cell_type": "code",
   "execution_count": 41,
   "id": "41bfb205-5149-4ccf-8491-e250c853c092",
   "metadata": {},
   "outputs": [],
   "source": [
    "df['title'] = df['title'].apply(lambda x: remove_punct(x)) "
   ]
  },
  {
   "cell_type": "code",
   "execution_count": 43,
   "id": "9f79679c-1e05-41ad-8d69-2fc9a68751f4",
   "metadata": {},
   "outputs": [],
   "source": [
    "# import nltk\n",
    "# nltk.download('punkt_tab')\n",
    "\n",
    "# df['title'] = df['title'].apply(lambda x: word_tokenize(x)) "
   ]
  },
  {
   "cell_type": "code",
   "execution_count": 17,
   "id": "a7ef5c3f-ca86-4215-a81d-aef74e844d7c",
   "metadata": {},
   "outputs": [
    {
     "data": {
      "text/plain": [
       "55717    [pink, lace, front, wigs, long, straight, hair...\n",
       "31646    [antiaging, sunscreen, spf, 50+, duolys, 50, m...\n",
       "41338    [jbeauty, jade, roller, for, face, –, jade, ro...\n",
       "70695    [bandai, go, princess, pretty, princess, perfume]\n",
       "79597    [easypowder, lovely, ruddy, blusher, powder, b...\n",
       "Name: title, dtype: object"
      ]
     },
     "execution_count": 17,
     "metadata": {},
     "output_type": "execute_result"
    }
   ],
   "source": [
    "df['title'].sample(5)"
   ]
  },
  {
   "cell_type": "code",
   "execution_count": 18,
   "id": "5a5ca78e-b4e0-495b-b17b-72339a6d823c",
   "metadata": {},
   "outputs": [],
   "source": [
    "from nltk.corpus import stopwords\n",
    "stopwords = stopwords.words('english')"
   ]
  },
  {
   "cell_type": "code",
   "execution_count": 19,
   "id": "14dd5b2f-af6b-4c93-9d7c-51099135fd9c",
   "metadata": {},
   "outputs": [],
   "source": [
    "def remove_stopwords(text):\n",
    "    for i in text:\n",
    "        if i in stopwords:\n",
    "            text.remove(i)\n",
    "    return text"
   ]
  },
  {
   "cell_type": "code",
   "execution_count": 20,
   "id": "cd8f1b53-5330-4ecd-9c1d-53f0a63f43bf",
   "metadata": {},
   "outputs": [],
   "source": [
    "df['title'] = df['title'].apply(lambda x: remove_stopwords(x)) "
   ]
  },
  {
   "cell_type": "code",
   "execution_count": 18,
   "id": "3603b529-481a-4d14-a459-97ee9b42833c",
   "metadata": {},
   "outputs": [],
   "source": [
    "model = gensim.models.Word2Vec(df['title'],min_count = 1)"
   ]
  },
  {
   "cell_type": "code",
   "execution_count": 19,
   "id": "91e6a8aa-0c7d-4df5-96f5-ad1f9df578c0",
   "metadata": {},
   "outputs": [],
   "source": [
    "from sklearn.metrics.pairwise import cosine_similarity\n",
    "\n",
    "def similarity(title_1,title_2):\n",
    "\n",
    "    ## Extract the learned word embeddings after training  \n",
    "    title_1_tokens  = [i for i in title_1 if i in model.wv]\n",
    "    title_2_tokens  = [i for i in title_2 if i in model.wv]\n",
    "\n",
    "    ## average the word embeddings vector to convert to fixed-size vectors\n",
    "    if not title_1_tokens or not title_2_tokens:  # Handle cases where no words are found in the model's vocabulary\n",
    "        return 0\n",
    "\n",
    "    \n",
    "    title_1_vec = np.mean(model.wv[title_1_tokens],axis = 0)\n",
    "    title_2_vec = np.mean(model.wv[title_2_tokens],axis = 0)\n",
    "\n",
    "    ## Calculate Similarity between 2 vectors (titles) \n",
    "    similarity = cosine_similarity([title_1_vec],[title_2_vec])[0][0]\n",
    "    return similarity\n",
    "    "
   ]
  },
  {
   "cell_type": "code",
   "execution_count": 20,
   "id": "90439244-b449-43f5-b1b1-ef4aa3b328f5",
   "metadata": {},
   "outputs": [],
   "source": [
    "title_1 = df['org_title'][0]\n",
    "\n",
    "title_2 = df['org_title'][100]"
   ]
  },
  {
   "cell_type": "code",
   "execution_count": 21,
   "id": "63f2dd8d-155a-43fa-87bf-5f08da6d6380",
   "metadata": {
    "scrolled": true
   },
   "outputs": [
    {
     "data": {
      "text/plain": [
       "0.960667"
      ]
     },
     "execution_count": 21,
     "metadata": {},
     "output_type": "execute_result"
    }
   ],
   "source": [
    "similarity(title_1,title_2)"
   ]
  },
  {
   "cell_type": "code",
   "execution_count": 22,
   "id": "12c2263f-6f62-46c8-889f-15a005077e47",
   "metadata": {},
   "outputs": [],
   "source": [
    "title_1 = df['title'].iloc[0]\n",
    "title_2 = df['title'].iloc[2]\n",
    "\n",
    "title_1_tokens  = [i for i in title_1 if i in model.wv]\n",
    "title_2_tokens  = [i for i in title_2 if i in model.wv]\n",
    "\n",
    "title_1_vec = np.mean(model.wv[title_1_tokens],axis = 0)\n",
    "title_2_vec = np.mean(model.wv[title_2_tokens],axis = 0)\n",
    "\n",
    "for i in range(len(df[0:10000])):\n",
    "    sims  = similarity(title_1,df['title'].iloc[i])\n",
    "\n",
    "\n",
    "def top_similar_titles(title,top_n):    \n",
    "    similar_scores = [[similarity(title,df['title'].iloc[i]),i] for i in range(len(df[100:10000]))]\n",
    "    similar_indices = [i[1] for i in similar_scores]\n",
    "\n",
    "    \n",
    "    return sorted(similar_scores,reverse = False)"
   ]
  },
  {
   "cell_type": "code",
   "execution_count": 23,
   "id": "5507c884-73af-48bb-bae2-69c2e25f614d",
   "metadata": {},
   "outputs": [],
   "source": [
    "sim = top_similar_titles(df['title'].iloc[34],10) \n"
   ]
  },
  {
   "cell_type": "code",
   "execution_count": 24,
   "id": "6c93b5d8-d795-442a-b76e-44641a77d8c5",
   "metadata": {},
   "outputs": [
    {
     "data": {
      "text/plain": [
       "array([ 1.2574544 ,  0.34570968, -0.84810084,  0.66770184, -0.36884704,\n",
       "       -2.4235668 ,  0.5455924 ,  1.183912  , -0.7023015 , -0.752336  ,\n",
       "        0.6540183 , -0.73326486, -0.6722449 ,  1.2680819 , -1.0406055 ,\n",
       "       -0.9365909 ,  0.926579  , -1.6084276 , -0.1635147 , -1.031728  ,\n",
       "        1.4208814 ,  0.5933562 ,  1.1356114 ,  1.1182085 , -0.42238766,\n",
       "        0.0210262 , -0.4408751 ,  1.4760416 , -0.2165213 ,  0.7327777 ,\n",
       "        1.4910208 , -2.0070012 ,  0.21272264, -1.1293547 , -0.20883653,\n",
       "        0.9863812 ,  1.5477316 ,  0.69328964, -0.87475365, -0.16768   ,\n",
       "        0.337223  , -0.7292831 , -0.5815258 , -0.12541948, -0.39999744,\n",
       "       -0.4937373 , -0.3348204 ,  0.25993714, -0.13719302,  0.779443  ,\n",
       "        0.35906023, -0.8656678 , -0.10253688,  1.880451  , -0.43105012,\n",
       "       -1.113993  ,  1.5708125 ,  0.21263139, -1.1287044 , -1.7788495 ,\n",
       "       -0.67035884,  0.45290217, -0.17387669, -0.04160349, -1.3620741 ,\n",
       "        2.438785  , -0.15819795,  0.21940467, -0.68111503,  1.5731177 ,\n",
       "       -0.4992226 ,  0.08580693,  0.23942068, -0.3559404 ,  0.20750904,\n",
       "        0.06315964, -0.40370718,  3.1056972 , -1.7826965 ,  0.27386594,\n",
       "       -1.3141415 ,  0.6646021 , -0.39285532,  1.3274124 , -0.4334259 ,\n",
       "       -0.8438667 ,  0.8167676 ,  0.5781385 ,  0.23130968,  1.1419284 ,\n",
       "       -0.37706107,  0.47976097, -0.53485817,  0.21516739,  2.2785099 ,\n",
       "       -0.5380525 , -0.48011413, -1.1943194 ,  0.20374203,  0.29072815],\n",
       "      dtype=float32)"
      ]
     },
     "execution_count": 24,
     "metadata": {},
     "output_type": "execute_result"
    }
   ],
   "source": [
    "title_1_vec"
   ]
  },
  {
   "cell_type": "code",
   "execution_count": 25,
   "id": "b1ee679c-cd15-4d03-bfcc-bb9e640c961c",
   "metadata": {},
   "outputs": [
    {
     "data": {
      "text/plain": [
       "[-0.19478232, 2028]"
      ]
     },
     "execution_count": 25,
     "metadata": {},
     "output_type": "execute_result"
    }
   ],
   "source": [
    "sim[0]"
   ]
  },
  {
   "cell_type": "code",
   "execution_count": 26,
   "id": "dcbace6e-aadf-46e9-8d75-ae021baf3f80",
   "metadata": {},
   "outputs": [],
   "source": [
    "last_df = df[['title','parent_asin']]"
   ]
  },
  {
   "cell_type": "code",
   "execution_count": 27,
   "id": "f2b4e29e-b5f6-4fc6-a72e-4295fa0ceec7",
   "metadata": {},
   "outputs": [],
   "source": [
    "title_1_tokens  = [i for i in title_1 if i in model.wv]"
   ]
  },
  {
   "cell_type": "code",
   "execution_count": 28,
   "id": "0863de42-491c-4f78-93f1-a5bc07cf1b7f",
   "metadata": {},
   "outputs": [],
   "source": [
    "last_df['tokens'] = last_df['title'].apply(lambda x:[i for i in x if i in model.wv])"
   ]
  },
  {
   "cell_type": "code",
   "execution_count": 29,
   "id": "30f7bf33-7b3b-4c09-83b1-10cb9751d8ce",
   "metadata": {},
   "outputs": [
    {
     "data": {
      "text/plain": [
       "100"
      ]
     },
     "execution_count": 29,
     "metadata": {},
     "output_type": "execute_result"
    }
   ],
   "source": [
    "model.vector_size"
   ]
  },
  {
   "cell_type": "code",
   "execution_count": 30,
   "id": "97ce9908-36cb-42d7-9fe3-79d51ade9d6b",
   "metadata": {},
   "outputs": [],
   "source": [
    "def vec_mean(title_tokens):\n",
    "    vecs = [model.wv[i] for i in title_tokens if i in model.wv]\n",
    "    if len(vecs) > 0:\n",
    "        mean_vecs = np.mean(vecs,axis = 0)\n",
    "        return mean_vecs\n",
    "    else:\n",
    "        return np.zeros(model.vector_size)\n",
    "    \n",
    "    "
   ]
  },
  {
   "cell_type": "code",
   "execution_count": 31,
   "id": "85350875-4bee-473f-990d-bbe97ad58a41",
   "metadata": {},
   "outputs": [
    {
     "data": {
      "text/plain": [
       "100"
      ]
     },
     "execution_count": 31,
     "metadata": {},
     "output_type": "execute_result"
    }
   ],
   "source": [
    "len(vec_mean(last_df['tokens'].iloc[56]))"
   ]
  },
  {
   "cell_type": "code",
   "execution_count": 32,
   "id": "0130f8ff-5b61-4a05-893c-158da2689432",
   "metadata": {},
   "outputs": [],
   "source": [
    "last_df['tokens_vecs'] = last_df['tokens'].apply(lambda x: vec_mean(x))"
   ]
  },
  {
   "cell_type": "code",
   "execution_count": 33,
   "id": "bda20450-fc9a-48d4-aa3e-f0106dc41f86",
   "metadata": {},
   "outputs": [],
   "source": [
    "last_df.set_index('parent_asin',inplace = True)"
   ]
  },
  {
   "cell_type": "code",
   "execution_count": 34,
   "id": "cf2cc043-5dc3-4efc-b8fd-55bc01318dbd",
   "metadata": {},
   "outputs": [],
   "source": [
    "last_df.drop(columns =['title','tokens'],inplace = True)"
   ]
  },
  {
   "cell_type": "code",
   "execution_count": 36,
   "id": "fc2820c6-b5da-48b8-9945-d6483db42fb4",
   "metadata": {},
   "outputs": [],
   "source": [
    "last_df= last_df['tokens_vecs'].apply(pd.Series)"
   ]
  },
  {
   "cell_type": "code",
   "execution_count": 49,
   "id": "ff86ca90-af17-4384-8605-7329721d0188",
   "metadata": {},
   "outputs": [
    {
     "data": {
      "text/plain": [
       "56295"
      ]
     },
     "execution_count": 49,
     "metadata": {},
     "output_type": "execute_result"
    }
   ],
   "source": [
    "last_df.shape[0]"
   ]
  },
  {
   "cell_type": "code",
   "execution_count": 50,
   "id": "7cf29de3-8c90-4dbf-8414-2e886b128822",
   "metadata": {},
   "outputs": [],
   "source": [
    "\n",
    "import faiss\n",
    "d = last_df.shape[1]\n",
    "index = faiss.IndexFlatIP(d)\n",
    "index.add(last_df)  \n",
    "k= last_df.shape[0]\n"
   ]
  },
  {
   "cell_type": "code",
   "execution_count": 39,
   "id": "4b96147e-206d-40ff-a6d5-17bd819453ca",
   "metadata": {},
   "outputs": [],
   "source": [
    "f  = np.reshape(last_df.iloc[30],(1,-1))"
   ]
  },
  {
   "cell_type": "code",
   "execution_count": 52,
   "id": "2f836915-8e04-45ef-92da-30173a2e363c",
   "metadata": {},
   "outputs": [],
   "source": [
    "distance,indices = index.search(f,k)"
   ]
  },
  {
   "cell_type": "code",
   "execution_count": 41,
   "id": "a8cd7eaa-c3c9-495e-81f3-2d0125d16e8b",
   "metadata": {},
   "outputs": [
    {
     "data": {
      "text/plain": [
       "array([[31440, 29099, 40966, ..., 22115, 35677,  4130]], dtype=int64)"
      ]
     },
     "execution_count": 41,
     "metadata": {},
     "output_type": "execute_result"
    }
   ],
   "source": [
    "indices"
   ]
  },
  {
   "cell_type": "code",
   "execution_count": 54,
   "id": "b8e376ea-0b74-4fea-8a14-a5c63589e460",
   "metadata": {
    "scrolled": true
   },
   "outputs": [
    {
     "data": {
      "text/plain": [
       "array([[77.19219  , 73.786705 , 71.12749  , ..., -2.3494132, -3.2257898,\n",
       "        -8.2658615]], dtype=float32)"
      ]
     },
     "execution_count": 54,
     "metadata": {},
     "output_type": "execute_result"
    }
   ],
   "source": [
    "distance"
   ]
  },
  {
   "cell_type": "code",
   "execution_count": 43,
   "id": "c1185d13-014a-4ece-91b1-8039af5d7f44",
   "metadata": {},
   "outputs": [
    {
     "name": "stdout",
     "output_type": "stream",
     "text": [
      "Human Hair Clip in Remy Hair Extensions\n",
      "human hair ponytail\n",
      "Tape in Extensions Real Remy Human Hair Curly Tape in Extensions Invisible Tape in Extensions Double Sided Tape on Remy Hair\n",
      "Human Hair Clip in Extensions Blonde 24 inch Clip in Hair Extensions Human Hair Blonde JoYoung Real Hair Extensions Clip in Human Hair Ash Blonde to Blonde Balayage Clip in Human Hair Extensions\n",
      "Tape Hair Extensions Human Hair 14 Inch Remy Tape in Hair Extensions Medium Blonde #21 Tape in Extensions Human Hair 20pcs Seamless Tape in Hair Extensions Real Hair 50g Tape on Hair Extensions\n",
      "Remy Hair Extensions Human Hair Tape in Extensions Seamless Skin Weft Tape in Hair 20PCS 50G\n"
     ]
    }
   ],
   "source": [
    "print(df['org_title'].iloc[31440])\n",
    "print(df['org_title'].iloc[29099])\n",
    "print(df['org_title'].iloc[40966])\n",
    "print(df['org_title'].iloc[3365])\n",
    "print(df['org_title'].iloc[54822])\n",
    "print(df['org_title'].iloc[17125])"
   ]
  },
  {
   "cell_type": "code",
   "execution_count": 57,
   "id": "a39997bf-3803-4e74-a910-62a38690d07c",
   "metadata": {},
   "outputs": [],
   "source": [
    "similiar_product_index = indices[0]"
   ]
  },
  {
   "cell_type": "code",
   "execution_count": 70,
   "id": "5c90d745-fa7f-4fba-9a34-eb30ab569dfd",
   "metadata": {},
   "outputs": [
    {
     "data": {
      "text/plain": [
       "56295"
      ]
     },
     "execution_count": 70,
     "metadata": {},
     "output_type": "execute_result"
    }
   ],
   "source": [
    "a = df['parent_asin'].unique()\n",
    "len(a)"
   ]
  },
  {
   "cell_type": "code",
   "execution_count": null,
   "id": "2e5170d3-a05f-4a2c-a046-c3734c926eb2",
   "metadata": {},
   "outputs": [],
   "source": []
  },
  {
   "cell_type": "code",
   "execution_count": 74,
   "id": "559bde50-32a5-42e5-9a6b-86aa5a77d16b",
   "metadata": {},
   "outputs": [
    {
     "data": {
      "text/plain": [
       "'B08BZDCBWV'"
      ]
     },
     "execution_count": 74,
     "metadata": {},
     "output_type": "execute_result"
    }
   ],
   "source": [
    "df['parent_asin'].loc[31440]"
   ]
  },
  {
   "cell_type": "code",
   "execution_count": 44,
   "id": "0c5c1ec5-da56-4b07-be63-6d778bff7cbe",
   "metadata": {},
   "outputs": [],
   "source": [
    "distance_df = pd.DataFrame(distance[0],columns=['Distance'])"
   ]
  },
  {
   "cell_type": "code",
   "execution_count": 45,
   "id": "4548b597-3467-4654-b2d3-80edba4b0046",
   "metadata": {},
   "outputs": [],
   "source": [
    "indice_df = pd.DataFrame(indices[0],columns = ['Index'])"
   ]
  },
  {
   "cell_type": "code",
   "execution_count": 82,
   "id": "ed1a1630-ee97-4c1e-91c9-e5e854d3658f",
   "metadata": {},
   "outputs": [],
   "source": [
    "score_index = pd.concat([distance_df,indice_df],axis = 1)"
   ]
  },
  {
   "cell_type": "code",
   "execution_count": 83,
   "id": "53e75a0b-5220-441c-b3f7-031876f8917a",
   "metadata": {},
   "outputs": [],
   "source": [
    "score_index['product_id'] = score_index['Index'].apply(lambda x: df['parent_asin'].loc[x])"
   ]
  },
  {
   "cell_type": "code",
   "execution_count": 84,
   "id": "f9f7ddb9-546a-4f6f-a3b5-0e70e6d46aaa",
   "metadata": {},
   "outputs": [
    {
     "data": {
      "text/html": [
       "<div>\n",
       "<style scoped>\n",
       "    .dataframe tbody tr th:only-of-type {\n",
       "        vertical-align: middle;\n",
       "    }\n",
       "\n",
       "    .dataframe tbody tr th {\n",
       "        vertical-align: top;\n",
       "    }\n",
       "\n",
       "    .dataframe thead th {\n",
       "        text-align: right;\n",
       "    }\n",
       "</style>\n",
       "<table border=\"1\" class=\"dataframe\">\n",
       "  <thead>\n",
       "    <tr style=\"text-align: right;\">\n",
       "      <th></th>\n",
       "      <th>Distance</th>\n",
       "      <th>Index</th>\n",
       "      <th>product_id</th>\n",
       "    </tr>\n",
       "  </thead>\n",
       "  <tbody>\n",
       "    <tr>\n",
       "      <th>0</th>\n",
       "      <td>77.192192</td>\n",
       "      <td>31440</td>\n",
       "      <td>B08BZDCBWV</td>\n",
       "    </tr>\n",
       "    <tr>\n",
       "      <th>1</th>\n",
       "      <td>73.786705</td>\n",
       "      <td>29099</td>\n",
       "      <td>B083FVFVL2</td>\n",
       "    </tr>\n",
       "    <tr>\n",
       "      <th>2</th>\n",
       "      <td>71.127487</td>\n",
       "      <td>40966</td>\n",
       "      <td>B07FXG5MGR</td>\n",
       "    </tr>\n",
       "    <tr>\n",
       "      <th>3</th>\n",
       "      <td>70.087845</td>\n",
       "      <td>3365</td>\n",
       "      <td>B0882YCGYQ</td>\n",
       "    </tr>\n",
       "    <tr>\n",
       "      <th>4</th>\n",
       "      <td>67.734161</td>\n",
       "      <td>54822</td>\n",
       "      <td>B081J9PDR1</td>\n",
       "    </tr>\n",
       "    <tr>\n",
       "      <th>...</th>\n",
       "      <td>...</td>\n",
       "      <td>...</td>\n",
       "      <td>...</td>\n",
       "    </tr>\n",
       "    <tr>\n",
       "      <th>56290</th>\n",
       "      <td>-2.052906</td>\n",
       "      <td>31740</td>\n",
       "      <td>B01BB3JT9W</td>\n",
       "    </tr>\n",
       "    <tr>\n",
       "      <th>56291</th>\n",
       "      <td>-2.167047</td>\n",
       "      <td>44371</td>\n",
       "      <td>B0009X1N7W</td>\n",
       "    </tr>\n",
       "    <tr>\n",
       "      <th>56292</th>\n",
       "      <td>-2.349413</td>\n",
       "      <td>22115</td>\n",
       "      <td>B0186C71NC</td>\n",
       "    </tr>\n",
       "    <tr>\n",
       "      <th>56293</th>\n",
       "      <td>-3.225790</td>\n",
       "      <td>35677</td>\n",
       "      <td>B08BPFVJXB</td>\n",
       "    </tr>\n",
       "    <tr>\n",
       "      <th>56294</th>\n",
       "      <td>-8.265862</td>\n",
       "      <td>4130</td>\n",
       "      <td>B07TJQ6NN1</td>\n",
       "    </tr>\n",
       "  </tbody>\n",
       "</table>\n",
       "<p>56295 rows × 3 columns</p>\n",
       "</div>"
      ],
      "text/plain": [
       "        Distance  Index  product_id\n",
       "0      77.192192  31440  B08BZDCBWV\n",
       "1      73.786705  29099  B083FVFVL2\n",
       "2      71.127487  40966  B07FXG5MGR\n",
       "3      70.087845   3365  B0882YCGYQ\n",
       "4      67.734161  54822  B081J9PDR1\n",
       "...          ...    ...         ...\n",
       "56290  -2.052906  31740  B01BB3JT9W\n",
       "56291  -2.167047  44371  B0009X1N7W\n",
       "56292  -2.349413  22115  B0186C71NC\n",
       "56293  -3.225790  35677  B08BPFVJXB\n",
       "56294  -8.265862   4130  B07TJQ6NN1\n",
       "\n",
       "[56295 rows x 3 columns]"
      ]
     },
     "execution_count": 84,
     "metadata": {},
     "output_type": "execute_result"
    }
   ],
   "source": [
    "score_index"
   ]
  }
 ],
 "metadata": {
  "kernelspec": {
   "display_name": "Python 3.12.3",
   "language": "python",
   "name": "python312"
  },
  "language_info": {
   "codemirror_mode": {
    "name": "ipython",
    "version": 3
   },
   "file_extension": ".py",
   "mimetype": "text/x-python",
   "name": "python",
   "nbconvert_exporter": "python",
   "pygments_lexer": "ipython3",
   "version": "3.12.3"
  }
 },
 "nbformat": 4,
 "nbformat_minor": 5
}
