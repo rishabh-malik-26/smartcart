{
 "cells": [
  {
   "cell_type": "code",
   "execution_count": 1,
   "id": "55cdd131-27b3-484e-90e9-8b89eb043bd1",
   "metadata": {},
   "outputs": [],
   "source": [
    "import pandas as pd \n",
    "import numpy as np\n",
    "import json\n",
    "import os\n",
    "import json\n",
    "import warnings\n",
    "warnings.filterwarnings('ignore')\n",
    "import gzip\n",
    "import faiss\n",
    "import matplotlib.pyplot as plt\n",
    "import seaborn as sns"
   ]
  },
  {
   "cell_type": "code",
   "execution_count": 2,
   "id": "8f044976-fbb9-4059-b66d-c234cb35b491",
   "metadata": {},
   "outputs": [],
   "source": [
    "\n",
    "reviews = []\n",
    "\n",
    "with open(r\"C:\\Users\\Rishabh\\Downloads\\Amazon_Project_Data\\Beauty\\All_Beauty.jsonl.gz\", \"rt\", encoding=\"utf-8\") as fp:\n",
    "    for line in fp:\n",
    "        data_line = json.loads(line.strip())\n",
    "        reviews.append(data_line)"
   ]
  },
  {
   "cell_type": "code",
   "execution_count": 3,
   "id": "17668d07-2b03-4de6-938f-3e8e0f468b2e",
   "metadata": {},
   "outputs": [],
   "source": [
    "## Created review df \n",
    "\n",
    "df1 = pd.DataFrame(reviews)"
   ]
  },
  {
   "cell_type": "code",
   "execution_count": 4,
   "id": "c76c6548-dcc5-4c9b-a644-1ae42ea37634",
   "metadata": {},
   "outputs": [],
   "source": [
    "df = df1[['rating','parent_asin','user_id']]"
   ]
  },
  {
   "cell_type": "code",
   "execution_count": 5,
   "id": "70042dee-1314-4483-8079-5e9314fceed0",
   "metadata": {},
   "outputs": [],
   "source": [
    "df = df.sample(frac = 0.1)"
   ]
  },
  {
   "cell_type": "code",
   "execution_count": 6,
   "id": "f0594725-ddbd-455f-b91a-63570738995f",
   "metadata": {},
   "outputs": [
    {
     "name": "stdout",
     "output_type": "stream",
     "text": [
      "RMSE: 1.4618\n",
      "RMSE: 1.461763964519242\n"
     ]
    }
   ],
   "source": [
    "## Trained Data ##\n",
    "\n",
    "from surprise import SVD, Dataset, Reader\n",
    "from surprise.model_selection import train_test_split\n",
    "from surprise import accuracy\n",
    " \n",
    "# Define the format\n",
    "reader = Reader(rating_scale=(1, 5))\n",
    "data = Dataset.load_from_df(df[[\"user_id\", \"parent_asin\", \"rating\"]], reader)\n",
    "\n",
    "# Train-test split\n",
    "trainset, testset = train_test_split(data, test_size=0.2)\n",
    "\n",
    "# Train SVD model\n",
    "model = SVD()\n",
    "model.fit(trainset)\n",
    "\n",
    "# Predict and evaluate\n",
    "predictions = model.test(testset)\n",
    "print(\"RMSE:\", accuracy.rmse(predictions))\n"
   ]
  },
  {
   "cell_type": "code",
   "execution_count": 7,
   "id": "f1a07d2f-e1fc-451f-9fc7-e646c532a25f",
   "metadata": {},
   "outputs": [
    {
     "data": {
      "text/plain": [
       "-0.8364728534681137"
      ]
     },
     "execution_count": 7,
     "metadata": {},
     "output_type": "execute_result"
    }
   ],
   "source": [
    "(df['rating']**2).skew()"
   ]
  },
  {
   "cell_type": "code",
   "execution_count": 9,
   "id": "c507f66d-30a0-4964-a645-d41bb95ce0c4",
   "metadata": {},
   "outputs": [
    {
     "data": {
      "text/plain": [
       "<Axes: xlabel='rating', ylabel='Density'>"
      ]
     },
     "execution_count": 9,
     "metadata": {},
     "output_type": "execute_result"
    },
    {
     "data": {
      "image/png": "[encoded data removed]",
      "text/plain": [
       "<Figure size 640x480 with 1 Axes>"
      ]
     },
     "metadata": {},
     "output_type": "display_data"
    }
   ],
   "source": [
    "sns.distplot(df['rating']**2)"
   ]
  },
  {
   "cell_type": "code",
   "execution_count": 8,
   "id": "5cac5fed-807d-494b-ad7b-de10b7d91353",
   "metadata": {},
   "outputs": [],
   "source": [
    "#from surprise.model_selection import GridSearchCV"
   ]
  },
  {
   "cell_type": "code",
   "execution_count": 11,
   "id": "be35a1f5-a377-44fb-99ec-4929c111b718",
   "metadata": {},
   "outputs": [],
   "source": [
    "#param_grid = { 'n_factors':[20,50,100],\n",
    " #             'n_epochs':[10,20,30],\n",
    " #               'lr_all':[0.002,0.005,0.01]    }"
   ]
  },
  {
   "cell_type": "code",
   "execution_count": 12,
   "id": "3b716781-94b1-4e1e-b676-78d15039affb",
   "metadata": {},
   "outputs": [],
   "source": [
    "#gs = GridSearchCV(SVD,param_grid,measures = ['rmse'],cv = 3)\n",
    "#gs.fit(data)\n",
    "\n",
    "#print(gs.best_score['rmse'])\n",
    "\n",
    "#print(gs.best_params['rmse'])"
   ]
  },
  {
   "cell_type": "code",
   "execution_count": 13,
   "id": "bac12bd8-a81b-4946-b6d9-24e054b5f87a",
   "metadata": {},
   "outputs": [],
   "source": [
    "#from surprise import NMF\n",
    "#nmf = NMF()"
   ]
  },
  {
   "cell_type": "code",
   "execution_count": 14,
   "id": "9f8b93d6-b67b-444d-850b-75d3ee7b2ef9",
   "metadata": {},
   "outputs": [],
   "source": [
    "#nmf.fit(trainset)\n"
   ]
  },
  {
   "cell_type": "code",
   "execution_count": 15,
   "id": "e414ff98-fbe2-4fcc-bfa1-8ec5234bb6b0",
   "metadata": {},
   "outputs": [],
   "source": [
    "#nmf_preds = nmf.test(testset)"
   ]
  },
  {
   "cell_type": "code",
   "execution_count": 16,
   "id": "3e3e8a55-a173-4aad-980a-d073846be4ae",
   "metadata": {},
   "outputs": [],
   "source": [
    "#accuracy.rmse(nmf_preds)"
   ]
  },
  {
   "cell_type": "code",
   "execution_count": 7,
   "id": "7e22235b-155e-4db0-b37c-1983ef3bbfd9",
   "metadata": {},
   "outputs": [],
   "source": [
    "## Extracted User and Item latent matrices ##\n",
    "\n",
    "user_mat = model.pu\n",
    "item_mat = model.qi  "
   ]
  },
  {
   "cell_type": "code",
   "execution_count": 8,
   "id": "4a92c974-e932-477e-a14e-e07c6be9f9f8",
   "metadata": {},
   "outputs": [],
   "source": [
    "user_mat = user_mat.astype('float32')\n",
    "item_mat = item_mat.astype('float32')"
   ]
  },
  {
   "cell_type": "code",
   "execution_count": 9,
   "id": "075f59e8-82ba-4679-bb80-9fac5ad7aa6c",
   "metadata": {
    "scrolled": true
   },
   "outputs": [
    {
     "data": {
      "text/plain": [
       "((55302, 100), (27592, 100))"
      ]
     },
     "execution_count": 9,
     "metadata": {},
     "output_type": "execute_result"
    }
   ],
   "source": [
    "user_mat.shape,item_mat.shape"
   ]
  },
  {
   "cell_type": "code",
   "execution_count": null,
   "id": "14aa457e-3474-497a-b8e8-27b5fbca1076",
   "metadata": {},
   "outputs": [],
   "source": []
  },
  {
   "cell_type": "code",
   "execution_count": 10,
   "id": "6e45fa13-a7b7-421c-940c-d3795b44f2e4",
   "metadata": {},
   "outputs": [],
   "source": [
    "## Extracted raw userids\n",
    "\n",
    "user_ids = [trainset.to_raw_uid(i) for i in range(user_mat.shape[0])]\n",
    "item_ids = [trainset.to_raw_iid(j) for j in range(item_mat.shape[0])]"
   ]
  },
  {
   "cell_type": "code",
   "execution_count": null,
   "id": "a537f691-306b-41ee-888f-4ba09a64aa5c",
   "metadata": {},
   "outputs": [],
   "source": []
  },
  {
   "cell_type": "code",
   "execution_count": 11,
   "id": "f0e63e79-46c8-4014-ac92-1892a76ca0a3",
   "metadata": {},
   "outputs": [],
   "source": [
    "## Created dataframes with user_id and their latent_features ##\n",
    "\n",
    "user_df = pd.DataFrame(user_mat,index=user_ids) \n",
    "item_df = pd.DataFrame(item_mat,index=item_ids)"
   ]
  },
  {
   "cell_type": "code",
   "execution_count": 17,
   "id": "8fbd13d2-28f1-4ba2-82bd-3b921d45f7a9",
   "metadata": {},
   "outputs": [
    {
     "data": {
      "text/html": [
       "<div>\n",
       "<style scoped>\n",
       "    .dataframe tbody tr th:only-of-type {\n",
       "        vertical-align: middle;\n",
       "    }\n",
       "\n",
       "    .dataframe tbody tr th {\n",
       "        vertical-align: top;\n",
       "    }\n",
       "\n",
       "    .dataframe thead th {\n",
       "        text-align: right;\n",
       "    }\n",
       "</style>\n",
       "<table border=\"1\" class=\"dataframe\">\n",
       "  <thead>\n",
       "    <tr style=\"text-align: right;\">\n",
       "      <th></th>\n",
       "      <th>0</th>\n",
       "      <th>1</th>\n",
       "      <th>2</th>\n",
       "      <th>3</th>\n",
       "      <th>4</th>\n",
       "      <th>5</th>\n",
       "      <th>6</th>\n",
       "      <th>7</th>\n",
       "      <th>8</th>\n",
       "      <th>9</th>\n",
       "      <th>...</th>\n",
       "      <th>90</th>\n",
       "      <th>91</th>\n",
       "      <th>92</th>\n",
       "      <th>93</th>\n",
       "      <th>94</th>\n",
       "      <th>95</th>\n",
       "      <th>96</th>\n",
       "      <th>97</th>\n",
       "      <th>98</th>\n",
       "      <th>99</th>\n",
       "    </tr>\n",
       "  </thead>\n",
       "  <tbody>\n",
       "    <tr>\n",
       "      <th>B075QBP9Z6</th>\n",
       "      <td>0.009621</td>\n",
       "      <td>-0.071800</td>\n",
       "      <td>0.168362</td>\n",
       "      <td>0.075923</td>\n",
       "      <td>0.003379</td>\n",
       "      <td>0.141288</td>\n",
       "      <td>0.002095</td>\n",
       "      <td>0.160146</td>\n",
       "      <td>-0.159877</td>\n",
       "      <td>0.107340</td>\n",
       "      <td>...</td>\n",
       "      <td>0.129623</td>\n",
       "      <td>-0.010664</td>\n",
       "      <td>-0.058670</td>\n",
       "      <td>-0.219763</td>\n",
       "      <td>0.153881</td>\n",
       "      <td>0.124511</td>\n",
       "      <td>-0.015190</td>\n",
       "      <td>-0.025329</td>\n",
       "      <td>0.058652</td>\n",
       "      <td>0.008122</td>\n",
       "    </tr>\n",
       "    <tr>\n",
       "      <th>B08M57D1G1</th>\n",
       "      <td>-0.058930</td>\n",
       "      <td>0.047709</td>\n",
       "      <td>0.000129</td>\n",
       "      <td>-0.043176</td>\n",
       "      <td>-0.084923</td>\n",
       "      <td>0.170524</td>\n",
       "      <td>-0.049827</td>\n",
       "      <td>0.078563</td>\n",
       "      <td>0.167679</td>\n",
       "      <td>-0.005232</td>\n",
       "      <td>...</td>\n",
       "      <td>-0.014805</td>\n",
       "      <td>-0.114316</td>\n",
       "      <td>0.067667</td>\n",
       "      <td>0.100716</td>\n",
       "      <td>0.073740</td>\n",
       "      <td>0.157813</td>\n",
       "      <td>0.012306</td>\n",
       "      <td>0.087500</td>\n",
       "      <td>0.006656</td>\n",
       "      <td>-0.096286</td>\n",
       "    </tr>\n",
       "    <tr>\n",
       "      <th>B07QQ9D61Q</th>\n",
       "      <td>0.048709</td>\n",
       "      <td>-0.036266</td>\n",
       "      <td>-0.002406</td>\n",
       "      <td>-0.039007</td>\n",
       "      <td>0.007589</td>\n",
       "      <td>-0.238048</td>\n",
       "      <td>-0.025624</td>\n",
       "      <td>-0.091140</td>\n",
       "      <td>-0.079034</td>\n",
       "      <td>0.089271</td>\n",
       "      <td>...</td>\n",
       "      <td>0.043751</td>\n",
       "      <td>0.091087</td>\n",
       "      <td>-0.100237</td>\n",
       "      <td>-0.063482</td>\n",
       "      <td>0.073552</td>\n",
       "      <td>0.128066</td>\n",
       "      <td>-0.200911</td>\n",
       "      <td>-0.170173</td>\n",
       "      <td>0.042190</td>\n",
       "      <td>0.069232</td>\n",
       "    </tr>\n",
       "    <tr>\n",
       "      <th>B099DNDV4C</th>\n",
       "      <td>0.123264</td>\n",
       "      <td>-0.019206</td>\n",
       "      <td>0.032613</td>\n",
       "      <td>-0.010128</td>\n",
       "      <td>0.036973</td>\n",
       "      <td>-0.063062</td>\n",
       "      <td>0.094019</td>\n",
       "      <td>-0.061248</td>\n",
       "      <td>0.176186</td>\n",
       "      <td>0.164248</td>\n",
       "      <td>...</td>\n",
       "      <td>0.074496</td>\n",
       "      <td>-0.160148</td>\n",
       "      <td>0.053008</td>\n",
       "      <td>-0.117623</td>\n",
       "      <td>0.070563</td>\n",
       "      <td>0.003775</td>\n",
       "      <td>0.094524</td>\n",
       "      <td>0.075216</td>\n",
       "      <td>0.059657</td>\n",
       "      <td>0.014600</td>\n",
       "    </tr>\n",
       "    <tr>\n",
       "      <th>B06XRZ6Q4Z</th>\n",
       "      <td>-0.189311</td>\n",
       "      <td>-0.078790</td>\n",
       "      <td>-0.013547</td>\n",
       "      <td>-0.415220</td>\n",
       "      <td>-0.070546</td>\n",
       "      <td>0.029330</td>\n",
       "      <td>-0.064929</td>\n",
       "      <td>0.185388</td>\n",
       "      <td>0.043903</td>\n",
       "      <td>0.052188</td>\n",
       "      <td>...</td>\n",
       "      <td>-0.050020</td>\n",
       "      <td>0.090364</td>\n",
       "      <td>-0.020718</td>\n",
       "      <td>-0.015771</td>\n",
       "      <td>-0.070869</td>\n",
       "      <td>-0.239343</td>\n",
       "      <td>0.038220</td>\n",
       "      <td>0.004580</td>\n",
       "      <td>0.029919</td>\n",
       "      <td>-0.032323</td>\n",
       "    </tr>\n",
       "    <tr>\n",
       "      <th>...</th>\n",
       "      <td>...</td>\n",
       "      <td>...</td>\n",
       "      <td>...</td>\n",
       "      <td>...</td>\n",
       "      <td>...</td>\n",
       "      <td>...</td>\n",
       "      <td>...</td>\n",
       "      <td>...</td>\n",
       "      <td>...</td>\n",
       "      <td>...</td>\n",
       "      <td>...</td>\n",
       "      <td>...</td>\n",
       "      <td>...</td>\n",
       "      <td>...</td>\n",
       "      <td>...</td>\n",
       "      <td>...</td>\n",
       "      <td>...</td>\n",
       "      <td>...</td>\n",
       "      <td>...</td>\n",
       "      <td>...</td>\n",
       "      <td>...</td>\n",
       "    </tr>\n",
       "    <tr>\n",
       "      <th>B08CMZYMKK</th>\n",
       "      <td>0.058953</td>\n",
       "      <td>-0.047347</td>\n",
       "      <td>0.004700</td>\n",
       "      <td>-0.001228</td>\n",
       "      <td>-0.146686</td>\n",
       "      <td>-0.125107</td>\n",
       "      <td>-0.029247</td>\n",
       "      <td>0.120445</td>\n",
       "      <td>-0.029277</td>\n",
       "      <td>0.028763</td>\n",
       "      <td>...</td>\n",
       "      <td>0.208961</td>\n",
       "      <td>0.000426</td>\n",
       "      <td>-0.034552</td>\n",
       "      <td>0.087240</td>\n",
       "      <td>0.071878</td>\n",
       "      <td>0.088363</td>\n",
       "      <td>0.032283</td>\n",
       "      <td>0.086203</td>\n",
       "      <td>-0.062897</td>\n",
       "      <td>-0.040543</td>\n",
       "    </tr>\n",
       "    <tr>\n",
       "      <th>B00XHL1HGK</th>\n",
       "      <td>-0.073840</td>\n",
       "      <td>0.082313</td>\n",
       "      <td>0.099279</td>\n",
       "      <td>0.081669</td>\n",
       "      <td>0.082217</td>\n",
       "      <td>0.080800</td>\n",
       "      <td>-0.128694</td>\n",
       "      <td>-0.066139</td>\n",
       "      <td>-0.212930</td>\n",
       "      <td>0.093688</td>\n",
       "      <td>...</td>\n",
       "      <td>0.004258</td>\n",
       "      <td>-0.036485</td>\n",
       "      <td>-0.052612</td>\n",
       "      <td>0.121935</td>\n",
       "      <td>0.096090</td>\n",
       "      <td>0.078786</td>\n",
       "      <td>-0.024845</td>\n",
       "      <td>-0.028770</td>\n",
       "      <td>0.070638</td>\n",
       "      <td>-0.201955</td>\n",
       "    </tr>\n",
       "    <tr>\n",
       "      <th>B000QU6R9C</th>\n",
       "      <td>0.049082</td>\n",
       "      <td>-0.011619</td>\n",
       "      <td>0.131984</td>\n",
       "      <td>0.066584</td>\n",
       "      <td>0.015628</td>\n",
       "      <td>-0.023881</td>\n",
       "      <td>0.040642</td>\n",
       "      <td>-0.107025</td>\n",
       "      <td>-0.130219</td>\n",
       "      <td>-0.072999</td>\n",
       "      <td>...</td>\n",
       "      <td>-0.206870</td>\n",
       "      <td>0.355344</td>\n",
       "      <td>0.003050</td>\n",
       "      <td>-0.139299</td>\n",
       "      <td>0.220323</td>\n",
       "      <td>-0.001055</td>\n",
       "      <td>-0.092449</td>\n",
       "      <td>-0.104130</td>\n",
       "      <td>0.099496</td>\n",
       "      <td>-0.082533</td>\n",
       "    </tr>\n",
       "    <tr>\n",
       "      <th>B086WFXMGG</th>\n",
       "      <td>0.049545</td>\n",
       "      <td>0.111677</td>\n",
       "      <td>0.071970</td>\n",
       "      <td>0.253443</td>\n",
       "      <td>-0.151233</td>\n",
       "      <td>-0.019682</td>\n",
       "      <td>0.223988</td>\n",
       "      <td>0.068566</td>\n",
       "      <td>-0.079326</td>\n",
       "      <td>-0.079682</td>\n",
       "      <td>...</td>\n",
       "      <td>0.076301</td>\n",
       "      <td>-0.129228</td>\n",
       "      <td>-0.058111</td>\n",
       "      <td>0.205526</td>\n",
       "      <td>-0.109160</td>\n",
       "      <td>0.088018</td>\n",
       "      <td>0.021059</td>\n",
       "      <td>0.018300</td>\n",
       "      <td>-0.204441</td>\n",
       "      <td>0.097622</td>\n",
       "    </tr>\n",
       "    <tr>\n",
       "      <th>B08HQJ3PDT</th>\n",
       "      <td>0.082801</td>\n",
       "      <td>0.117810</td>\n",
       "      <td>0.066310</td>\n",
       "      <td>-0.086571</td>\n",
       "      <td>-0.123376</td>\n",
       "      <td>0.016071</td>\n",
       "      <td>0.054406</td>\n",
       "      <td>-0.006817</td>\n",
       "      <td>0.146359</td>\n",
       "      <td>0.036381</td>\n",
       "      <td>...</td>\n",
       "      <td>0.014273</td>\n",
       "      <td>-0.066595</td>\n",
       "      <td>0.043771</td>\n",
       "      <td>-0.013042</td>\n",
       "      <td>0.054553</td>\n",
       "      <td>0.263666</td>\n",
       "      <td>-0.133654</td>\n",
       "      <td>-0.169493</td>\n",
       "      <td>0.031495</td>\n",
       "      <td>-0.133480</td>\n",
       "    </tr>\n",
       "  </tbody>\n",
       "</table>\n",
       "<p>27592 rows × 100 columns</p>\n",
       "</div>"
      ],
      "text/plain": [
       "                  0         1         2         3         4         5   \\\n",
       "B075QBP9Z6  0.009621 -0.071800  0.168362  0.075923  0.003379  0.141288   \n",
       "B08M57D1G1 -0.058930  0.047709  0.000129 -0.043176 -0.084923  0.170524   \n",
       "B07QQ9D61Q  0.048709 -0.036266 -0.002406 -0.039007  0.007589 -0.238048   \n",
       "B099DNDV4C  0.123264 -0.019206  0.032613 -0.010128  0.036973 -0.063062   \n",
       "B06XRZ6Q4Z -0.189311 -0.078790 -0.013547 -0.415220 -0.070546  0.029330   \n",
       "...              ...       ...       ...       ...       ...       ...   \n",
       "B08CMZYMKK  0.058953 -0.047347  0.004700 -0.001228 -0.146686 -0.125107   \n",
       "B00XHL1HGK -0.073840  0.082313  0.099279  0.081669  0.082217  0.080800   \n",
       "B000QU6R9C  0.049082 -0.011619  0.131984  0.066584  0.015628 -0.023881   \n",
       "B086WFXMGG  0.049545  0.111677  0.071970  0.253443 -0.151233 -0.019682   \n",
       "B08HQJ3PDT  0.082801  0.117810  0.066310 -0.086571 -0.123376  0.016071   \n",
       "\n",
       "                  6         7         8         9   ...        90        91  \\\n",
       "B075QBP9Z6  0.002095  0.160146 -0.159877  0.107340  ...  0.129623 -0.010664   \n",
       "B08M57D1G1 -0.049827  0.078563  0.167679 -0.005232  ... -0.014805 -0.114316   \n",
       "B07QQ9D61Q -0.025624 -0.091140 -0.079034  0.089271  ...  0.043751  0.091087   \n",
       "B099DNDV4C  0.094019 -0.061248  0.176186  0.164248  ...  0.074496 -0.160148   \n",
       "B06XRZ6Q4Z -0.064929  0.185388  0.043903  0.052188  ... -0.050020  0.090364   \n",
       "...              ...       ...       ...       ...  ...       ...       ...   \n",
       "B08CMZYMKK -0.029247  0.120445 -0.029277  0.028763  ...  0.208961  0.000426   \n",
       "B00XHL1HGK -0.128694 -0.066139 -0.212930  0.093688  ...  0.004258 -0.036485   \n",
       "B000QU6R9C  0.040642 -0.107025 -0.130219 -0.072999  ... -0.206870  0.355344   \n",
       "B086WFXMGG  0.223988  0.068566 -0.079326 -0.079682  ...  0.076301 -0.129228   \n",
       "B08HQJ3PDT  0.054406 -0.006817  0.146359  0.036381  ...  0.014273 -0.066595   \n",
       "\n",
       "                  92        93        94        95        96        97  \\\n",
       "B075QBP9Z6 -0.058670 -0.219763  0.153881  0.124511 -0.015190 -0.025329   \n",
       "B08M57D1G1  0.067667  0.100716  0.073740  0.157813  0.012306  0.087500   \n",
       "B07QQ9D61Q -0.100237 -0.063482  0.073552  0.128066 -0.200911 -0.170173   \n",
       "B099DNDV4C  0.053008 -0.117623  0.070563  0.003775  0.094524  0.075216   \n",
       "B06XRZ6Q4Z -0.020718 -0.015771 -0.070869 -0.239343  0.038220  0.004580   \n",
       "...              ...       ...       ...       ...       ...       ...   \n",
       "B08CMZYMKK -0.034552  0.087240  0.071878  0.088363  0.032283  0.086203   \n",
       "B00XHL1HGK -0.052612  0.121935  0.096090  0.078786 -0.024845 -0.028770   \n",
       "B000QU6R9C  0.003050 -0.139299  0.220323 -0.001055 -0.092449 -0.104130   \n",
       "B086WFXMGG -0.058111  0.205526 -0.109160  0.088018  0.021059  0.018300   \n",
       "B08HQJ3PDT  0.043771 -0.013042  0.054553  0.263666 -0.133654 -0.169493   \n",
       "\n",
       "                  98        99  \n",
       "B075QBP9Z6  0.058652  0.008122  \n",
       "B08M57D1G1  0.006656 -0.096286  \n",
       "B07QQ9D61Q  0.042190  0.069232  \n",
       "B099DNDV4C  0.059657  0.014600  \n",
       "B06XRZ6Q4Z  0.029919 -0.032323  \n",
       "...              ...       ...  \n",
       "B08CMZYMKK -0.062897 -0.040543  \n",
       "B00XHL1HGK  0.070638 -0.201955  \n",
       "B000QU6R9C  0.099496 -0.082533  \n",
       "B086WFXMGG -0.204441  0.097622  \n",
       "B08HQJ3PDT  0.031495 -0.133480  \n",
       "\n",
       "[27592 rows x 100 columns]"
      ]
     },
     "execution_count": 17,
     "metadata": {},
     "output_type": "execute_result"
    }
   ],
   "source": [
    "item_df"
   ]
  },
  {
   "cell_type": "code",
   "execution_count": 12,
   "id": "99eff3bb-fc75-4ef9-a156-068ccb2e1c20",
   "metadata": {
    "scrolled": true
   },
   "outputs": [
    {
     "data": {
      "text/plain": [
       "(100,)"
      ]
     },
     "execution_count": 12,
     "metadata": {},
     "output_type": "execute_result"
    }
   ],
   "source": [
    "## Test User to check similarity ##\n",
    "user= user_df.iloc[400] \n",
    "user.shape"
   ]
  },
  {
   "cell_type": "code",
   "execution_count": 15,
   "id": "2af2d2f8-1dd1-495a-8e6a-d24b56e7eed8",
   "metadata": {},
   "outputs": [],
   "source": [
    "## Reshaped Test user to array\n",
    "\n",
    "user_array = np.array(user).reshape(1,-1)"
   ]
  },
  {
   "cell_type": "code",
   "execution_count": 16,
   "id": "745e32fc-2642-4ce3-9f96-eb50b782710d",
   "metadata": {},
   "outputs": [],
   "source": [
    "## Find Similar Users ##\n",
    "\n",
    "d = item_mat.shape[1]\n",
    "\n",
    "index = faiss.IndexFlatIP(d)  \n",
    "index.add(item_mat)\n",
    "k  = item_mat.shape[0]\n",
    "\n",
    "distances,indices = index.search(user_array, k) "
   ]
  },
  {
   "cell_type": "code",
   "execution_count": 17,
   "id": "ec122da8-f1dd-4d62-9158-cbac9e64071f",
   "metadata": {},
   "outputs": [],
   "source": [
    "### Extracted user_id indices and their respective distances from 2D arrays ###\n",
    "\n",
    "top_user_ids  = indices[0]\n",
    "top_dist  = distances[0]"
   ]
  },
  {
   "cell_type": "code",
   "execution_count": 18,
   "id": "ee2b16eb-efe2-4b6a-92a0-8554999519a2",
   "metadata": {},
   "outputs": [],
   "source": [
    "## Convert distances array of all users to a list\n",
    "\n",
    "distance = list(top_dist)"
   ]
  },
  {
   "cell_type": "code",
   "execution_count": 19,
   "id": "f84cca05-3d4f-4ada-a058-33f40ae792a5",
   "metadata": {},
   "outputs": [],
   "source": [
    "## Extract Index of all similar users as user_id ##\n",
    "\n",
    "similar_user_ids = [user_df.index[i] for i in top_user_ids]"
   ]
  },
  {
   "cell_type": "code",
   "execution_count": null,
   "id": "1fcd1250-9471-4fd9-b5c9-660d8b72420b",
   "metadata": {},
   "outputs": [],
   "source": [
    "len(similar_user_ids)"
   ]
  },
  {
   "cell_type": "code",
   "execution_count": 20,
   "id": "3b63e010-ce6b-4bc1-a07d-0419c7e1b57c",
   "metadata": {},
   "outputs": [],
   "source": [
    "## Created df with users and similarity \n",
    "\n",
    "user_dist_df = pd.DataFrame(distance,similar_user_ids,columns=['Distance'])"
   ]
  },
  {
   "cell_type": "code",
   "execution_count": 21,
   "id": "dc885bfa-e443-49ac-8819-a3d33c8e3220",
   "metadata": {},
   "outputs": [
    {
     "data": {
      "text/plain": [
       "(28534, 3)"
      ]
     },
     "execution_count": 21,
     "metadata": {},
     "output_type": "execute_result"
    }
   ],
   "source": [
    "filtered_df = df[df['user_id'].isin(similar_user_ids)]\n",
    "filtered_df.shape"
   ]
  },
  {
   "cell_type": "code",
   "execution_count": 22,
   "id": "791763ef-fd68-47ee-82e1-a9a3afda0ce1",
   "metadata": {
    "scrolled": true
   },
   "outputs": [],
   "source": [
    "sim_df = filtered_df.pivot_table(index = 'user_id',columns = 'parent_asin', values = 'rating' ).fillna(0)"
   ]
  },
  {
   "cell_type": "code",
   "execution_count": 23,
   "id": "bd5719b7-447e-4568-a748-900a7c95f369",
   "metadata": {},
   "outputs": [],
   "source": [
    "distance_df = pd.DataFrame(distances[0],columns=['Distance'])"
   ]
  },
  {
   "cell_type": "code",
   "execution_count": 24,
   "id": "7aea6fb7-262a-40da-97e3-143d9cdfb516",
   "metadata": {},
   "outputs": [],
   "source": [
    "indice_df = pd.DataFrame(indices[0],columns = ['Index'])"
   ]
  },
  {
   "cell_type": "code",
   "execution_count": 25,
   "id": "abbfc6f0-50e5-45c8-b848-8575be915767",
   "metadata": {},
   "outputs": [],
   "source": [
    "score_ind = pd.concat([distance_df,indice_df],axis = 1)"
   ]
  },
  {
   "cell_type": "code",
   "execution_count": 26,
   "id": "98e43e9e-adc6-49d0-8275-b8a778b6b28c",
   "metadata": {},
   "outputs": [],
   "source": [
    "dist  = np.reshape(score_ind['Distance'],(-1,1))"
   ]
  },
  {
   "cell_type": "code",
   "execution_count": null,
   "id": "d226dd56-8f26-4721-b45e-8311d7ddf76f",
   "metadata": {
    "scrolled": true
   },
   "outputs": [],
   "source": [
    "dist.shape"
   ]
  },
  {
   "cell_type": "code",
   "execution_count": 27,
   "id": "1b8cd0f2-f4fc-46c7-bab7-fd7fbe4300ab",
   "metadata": {},
   "outputs": [],
   "source": [
    "sim_df = sim_df.astype('float32')"
   ]
  },
  {
   "cell_type": "code",
   "execution_count": 28,
   "id": "75519a07-fe9d-4973-8741-555055184264",
   "metadata": {},
   "outputs": [],
   "source": [
    "from scipy.sparse import csr_matrix"
   ]
  },
  {
   "cell_type": "code",
   "execution_count": 29,
   "id": "ce659d3e-4875-43eb-b66b-c4b786237828",
   "metadata": {},
   "outputs": [],
   "source": [
    "new_sim = csr_matrix(sim_df)"
   ]
  },
  {
   "cell_type": "code",
   "execution_count": 30,
   "id": "b408c85e-4fd5-4d04-99c5-b47d618d90a9",
   "metadata": {
    "scrolled": true
   },
   "outputs": [
    {
     "data": {
      "text/plain": [
       "((27605, 17017), (1, 27605))"
      ]
     },
     "execution_count": 30,
     "metadata": {},
     "output_type": "execute_result"
    }
   ],
   "source": [
    "new_sim.shape,dist.T.shape"
   ]
  },
  {
   "cell_type": "code",
   "execution_count": 31,
   "id": "1e382bf6-9922-43f1-a863-e75a3fd254cb",
   "metadata": {},
   "outputs": [],
   "source": [
    "result = dist.T @ new_sim "
   ]
  },
  {
   "cell_type": "code",
   "execution_count": 32,
   "id": "de829c8c-4eff-4438-9a8b-a799b1b7b674",
   "metadata": {},
   "outputs": [
    {
     "name": "stdout",
     "output_type": "stream",
     "text": [
      "(1, 17017) 17017\n"
     ]
    }
   ],
   "source": [
    "print(result.shape, len(sim_df.columns))"
   ]
  },
  {
   "cell_type": "code",
   "execution_count": 33,
   "id": "64064707-513d-4345-b896-0672d31bcd89",
   "metadata": {},
   "outputs": [
    {
     "data": {
      "text/plain": [
       "Index(['069267599X', '0985393300', '0990995119', '130414089X', '4293845755',\n",
       "       '6041134546', '8674394329', '9533223618', '9788077587', '979077530X',\n",
       "       ...\n",
       "       'B0C8HVQKG7', 'B0C8XJQNHH', 'B0C9CWKY9G', 'B0C9HGV5HK', 'B0CB4CYCJM',\n",
       "       'B0CBWDTY41', 'B0CDH5TH82', 'B0CDNZ7F2V', 'B0CDQ8KM21', 'B0CHGDT817'],\n",
       "      dtype='object', name='parent_asin', length=17017)"
      ]
     },
     "execution_count": 33,
     "metadata": {},
     "output_type": "execute_result"
    }
   ],
   "source": [
    "sim_df.columns"
   ]
  },
  {
   "cell_type": "code",
   "execution_count": 34,
   "id": "c7badeb2-e87e-4351-9cbc-23cb58ea1821",
   "metadata": {},
   "outputs": [],
   "source": [
    "product_score_df = pd.DataFrame( result.reshape(-1, 1),index = sim_df.columns,columns = ['score'])"
   ]
  },
  {
   "cell_type": "code",
   "execution_count": 35,
   "id": "33b45684-2d00-4158-a1e9-99b90d4ff2cf",
   "metadata": {},
   "outputs": [
    {
     "data": {
      "text/html": [
       "<div>\n",
       "<style scoped>\n",
       "    .dataframe tbody tr th:only-of-type {\n",
       "        vertical-align: middle;\n",
       "    }\n",
       "\n",
       "    .dataframe tbody tr th {\n",
       "        vertical-align: top;\n",
       "    }\n",
       "\n",
       "    .dataframe thead th {\n",
       "        text-align: right;\n",
       "    }\n",
       "</style>\n",
       "<table border=\"1\" class=\"dataframe\">\n",
       "  <thead>\n",
       "    <tr style=\"text-align: right;\">\n",
       "      <th></th>\n",
       "      <th>score</th>\n",
       "    </tr>\n",
       "    <tr>\n",
       "      <th>parent_asin</th>\n",
       "      <th></th>\n",
       "    </tr>\n",
       "  </thead>\n",
       "  <tbody>\n",
       "    <tr>\n",
       "      <th>B0BM4GX6TT</th>\n",
       "      <td>4.796400</td>\n",
       "    </tr>\n",
       "    <tr>\n",
       "      <th>B083BDVS36</th>\n",
       "      <td>4.712611</td>\n",
       "    </tr>\n",
       "    <tr>\n",
       "      <th>B00L4HJX7O</th>\n",
       "      <td>3.869931</td>\n",
       "    </tr>\n",
       "    <tr>\n",
       "      <th>B01N4885PD</th>\n",
       "      <td>3.279164</td>\n",
       "    </tr>\n",
       "    <tr>\n",
       "      <th>B005BZQHEC</th>\n",
       "      <td>3.243124</td>\n",
       "    </tr>\n",
       "    <tr>\n",
       "      <th>...</th>\n",
       "      <td>...</td>\n",
       "    </tr>\n",
       "    <tr>\n",
       "      <th>B082245PK2</th>\n",
       "      <td>-3.443007</td>\n",
       "    </tr>\n",
       "    <tr>\n",
       "      <th>B003ILUQPM</th>\n",
       "      <td>-3.587942</td>\n",
       "    </tr>\n",
       "    <tr>\n",
       "      <th>B09Q3X5YWR</th>\n",
       "      <td>-4.505758</td>\n",
       "    </tr>\n",
       "    <tr>\n",
       "      <th>B019GBG0IE</th>\n",
       "      <td>-4.886277</td>\n",
       "    </tr>\n",
       "    <tr>\n",
       "      <th>B085BB7B1M</th>\n",
       "      <td>-7.990294</td>\n",
       "    </tr>\n",
       "  </tbody>\n",
       "</table>\n",
       "<p>17017 rows × 1 columns</p>\n",
       "</div>"
      ],
      "text/plain": [
       "                score\n",
       "parent_asin          \n",
       "B0BM4GX6TT   4.796400\n",
       "B083BDVS36   4.712611\n",
       "B00L4HJX7O   3.869931\n",
       "B01N4885PD   3.279164\n",
       "B005BZQHEC   3.243124\n",
       "...               ...\n",
       "B082245PK2  -3.443007\n",
       "B003ILUQPM  -3.587942\n",
       "B09Q3X5YWR  -4.505758\n",
       "B019GBG0IE  -4.886277\n",
       "B085BB7B1M  -7.990294\n",
       "\n",
       "[17017 rows x 1 columns]"
      ]
     },
     "execution_count": 35,
     "metadata": {},
     "output_type": "execute_result"
    }
   ],
   "source": [
    "product_score_df.sort_values(by = 'score',ascending = False)"
   ]
  },
  {
   "cell_type": "code",
   "execution_count": 36,
   "id": "23f81f49-0e58-445a-b835-68e67e913dff",
   "metadata": {},
   "outputs": [
    {
     "name": "stderr",
     "output_type": "stream",
     "text": [
      "[nltk_data] Downloading package punkt_tab to\n",
      "[nltk_data]     C:\\Users\\Rishabh\\AppData\\Roaming\\nltk_data...\n",
      "[nltk_data]   Package punkt_tab is already up-to-date!\n"
     ]
    },
    {
     "name": "stdout",
     "output_type": "stream",
     "text": [
      "Pinnacle of Wellness Rejuvenating Vitamin C Anti Aging Serum with Hyaluronic Acid – Best Facial Skin Care Product for Women and Men (2oz)\n",
      "Eyebrow Stamp and Eyebrow Stencil Kit, One Step Eyebrow Stamp and Shaping Kit for Perfect Brow, Eyebrow Brush,Eyebrow soap kit ,Gel Brow Soap Wax, Eyeshadow Stick Shimmer Eyeshadow Pencil ,Eye Makeup\n",
      "3 pack Alternate Tooth Rat tail Styling combs Parting combs Root Teasing combs hair combs for women （3 Pack ）\n",
      "Colourpop Super Shock Metallic Eyeshadow (3)\n",
      "Sierra Bees Organic Lip Balms Creme Brulee 4 Pack 15 oz 4 25 g Each\n",
      "Liddy Hair 4x4 Free Part Lace Closure Straight Human Hair 8A Brazilian Virgin Hair With Baby Hair 130% Density Natural Color(8''-20''Closure, Straight) (8'')\n"
     ]
    }
   ],
   "source": [
    "import import_ipynb\n",
    "import Amazon_beauty_product_data"
   ]
  },
  {
   "cell_type": "code",
   "execution_count": 37,
   "id": "1aa67a90-dccf-43ce-afb3-29ce6c3db3d9",
   "metadata": {},
   "outputs": [
    {
     "data": {
      "text/plain": [
       "Index(['score'], dtype='object')"
      ]
     },
     "execution_count": 37,
     "metadata": {},
     "output_type": "execute_result"
    }
   ],
   "source": [
    "product_score_df.columns"
   ]
  },
  {
   "cell_type": "code",
   "execution_count": 39,
   "id": "93fe5a26-3ff7-411b-9d89-3a13dadf1384",
   "metadata": {},
   "outputs": [],
   "source": [
    "content_scores = Amazon_beauty_product_data.score_index"
   ]
  },
  {
   "cell_type": "code",
   "execution_count": null,
   "id": "9f9d6c87-e484-447c-a0be-d828799a75e4",
   "metadata": {},
   "outputs": [],
   "source": [
    "content_scores_df = pd.DataFrame(index = content_scores['product_id'], columns = content_scores['Distance'])"
   ]
  },
  {
   "cell_type": "code",
   "execution_count": null,
   "id": "f9243a3a-11e2-4920-a1f3-4f943b4c0e00",
   "metadata": {},
   "outputs": [],
   "source": []
  }
 ],
 "metadata": {
  "kernelspec": {
   "display_name": "Python 3 (ipykernel)",
   "language": "python",
   "name": "python3"
  },
  "language_info": {
   "codemirror_mode": {
    "name": "ipython",
    "version": 3
   },
   "file_extension": ".py",
   "mimetype": "text/x-python",
   "name": "python",
   "nbconvert_exporter": "python",
   "pygments_lexer": "ipython3",
   "version": "3.12.3"
  }
 },
 "nbformat": 4,
 "nbformat_minor": 5
}
