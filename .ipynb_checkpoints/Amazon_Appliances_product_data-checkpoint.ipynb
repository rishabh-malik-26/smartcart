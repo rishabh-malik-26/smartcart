{
 "cells": [
  {
   "cell_type": "code",
   "execution_count": 3,
   "id": "9cfd647b-3ec8-4f4b-8a2b-e2717630c377",
   "metadata": {},
   "outputs": [
    {
     "name": "stdout",
     "output_type": "stream",
     "text": [
      "c:\\Users\\Rishabh\\AppData\\Local\\Programs\\Python\\Python312\\python.exe\n"
     ]
    }
   ],
   "source": [
    "import sys\n",
    "print(sys.executable)  # Should show Python 3.12 path"
   ]
  },
  {
   "cell_type": "code",
   "execution_count": 2,
   "id": "81ab8db4-695b-44b0-ae9f-03523a6288d8",
   "metadata": {},
   "outputs": [],
   "source": [
    "import json\n",
    "data = []\n",
    "\n",
    "with open(r\"C:\\Users\\Rishabh\\Downloads\\Amazon_Project_Data\\Appliances\\meta_Appliances.jsonl.gz\",\"rt\",encoding = 'utf-8') as fp:\n",
    "    for line in fp:\n",
    "        data_line = json.loads(line.strip())\n",
    "        data.append(data_line)\n"
   ]
  },
  {
   "cell_type": "code",
   "execution_count": 3,
   "id": "6392c0f4-f11f-49e0-9b06-a4dd94e1b43c",
   "metadata": {},
   "outputs": [],
   "source": [
    "df = pd.DataFrame(data)"
   ]
  },
  {
   "cell_type": "code",
   "execution_count": 4,
   "id": "308283c8-2bd0-44a8-92e3-8d0714d4dada",
   "metadata": {},
   "outputs": [],
   "source": [
    "np.random.seed(42)"
   ]
  },
  {
   "cell_type": "code",
   "execution_count": 5,
   "id": "127b806f-8412-45d0-a723-0dc0f2afaec3",
   "metadata": {},
   "outputs": [],
   "source": [
    "df = df.sample(frac  =0.4).reset_index()"
   ]
  },
  {
   "cell_type": "code",
   "execution_count": 6,
   "id": "af95d164-f93b-4ed2-a81a-22e45ed6d316",
   "metadata": {},
   "outputs": [
    {
     "name": "stdout",
     "output_type": "stream",
     "text": [
      "<class 'pandas.core.frame.DataFrame'>\n",
      "RangeIndex: 37731 entries, 0 to 37730\n",
      "Data columns (total 17 columns):\n",
      " #   Column           Non-Null Count  Dtype  \n",
      "---  ------           --------------  -----  \n",
      " 0   index            37731 non-null  int64  \n",
      " 1   main_category    35880 non-null  object \n",
      " 2   title            37731 non-null  object \n",
      " 3   average_rating   37731 non-null  float64\n",
      " 4   rating_number    37731 non-null  int64  \n",
      " 5   features         37731 non-null  object \n",
      " 6   description      37731 non-null  object \n",
      " 7   price            18740 non-null  float64\n",
      " 8   images           37731 non-null  object \n",
      " 9   videos           37731 non-null  object \n",
      " 10  store            37372 non-null  object \n",
      " 11  categories       37731 non-null  object \n",
      " 12  details          37731 non-null  object \n",
      " 13  parent_asin      37731 non-null  object \n",
      " 14  bought_together  0 non-null      object \n",
      " 15  subtitle         3 non-null      object \n",
      " 16  author           0 non-null      object \n",
      "dtypes: float64(2), int64(2), object(13)\n",
      "memory usage: 4.9+ MB\n"
     ]
    }
   ],
   "source": [
    "df.info()"
   ]
  },
  {
   "cell_type": "code",
   "execution_count": 1,
   "id": "64fc563d-928a-4c5b-a72f-f9dc9fc22d23",
   "metadata": {},
   "outputs": [
    {
     "name": "stdout",
     "output_type": "stream",
     "text": [
      "C:\\Users\\Rishabh\\AppData\\Local\\Programs\\Python\\Python312\\Scripts\\pip.exe\n"
     ]
    }
   ],
   "source": [
    "! where pip"
   ]
  },
  {
   "cell_type": "code",
   "execution_count": 7,
   "id": "efa49b56-08dd-441c-9c35-a8d9f3cd3329",
   "metadata": {},
   "outputs": [],
   "source": [
    "import gensim\n",
    "import gensim.models.word2vec"
   ]
  },
  {
   "cell_type": "code",
   "execution_count": 8,
   "id": "002eeac3-b538-4fd3-8d9c-1eb8c7741db0",
   "metadata": {},
   "outputs": [],
   "source": [
    "df['org_title'] = df['title']"
   ]
  },
  {
   "cell_type": "code",
   "execution_count": 9,
   "id": "1a18266f-171d-46d0-b1f4-92326856a320",
   "metadata": {},
   "outputs": [],
   "source": [
    "df['title'] = df['title'].str.lower()"
   ]
  },
  {
   "cell_type": "code",
   "execution_count": 10,
   "id": "d98ffa9f-1c1d-4513-a134-da21d198ee08",
   "metadata": {},
   "outputs": [
    {
     "name": "stderr",
     "output_type": "stream",
     "text": [
      "<>:2: SyntaxWarning: invalid escape sequence '\\|'\n",
      "<>:2: SyntaxWarning: invalid escape sequence '\\|'\n",
      "C:\\Users\\Rishabh\\AppData\\Local\\Temp\\ipykernel_16472\\1164970874.py:2: SyntaxWarning: invalid escape sequence '\\|'\n",
      "  punct = '!@#$%^&*():;\"{}[]?.,<-_>\\|\"/'''\n"
     ]
    }
   ],
   "source": [
    "def remove_punct(string):\n",
    "    punct = '!@#$%^&*():;\"{}[]?.,<-_>\\|\"/'''\n",
    "    for i in string:\n",
    "        if i in punct:\n",
    "            string = string.replace(i,'')\n",
    "    return string"
   ]
  },
  {
   "cell_type": "code",
   "execution_count": 11,
   "id": "5ca96fa9-16aa-465b-96e6-876785600035",
   "metadata": {},
   "outputs": [],
   "source": [
    "df['title'] = df['title'].apply(lambda x : remove_punct(x)) "
   ]
  },
  {
   "cell_type": "code",
   "execution_count": 12,
   "id": "dd5b437e-f89f-4235-aa65-420fb2505bb6",
   "metadata": {},
   "outputs": [],
   "source": [
    "from nltk.corpus import stopwords\n",
    "from nltk.tokenize import word_tokenize"
   ]
  },
  {
   "cell_type": "code",
   "execution_count": 13,
   "id": "f22c487f-4601-46c3-9384-69c4ca957755",
   "metadata": {},
   "outputs": [],
   "source": [
    "df['title'] = df['title'].apply(lambda x : word_tokenize(x))"
   ]
  },
  {
   "cell_type": "code",
   "execution_count": 14,
   "id": "387baff0-394b-4e12-ba3c-f7e894b9624e",
   "metadata": {},
   "outputs": [],
   "source": [
    "def remove_stopwords(text):\n",
    "    for i in text:\n",
    "        if i in stopwords.words('english'):\n",
    "            text.remove(i)\n",
    "    return text           "
   ]
  },
  {
   "cell_type": "code",
   "execution_count": 15,
   "id": "6f4d54f9-d0ec-40c6-bcd3-071773d07518",
   "metadata": {},
   "outputs": [],
   "source": [
    "df['title'] = df['title'].apply(lambda x : remove_stopwords(x))"
   ]
  },
  {
   "cell_type": "code",
   "execution_count": 16,
   "id": "ffd09e9b-12c3-4da7-bcf1-fc72bcbafb72",
   "metadata": {},
   "outputs": [],
   "source": [
    "# df['title'] "
   ]
  },
  {
   "cell_type": "code",
   "execution_count": 17,
   "id": "43c8d66f-70d2-449d-bf02-60fb7ffefae1",
   "metadata": {},
   "outputs": [],
   "source": [
    "from sklearn.metrics.pairwise import cosine_similarity"
   ]
  },
  {
   "cell_type": "code",
   "execution_count": 18,
   "id": "4e3b668c-7637-4326-ab4a-4813907a8e16",
   "metadata": {},
   "outputs": [],
   "source": [
    "model = gensim.models.Word2Vec(df['title'],min_count = 1)"
   ]
  },
  {
   "cell_type": "code",
   "execution_count": 19,
   "id": "dd59ee11-8803-44aa-868a-1b6611674f38",
   "metadata": {},
   "outputs": [],
   "source": [
    "title_1 = df['title'].iloc[0]\n",
    "title_2 = df['title'].iloc[156]"
   ]
  },
  {
   "cell_type": "code",
   "execution_count": 20,
   "id": "3a6b2bf6-0261-4f88-8555-3f1bbbf894e3",
   "metadata": {},
   "outputs": [],
   "source": [
    "title_1_tokens  = [ i for i in title_1 if i in model.wv]\n",
    "title_2_tokens  = [ i for i in title_2 if i in model.wv]"
   ]
  },
  {
   "cell_type": "code",
   "execution_count": null,
   "id": "f038d531-0bf7-4e46-b3e1-36570b7d55ff",
   "metadata": {},
   "outputs": [],
   "source": []
  },
  {
   "cell_type": "code",
   "execution_count": 21,
   "id": "04c77cbb-6e35-4fcb-92f6-bc945eb23840",
   "metadata": {},
   "outputs": [],
   "source": [
    "title_1_vec = np.mean(model.wv[title_1_tokens],axis = 0).reshape(1,-1)\n",
    "title_2_vec = np.mean(model.wv[title_2_tokens],axis = 0).reshape(1,-1)"
   ]
  },
  {
   "cell_type": "code",
   "execution_count": 22,
   "id": "47d0a8ba-391d-4767-9831-55dfde030fe0",
   "metadata": {},
   "outputs": [
    {
     "data": {
      "text/plain": [
       "(1, 100)"
      ]
     },
     "execution_count": 22,
     "metadata": {},
     "output_type": "execute_result"
    }
   ],
   "source": [
    "title_2_vec.shape"
   ]
  },
  {
   "cell_type": "code",
   "execution_count": 23,
   "id": "86850277-a7d6-486d-86f7-2a7a06565171",
   "metadata": {},
   "outputs": [
    {
     "data": {
      "text/plain": [
       "0.6147532"
      ]
     },
     "execution_count": 23,
     "metadata": {},
     "output_type": "execute_result"
    }
   ],
   "source": [
    "cosine_similarity(title_1_vec,title_2_vec)[0][0]"
   ]
  },
  {
   "cell_type": "code",
   "execution_count": 24,
   "id": "4cc3371b-474e-4e9a-afcf-534754bf421c",
   "metadata": {},
   "outputs": [
    {
     "data": {
      "text/plain": [
       "('Golden Vantage 30\" Under Cabinet Stainless Steel Range Hood GV-R01-75 With Baffle Filter',\n",
       " 'Samsung DE47-00006A Lamp Socket')"
      ]
     },
     "execution_count": 24,
     "metadata": {},
     "output_type": "execute_result"
    }
   ],
   "source": [
    "df['org_title'].iloc[0], df['org_title'].iloc[2]"
   ]
  },
  {
   "cell_type": "code",
   "execution_count": 25,
   "id": "a7f6920a-58ef-4d32-b365-9482bbf4c8f3",
   "metadata": {},
   "outputs": [],
   "source": [
    "def similarity(title_1,title_2):\n",
    "    \n",
    "    title_1_tokens  = [ i for i in title_1 if i in model.wv]\n",
    "    title_2_tokens  = [ i for i in title_2 if i in model.wv]\n",
    "\n",
    "    title_1_vec = np.mean(model.wv[title_1_tokens],axis = 0).reshape(1,-1)\n",
    "    title_2_vec = np.mean(model.wv[title_2_tokens],axis = 0).reshape(1,-1)\n",
    "    \n",
    "    cosine_similarity(title_1_vec,title_2_vec)[0][0]\n",
    "    similarity = cosine_similarity(title_1_vec,title_2_vec)[0][0]\n",
    "    \n",
    "    return similarity "
   ]
  },
  {
   "cell_type": "code",
   "execution_count": 26,
   "id": "8a9b7141-2a54-4873-9682-117e60e0e4a2",
   "metadata": {},
   "outputs": [],
   "source": [
    "df['title_tokens'] = df['title'].apply(lambda x : [i for i in x if i in model.wv] )"
   ]
  },
  {
   "cell_type": "code",
   "execution_count": 27,
   "id": "fafc52fc-b86b-4114-a2b2-dfd40a4ca902",
   "metadata": {},
   "outputs": [],
   "source": [
    "def top_similar(title,top_n):\n",
    "    sim_scores = sorted([(similarity(title,df['title'].iloc[i]),i)for i in range(len(df[0:2000]))],reverse = True)[0:top_n]\n",
    "    sim_indices  = [ i[1] for i in sim_scores]\n",
    "    return sim_indices\n",
    "    "
   ]
  },
  {
   "cell_type": "code",
   "execution_count": 28,
   "id": "e28ce4f3-001e-46ac-ac10-294250caeb76",
   "metadata": {},
   "outputs": [],
   "source": [
    "def top_score(title,top_n):\n",
    "    sim_scores = sorted([(similarity(title,df['title'].iloc[i]),i)for i in range(len(df[0:2000]))],reverse = True)[0:top_n]\n",
    "    #sim_indices  = [ i[1] for i in sim_scores]\n",
    "    return sim_scores"
   ]
  },
  {
   "cell_type": "code",
   "execution_count": 29,
   "id": "77ab5b56-9e50-4c5c-b11b-f4cf631d6808",
   "metadata": {},
   "outputs": [],
   "source": [
    "top_similars = top_similar(title_1,100)"
   ]
  },
  {
   "cell_type": "code",
   "execution_count": 30,
   "id": "f91ec588-4a44-423f-af9d-0e29f3db1090",
   "metadata": {},
   "outputs": [],
   "source": [
    "top_scores = top_score(title_1,10)"
   ]
  },
  {
   "cell_type": "code",
   "execution_count": 31,
   "id": "9659e2f3-7364-400b-8a3d-10a3a8622c15",
   "metadata": {},
   "outputs": [
    {
     "name": "stdout",
     "output_type": "stream",
     "text": [
      "Golden Vantage 30\" Under Cabinet Stainless Steel Range Hood GV-R01-75 With Baffle Filter\n",
      "WA07-WF3CB Water Filter Compatible with PureSource-3 WF3CB French Door Suitable for Pure Source, 2PCS, White\n",
      "Samsung DE47-00006A Lamp Socket\n",
      "EXCELPURE AF004 Refrigerator Air Filter\n",
      "Armor Case for Samsung Galaxy Buds 2 Case Cover 2021/ Galaxy Buds Pro Case Cover 2021/ Galaxy Buds Live Case Cover 2020, Secure Lock Hard Shell Protective Case Earbuds Accessories Keychain, Purple\n",
      "Wadoy WB44X5099 Oven Heating Bake Element Replacement for Conventional GE and Hotpoint Oven Stove Range\n",
      "Range Anti-tip Bracket 3801F656-51 New OEM Whirlpool\n",
      "Front Load Bearings Washer Tub Bearing and Seal Kit with Nachi bearings, Fits Maytag Tub W10772619 (Includes a 5 year replacement warranty and link to our\"How To\" videos)\n",
      "W10721967 Splutch Cam Kit Replacement for Whirlpool Wtw5000dw1, Maytag Mvwx655dw1, Whirlpool Wtw4816fw2, Whirlpool Wtw5000dw0, Whirlpool Wtw5000dw2, Whirlpool Wtw4800xq4, Whirlpool Wtw4800xq2\n",
      "Liebherr Fridge Freezer Door Handle Hinge Repair Kit\n",
      "NORCOLD INC 636216 Refrigerator Door Panel - Upper, Black Acrylic, Fits NXA641/NXA841 Models\n",
      "5304506544 Range Surface Burner Knob Set (Black) (Replaces 316545015) Genuine Original Equipment Manufacturer (OEM) Part\n",
      "lanruixin 8\" Range Cooktop Stove Burner Heating Element Fits 12001560\n",
      "Whirlpool Part Number W10256027: BURNR-HEAD\n",
      "FRIGIDAIRE 316436000 Switch, Oven, Small Burner Inf\n",
      "Coloranimal Thanksgiving Day Refrigerator Door Handle Covers 2 Packs Fall Maple Leaves Kitchen Hand Cover Funny Pumpkin Decorations Kitchen Appliance Handles Protector 16.1\" X 5.3\"\n",
      "GE WD13X10066 Keeper Latch Asm\n",
      "3-Pack Replacement for Frigidaire FRS6HR45KS0 Refrigerator Water Filter - Compatible with Frigidaire WF1CB, WFCB Fridge Water Filter Cartridge\n",
      "GE WC17X10014 Pedal Foot Asm\n",
      "Replacement for General Electric GSH25JSRFSS Refrigerator Water Filter - Compatible with General Electric MWF, MWFP Fridge Water Filter Cartridge\n",
      "NY [Upgraded] 131763310 Washer Door Striker Replacement, Compatible with Frigidaire & Kenmore Washers, Replaces 131763300 AP3580441 PS890617\n",
      "Samsung DD67-00040A Tub Spacer Cap\n",
      "Broan 373604 36\" Stainless Steel Under Cabinet Range Hood Shell\n",
      "Connaisseur Rockline Basket Coffee Filters 8-12 Cup Basket 700 Filters - = 1400 Filters by Connaisseur\n",
      "Kenmore 30120-0030100-00 Refrigerator Evaporator Fan Motor Assembly Genuine Original Equipment Manufacturer (OEM) Part\n",
      "Whirlpool Part Number 3369516: Front Panel (Almond/Black)\n",
      "Samsung DA97-07722A Assembly-Gasket Door Fre\n",
      "SyrupSupply Bib Qcd Tap Valve for General Bag in Box\n",
      "318353226 Range Surface Burner Knob (Replaces 318353217) Genuine Original Equipment Manufacturer (OEM) Part\n",
      "DE81-08738A SVC-KNOB W/LOGO SGM Genuine OEM\n",
      "Coffee Filter Holder Storage with Lid, Coffee Pod Holder, Acrylic Coffee Filter Container,Reusable Coffee Filter Dispenser for Coffee Station, Coffee Bar Accessories Organizer,Coffee Bar Set Up Decor\n",
      "Whirlpool WPW10310258 Bake Element, Black\n",
      "Rubsy Stainless Steel Milk Coffee Latte Frothing Art Jug Pitcher Mug Cup Maker Kitchen Craft Tool\n",
      "Whirlpool Part Number 9709707: Foot\n",
      "Frigidaire Refrigerator Door Hinge Bearing / Closing Cam (Color Black) New OEM\n",
      "General Electric WB02T10289 Range/Stove/Oven Fan Blade\n",
      "Whirlpool Part Number 2303583: Bracket, Ice Maker\n",
      "GE WB24K10074 Harness Burner Box\n",
      "LG ADX72930454 Refrigerator Door Gasket, Left Genuine Original Equipment Manufacturer (OEM) Part\n",
      "DEMCiflex Dust Filter Kit for Cooler Master HAF 912 (6 Filters), Black Frame/Black Mesh\n",
      "Pyle XPB20-288S PYRPUCWM22 Compact & Portable Washer & Dryer, 0, White and Amazon Basics Foldable Laundry Rack for Air Drying Clothing - 41.8\" x 29.5\" x 14.5\", White\n",
      "Compressor Start Relay 4.7 Ohm 1-Pin PTC Overload Kit Compatible with Mini Fridges Compact Refrigerators Beverage Wine Coolers Deep Freezers\n",
      "Stove Knobs Burner Control Knob WB03T10325 Range Stove Burner Knob by AMI PARTS Compatible with GE Cooktop/Stove/Oven Knobs-Replace AP5690210 PS3510510-5 Packs\n",
      "Washing Machine Spring Expansion Tool, GIGAMALL Washer Inner/Outer Tub Spring Removal Tool Rust Prevention Spring Tool with Anti-Slip Handle Washer Plier Replace for LG Samsung Washing Machine\n",
      "Electrolux Part Number 240311303: Washer\n",
      "Whirlpool 2149705 Switch for Refrigerator\n",
      "GE WR17X10827 Handle Pan Snack\n",
      "General Electric WB31X5011 8-Inch Electric Drip Pan\n",
      "Igloo ICE117-SSRED Ice Maker Red Stainless Steel - Produces 26 lbs. of ice per day (Certified Refurbished)\n",
      "211L Dryer Lint Trap Indoor Dryer Vent Kit\n",
      "JEMING 4 Pack Stainless Steel Reflector Bowls Universal Drip Pan Kits Gas Stove Burner Rings Replacement for Amana Crosley Frigidaire Maytag Whirlpool Two 6-Inch and Two 8-Inch\n",
      "2 X WHIRLPOOL 8171413 8171414 FILTER 8 EDR8D1 KENMORE 46-9002 WF286 NL200 Compatible Coral Filter\n",
      "#4 Reusable Permanent Cone Coffee Filters, 8~12 Cups Coffee Filter 4, Compatible with Cuisinart Ninja Bonavita OXO Coffee Maker & #4 Cone Coffee Dripers, Replacement for Melitta Coffee Filters No.4\n",
      "Upgraded Lifetime Appliance 4 x 8273103 Knob Compatible with Whirlpool Range Oven\n",
      "Electric Cooktop, HBHOB 5 Burner Cooktop Stove Top 30 Inch Built In Countertop, Radiant Glass Cooktop Infrared Cooker, Sensor Touch Control 9 Heating Level, Timer, Kid Safety Lock, Wiring Black\n",
      "UPGRADED Lifetime Appliance WP37001142 Lint Filter Compatible with Whirlpool Dryer\n",
      "ForeverPRO 807048001 Valve-Flapper for Frigidaire Dishwasher 2980544 PS8689794 154617301\n",
      "W10196405 and W10196406 Chrome Oil Drip Pans Replacement Set Compatible with Whirlpool Electric Range- Includes 2 6-Inch and 2 8-Inch Pans, 4 Pack, Silver\n",
      "Dryer Vent Cleaner Kit Dryer Vent Cleaning Kit (Black)\n",
      "Mcupper-4-pack High-Performance Filter replacement for all Neato Botvac Series models, 70e 75 80 85\n",
      "𝟮𝟬𝟮𝟯 𝙐𝙥𝙜𝙧𝙖𝙙𝙚𝙙 DC47-00019A Dryer Heating Element by Beaquicy - Suitable for Samsung Dryer dv419aeuxaa, dv419aeu/xaa, dv42h5000ew/a3, dv45h7000ew/a2, etc.\n",
      "SILVER KING 21251-2 Fan Motor, 115-volt\n",
      "Whirlpool Y055980 High Temperature Adhesive\n",
      "Easy to Read: Indoor Digital Thermometer and Humidity Meter. Large Digital Display Works in Celsius & Fahrenheit. Simple Temperature & Relative Humidity Monitor\n",
      "Potek Mini Fridge Cooler and Warmer (10 Liter / 11 Can): AC/DC Portable Thermoelectric System\n",
      "4396841 EDR3RXD1 Water Filter Cap Replacement Compatible with Filter 3, 4396710, P2RFWG2,9083,9030,46-9083 Water Filter-2-PACKS\n",
      "Whirlpool: WRT771REY 21.1 cu. ft. Top-Freezer Refrigerator with SpillMizer Glass Shelves, Humidity Controlled Crispers, Full-Width Pantry, External Water Dispenser and Ice Maker\n",
      "280187 Washer Drain Pump Motor Only Replacement for Kenmore/Sears 11042822201 Washing Machine - Compatible with 8181684 Water Pump - UpStart Components Brand\n",
      "Washing Drain Pump Motor Assembly Replacement For LG Washer Washer Dryer,W10391443 AP6020786 PS11754106 W10321032\n",
      "ADT Ice Maker Machine Cover Bag Countertop Ice Machine Coffee Maker Cover, Dust Resistant Protector, Black\n",
      "AP3094254 279838 Dryer Heating Element Fits Whirlpool, Kenmore, Maytag, KitchenAid Replaces 279838 3977767 3392519 3387134 3977393\n",
      "Whirlpool W10111620 Main Printed Circuit Board\n",
      "Hotpoint 8\" Range Cooktop Stove Replacement Surface Burner Heating Element WB30T10071\n",
      "YQL Cold Brew Coffee Filter,50PCS 4x6 Inch No Mess Cold Brew Coffee Bags Disposable Mesh Brewing Bags Tea Filter Bag for Cold Brew Coffee or Tea\n",
      "Y04100019 Jenn-Air Range Element, Bake\n",
      "Supplying Demand DC61-02627A 2069516 Clothes Dryer Moisture Sensor Replacement Model Specific Not Universal\n",
      "Lower Spray Arm Replacement For Frigidaire FBD2400KB8B FBD2400KB9B FBD2400KQ0 FBD2400KQ2A FBD2400KQ3A FBD2400KQ4A FBD2400KS0A FBD2400KS10B FBD2400KS1A FBD2400KS2A FBD2400KS3B FBD2400KS4B Dishwasher\n",
      "Vulcan Hart VULCAN HART 419657-G1 Door Gasket 26.25\" & 75.75\" 2 Pieces Metal & Wovan For Vulcan Oven Retro 321163\n",
      "HNHMT Gas Stove burner Covers, Stove Burner Covers for Samsung, Stove Cover Stove Guard With 2 Stove Gap Covers, Stove Top Covers for Gas Burners\n",
      "Whirlpool Part Number 21002070: KNOB- SELE\n",
      "(OCN) New 5304421256 Replacement for Electrolux Compatible with Frigidaire Refrigerator Thermostat Control EA472524, G450226-08, and PS472524 fits many other models\n",
      "W10712395 Dishwasher Adjuster Replacement Kit Replacement for Whirlpool WDT780SAEM2 Dishwasher - Compatible with W10712395 Dishwasher Rack Adjuster Kit - UpStart Components Brand\n",
      "Nostalgic Warehouse Rope Keyhole Cover, Antique Pewter,703058\n",
      "DC96-00887A & DC47-00018A Dryer Thermal Fuse and Thermostat Kit Replacement by BlueStars – Exact Fit For Whirlpool & Samsung Dryers - Replaces DC96-00887C PS4276292 PS4205217\n",
      "Whirlpool 37001184 Timer\n",
      "AGA Cooker Cleaning Kit\n",
      "33001808 Lint Screen Filter for Maytag Neptune Dryer\n",
      "WP902894 Dishwasher Rubber Door Gasket Seal by Lusperi - Compatible with Whirlpool, Amana, Maytag Dishwasher Replaces 902894 99001072 PS11746830 99002006\n",
      "Camco 43653 Coffee Filter Dispenser\n",
      "ANGIEHAIE OUTFITTERS Mini Portable Refrigerator - 2 in 1 35 Liter Capacity Electric Personal Cooler & Freezer with Temp Control for Food, Beverage & Skincare for Home, Office & Car - Black, Off-White\n",
      "Supplying Demand 316439801 Electric Range Burner 2 Pack Fits Frigidaire\n",
      "691366 Dryer Idler Pulley Replacement for Whirlpool Kenmore Maytag Dryers, Replaces AP6010582 PS11743765 WP691366 337116 337407\n",
      "Frigidaire 241689301 Rotary Damper for Refrigerato\n",
      "Cambro (16E2151) 16 Compartment Half Drop Extender [Case of 12]\n",
      "OEM 4681EA2001T Washer Drain Pump Replacement by CC.KU - Compatible with Kenmore & LG Washer,Replaces PS3579318, AP5328388, 4681EA1007G, 4681EA1007D, 4681EA2001D\n",
      "Antoble WR51X10053 Refrigerator Defrost Heater for General Electric, Hotpoint\n",
      "ZLINE 30 in. 400 CFM Designer Series Wooden Wall Mount Range Hood (KBCC-30)\n",
      "Whirlpool 8193942 Door Seal\n",
      "Siwdoy 3363394 Washer Drain Pump Replacement Part Compatible with Whirlpool 3352492 3352493 3352293 3352292 WP3363394\n",
      "2-Pack Replacement for Samsung RM257ABSH Refrigerator Water Filter - Compatible with Samsung DA29-00003G, Samsung DA29-00003B, Samsung DA29-00003A Fridge Water Filter Cartridge\n"
     ]
    }
   ],
   "source": [
    "for a in range(len(top_similars)):\n",
    "    print(df['org_title'].iloc[a])"
   ]
  },
  {
   "cell_type": "code",
   "execution_count": 32,
   "id": "1b84de3b-bb63-4ab9-a8dd-935bcee52383",
   "metadata": {},
   "outputs": [
    {
     "name": "stdout",
     "output_type": "stream",
     "text": [
      "https://m.media-amazon.com/images/I/41Sr3+ii9dL._AC_.jpg\n",
      "https://m.media-amazon.com/images/I/51RIGSxzKEL._AC_.jpg\n",
      "https://m.media-amazon.com/images/I/41KQXId9MTL._AC_.jpg\n",
      "https://m.media-amazon.com/images/I/51IQWbjckcL._AC_.jpg\n",
      "https://m.media-amazon.com/images/I/41AuixiRIWL._AC_.jpg\n",
      "https://m.media-amazon.com/images/I/31Z9XM7nRnL._AC_.jpg\n",
      "https://m.media-amazon.com/images/I/31+2OE7HQ-L._AC_.jpg\n",
      "https://m.media-amazon.com/images/I/41xmc3wfeKL._AC_.jpg\n",
      "https://m.media-amazon.com/images/I/41TE0CJZ4xL._AC_.jpg\n",
      "https://m.media-amazon.com/images/I/41ZI1paHLCL._AC_.jpg\n"
     ]
    }
   ],
   "source": [
    "for a in range(len(top_scores)):\n",
    "    print(df['images'].iloc[a][0]['large'])"
   ]
  },
  {
   "cell_type": "code",
   "execution_count": 33,
   "id": "50e5cb73-b92d-4388-b94b-d6bddfc520e8",
   "metadata": {
    "scrolled": true
   },
   "outputs": [
    {
     "data": {
      "text/plain": [
       "Index(['index', 'main_category', 'title', 'average_rating', 'rating_number',\n",
       "       'features', 'description', 'price', 'images', 'videos', 'store',\n",
       "       'categories', 'details', 'parent_asin', 'bought_together', 'subtitle',\n",
       "       'author', 'org_title', 'title_tokens'],\n",
       "      dtype='object')"
      ]
     },
     "execution_count": 33,
     "metadata": {},
     "output_type": "execute_result"
    }
   ],
   "source": [
    "df.columns"
   ]
  },
  {
   "cell_type": "code",
   "execution_count": 34,
   "id": "a472bc12-4744-482d-a3dc-47ccfbd54a5b",
   "metadata": {},
   "outputs": [
    {
     "name": "stderr",
     "output_type": "stream",
     "text": [
      "C:\\Users\\Rishabh\\AppData\\Local\\Temp\\ipykernel_16472\\2140076247.py:1: FutureWarning: A value is trying to be set on a copy of a DataFrame or Series through chained assignment using an inplace method.\n",
      "The behavior will change in pandas 3.0. This inplace method will never work because the intermediate object on which we are setting values always behaves as a copy.\n",
      "\n",
      "For example, when doing 'df[col].method(value, inplace=True)', try using 'df.method({col: value}, inplace=True)' or df[col] = df[col].method(value) instead, to perform the operation inplace on the original object.\n",
      "\n",
      "\n",
      "  df['main_category'].fillna(\"Unknown\", inplace = True)\n"
     ]
    }
   ],
   "source": [
    "df['main_category'].fillna(\"Unknown\", inplace = True)"
   ]
  },
  {
   "cell_type": "code",
   "execution_count": 35,
   "id": "1970bb96-9f1d-43a7-9217-104e91f9fe3c",
   "metadata": {},
   "outputs": [],
   "source": [
    "from sklearn.preprocessing import OneHotEncoder"
   ]
  },
  {
   "cell_type": "code",
   "execution_count": 36,
   "id": "c9bb5e8d-d90a-4d52-ba50-f0c63458cb63",
   "metadata": {},
   "outputs": [],
   "source": [
    "ohe = OneHotEncoder(sparse_output = False)"
   ]
  },
  {
   "cell_type": "code",
   "execution_count": 37,
   "id": "4cd52f54-61fe-4f15-98c8-da73d57adca8",
   "metadata": {},
   "outputs": [],
   "source": [
    "categories = df[\"main_category\"]\n",
    "categories_reshaped = categories.to_frame()\n",
    "\n",
    "encoded_main_categories = ohe.fit_transform(categories_reshaped)\n",
    "features = ohe.get_feature_names_out()\n",
    "main_cat_df = pd.DataFrame(encoded_main_categories,columns =features )\n"
   ]
  },
  {
   "cell_type": "code",
   "execution_count": 38,
   "id": "0972bc96-2b2e-4e03-96ed-fd821b9eaa3d",
   "metadata": {},
   "outputs": [
    {
     "data": {
      "text/plain": [
       "Index(['index', 'main_category', 'title', 'average_rating', 'rating_number',\n",
       "       'features', 'description', 'price', 'images', 'videos', 'store',\n",
       "       'categories', 'details', 'parent_asin', 'bought_together', 'subtitle',\n",
       "       'author', 'org_title', 'title_tokens'],\n",
       "      dtype='object')"
      ]
     },
     "execution_count": 38,
     "metadata": {},
     "output_type": "execute_result"
    }
   ],
   "source": [
    "df.columns"
   ]
  },
  {
   "cell_type": "code",
   "execution_count": 39,
   "id": "76e7b073-a7af-435b-a17e-26fb7f7a6f0f",
   "metadata": {},
   "outputs": [
    {
     "data": {
      "text/plain": [
       "(37731, 28)"
      ]
     },
     "execution_count": 39,
     "metadata": {},
     "output_type": "execute_result"
    }
   ],
   "source": [
    "main_cat_df.shape"
   ]
  },
  {
   "cell_type": "code",
   "execution_count": 40,
   "id": "dda627bf-7304-4432-bdf4-4d45eeba2f31",
   "metadata": {},
   "outputs": [
    {
     "data": {
      "text/plain": [
       "(37731,)"
      ]
     },
     "execution_count": 40,
     "metadata": {},
     "output_type": "execute_result"
    }
   ],
   "source": [
    "df['title'].shape"
   ]
  },
  {
   "cell_type": "code",
   "execution_count": 41,
   "id": "65d23227-b2eb-4609-b802-938e561ed110",
   "metadata": {},
   "outputs": [
    {
     "data": {
      "text/plain": [
       "(37731,)"
      ]
     },
     "execution_count": 41,
     "metadata": {},
     "output_type": "execute_result"
    }
   ],
   "source": [
    "df['average_rating'].shape"
   ]
  },
  {
   "cell_type": "code",
   "execution_count": 42,
   "id": "6dafda17-c188-4a2a-9485-7114241d7a7c",
   "metadata": {},
   "outputs": [],
   "source": [
    "new_df = pd.concat([main_cat_df,df['average_rating']],axis = 1)"
   ]
  },
  {
   "cell_type": "code",
   "execution_count": 43,
   "id": "abfb216b-600c-49fa-8184-6cbce67300f2",
   "metadata": {},
   "outputs": [],
   "source": [
    "title_2_vec = np.mean(model.wv[title_2_tokens],axis = 0).reshape(1,-1)"
   ]
  },
  {
   "cell_type": "code",
   "execution_count": 44,
   "id": "3343abce-fe06-4543-b2d6-e7c87d060a9f",
   "metadata": {},
   "outputs": [],
   "source": [
    "# def tokens_to_vec(x):\n",
    "#     x = np.array(x)\n",
    "#     x = np.mean(model.wv[x],axis = 0).reshape(1,-1)\n",
    "#     return x\n",
    "\n",
    "def tokens_to_vec(x):\n",
    "    # x = [word for word in x if word in model.wv]  # Keep only known words\n",
    "\n",
    "    if len(x) == 0:  \n",
    "        return np.zeros(model.vector_size)  # Return zero vector if no known words\n",
    "\n",
    "    x = np.array(model.wv[x])\n",
    "    x = np.mean(x, axis=0)\n",
    "    \n",
    "    return x"
   ]
  },
  {
   "cell_type": "code",
   "execution_count": 45,
   "id": "866ea057-7e15-4096-825e-2b49a6840d48",
   "metadata": {},
   "outputs": [],
   "source": [
    "df['title_to_vecs'] = df['title_tokens'].apply(lambda x: tokens_to_vec(x))"
   ]
  },
  {
   "cell_type": "code",
   "execution_count": 46,
   "id": "fdc8fef3-9c43-4d0c-bc77-7395bd856d92",
   "metadata": {
    "scrolled": true
   },
   "outputs": [
    {
     "data": {
      "text/plain": [
       "0        [-0.7931059, 0.2232966, -0.17456146, 0.7224496...\n",
       "1        [-0.3227591, 0.42944974, -0.38586172, 0.071249...\n",
       "2        [-0.13532123, 0.61226946, -0.016423896, -0.297...\n",
       "3        [-1.08549, 1.419483, -0.6168945, 0.08406241, 0...\n",
       "4        [-0.2656002, 0.19988433, 0.051414955, -0.07603...\n",
       "                               ...                        \n",
       "37726    [-0.70280904, 0.6049695, -0.46006036, 0.595198...\n",
       "37727    [-0.28534618, 0.95836616, 0.55846596, -0.69682...\n",
       "37728    [-0.29200956, 0.13709845, 0.4467735, -0.237594...\n",
       "37729    [-0.3728777, -0.008640668, -0.16535652, 0.1210...\n",
       "37730    [-0.05977665, 0.32193324, -0.2244154, -0.31142...\n",
       "Name: title_to_vecs, Length: 37731, dtype: object"
      ]
     },
     "execution_count": 46,
     "metadata": {},
     "output_type": "execute_result"
    }
   ],
   "source": [
    "df['title_to_vecs']"
   ]
  },
  {
   "cell_type": "code",
   "execution_count": 47,
   "id": "0f60a549-1f38-438b-b1ff-028383d1d512",
   "metadata": {},
   "outputs": [
    {
     "data": {
      "text/html": [
       "<div>\n",
       "<style scoped>\n",
       "    .dataframe tbody tr th:only-of-type {\n",
       "        vertical-align: middle;\n",
       "    }\n",
       "\n",
       "    .dataframe tbody tr th {\n",
       "        vertical-align: top;\n",
       "    }\n",
       "\n",
       "    .dataframe thead th {\n",
       "        text-align: right;\n",
       "    }\n",
       "</style>\n",
       "<table border=\"1\" class=\"dataframe\">\n",
       "  <thead>\n",
       "    <tr style=\"text-align: right;\">\n",
       "      <th></th>\n",
       "      <th>main_category_AMAZON FASHION</th>\n",
       "      <th>main_category_All Beauty</th>\n",
       "      <th>main_category_All Electronics</th>\n",
       "      <th>main_category_Amazon Home</th>\n",
       "      <th>main_category_Appliances</th>\n",
       "      <th>main_category_Arts, Crafts &amp; Sewing</th>\n",
       "      <th>main_category_Automotive</th>\n",
       "      <th>main_category_Baby</th>\n",
       "      <th>main_category_Books</th>\n",
       "      <th>main_category_Camera &amp; Photo</th>\n",
       "      <th>...</th>\n",
       "      <th>main_category_Office Products</th>\n",
       "      <th>main_category_Pet Supplies</th>\n",
       "      <th>main_category_Portable Audio &amp; Accessories</th>\n",
       "      <th>main_category_Premium Beauty</th>\n",
       "      <th>main_category_Sports &amp; Outdoors</th>\n",
       "      <th>main_category_Tools &amp; Home Improvement</th>\n",
       "      <th>main_category_Toys &amp; Games</th>\n",
       "      <th>main_category_Unknown</th>\n",
       "      <th>main_category_Video Games</th>\n",
       "      <th>average_rating</th>\n",
       "    </tr>\n",
       "  </thead>\n",
       "  <tbody>\n",
       "    <tr>\n",
       "      <th>0</th>\n",
       "      <td>0.0</td>\n",
       "      <td>0.0</td>\n",
       "      <td>0.0</td>\n",
       "      <td>0.0</td>\n",
       "      <td>1.0</td>\n",
       "      <td>0.0</td>\n",
       "      <td>0.0</td>\n",
       "      <td>0.0</td>\n",
       "      <td>0.0</td>\n",
       "      <td>0.0</td>\n",
       "      <td>...</td>\n",
       "      <td>0.0</td>\n",
       "      <td>0.0</td>\n",
       "      <td>0.0</td>\n",
       "      <td>0.0</td>\n",
       "      <td>0.0</td>\n",
       "      <td>0.0</td>\n",
       "      <td>0.0</td>\n",
       "      <td>0.0</td>\n",
       "      <td>0.0</td>\n",
       "      <td>2.9</td>\n",
       "    </tr>\n",
       "    <tr>\n",
       "      <th>1</th>\n",
       "      <td>0.0</td>\n",
       "      <td>0.0</td>\n",
       "      <td>0.0</td>\n",
       "      <td>1.0</td>\n",
       "      <td>0.0</td>\n",
       "      <td>0.0</td>\n",
       "      <td>0.0</td>\n",
       "      <td>0.0</td>\n",
       "      <td>0.0</td>\n",
       "      <td>0.0</td>\n",
       "      <td>...</td>\n",
       "      <td>0.0</td>\n",
       "      <td>0.0</td>\n",
       "      <td>0.0</td>\n",
       "      <td>0.0</td>\n",
       "      <td>0.0</td>\n",
       "      <td>0.0</td>\n",
       "      <td>0.0</td>\n",
       "      <td>0.0</td>\n",
       "      <td>0.0</td>\n",
       "      <td>4.4</td>\n",
       "    </tr>\n",
       "    <tr>\n",
       "      <th>2</th>\n",
       "      <td>0.0</td>\n",
       "      <td>0.0</td>\n",
       "      <td>0.0</td>\n",
       "      <td>0.0</td>\n",
       "      <td>0.0</td>\n",
       "      <td>0.0</td>\n",
       "      <td>0.0</td>\n",
       "      <td>0.0</td>\n",
       "      <td>0.0</td>\n",
       "      <td>0.0</td>\n",
       "      <td>...</td>\n",
       "      <td>0.0</td>\n",
       "      <td>0.0</td>\n",
       "      <td>0.0</td>\n",
       "      <td>0.0</td>\n",
       "      <td>0.0</td>\n",
       "      <td>1.0</td>\n",
       "      <td>0.0</td>\n",
       "      <td>0.0</td>\n",
       "      <td>0.0</td>\n",
       "      <td>5.0</td>\n",
       "    </tr>\n",
       "    <tr>\n",
       "      <th>3</th>\n",
       "      <td>0.0</td>\n",
       "      <td>0.0</td>\n",
       "      <td>0.0</td>\n",
       "      <td>0.0</td>\n",
       "      <td>1.0</td>\n",
       "      <td>0.0</td>\n",
       "      <td>0.0</td>\n",
       "      <td>0.0</td>\n",
       "      <td>0.0</td>\n",
       "      <td>0.0</td>\n",
       "      <td>...</td>\n",
       "      <td>0.0</td>\n",
       "      <td>0.0</td>\n",
       "      <td>0.0</td>\n",
       "      <td>0.0</td>\n",
       "      <td>0.0</td>\n",
       "      <td>0.0</td>\n",
       "      <td>0.0</td>\n",
       "      <td>0.0</td>\n",
       "      <td>0.0</td>\n",
       "      <td>4.4</td>\n",
       "    </tr>\n",
       "    <tr>\n",
       "      <th>4</th>\n",
       "      <td>0.0</td>\n",
       "      <td>0.0</td>\n",
       "      <td>0.0</td>\n",
       "      <td>0.0</td>\n",
       "      <td>1.0</td>\n",
       "      <td>0.0</td>\n",
       "      <td>0.0</td>\n",
       "      <td>0.0</td>\n",
       "      <td>0.0</td>\n",
       "      <td>0.0</td>\n",
       "      <td>...</td>\n",
       "      <td>0.0</td>\n",
       "      <td>0.0</td>\n",
       "      <td>0.0</td>\n",
       "      <td>0.0</td>\n",
       "      <td>0.0</td>\n",
       "      <td>0.0</td>\n",
       "      <td>0.0</td>\n",
       "      <td>0.0</td>\n",
       "      <td>0.0</td>\n",
       "      <td>4.0</td>\n",
       "    </tr>\n",
       "    <tr>\n",
       "      <th>...</th>\n",
       "      <td>...</td>\n",
       "      <td>...</td>\n",
       "      <td>...</td>\n",
       "      <td>...</td>\n",
       "      <td>...</td>\n",
       "      <td>...</td>\n",
       "      <td>...</td>\n",
       "      <td>...</td>\n",
       "      <td>...</td>\n",
       "      <td>...</td>\n",
       "      <td>...</td>\n",
       "      <td>...</td>\n",
       "      <td>...</td>\n",
       "      <td>...</td>\n",
       "      <td>...</td>\n",
       "      <td>...</td>\n",
       "      <td>...</td>\n",
       "      <td>...</td>\n",
       "      <td>...</td>\n",
       "      <td>...</td>\n",
       "      <td>...</td>\n",
       "    </tr>\n",
       "    <tr>\n",
       "      <th>37726</th>\n",
       "      <td>0.0</td>\n",
       "      <td>0.0</td>\n",
       "      <td>0.0</td>\n",
       "      <td>1.0</td>\n",
       "      <td>0.0</td>\n",
       "      <td>0.0</td>\n",
       "      <td>0.0</td>\n",
       "      <td>0.0</td>\n",
       "      <td>0.0</td>\n",
       "      <td>0.0</td>\n",
       "      <td>...</td>\n",
       "      <td>0.0</td>\n",
       "      <td>0.0</td>\n",
       "      <td>0.0</td>\n",
       "      <td>0.0</td>\n",
       "      <td>0.0</td>\n",
       "      <td>0.0</td>\n",
       "      <td>0.0</td>\n",
       "      <td>0.0</td>\n",
       "      <td>0.0</td>\n",
       "      <td>4.6</td>\n",
       "    </tr>\n",
       "    <tr>\n",
       "      <th>37727</th>\n",
       "      <td>0.0</td>\n",
       "      <td>0.0</td>\n",
       "      <td>0.0</td>\n",
       "      <td>0.0</td>\n",
       "      <td>1.0</td>\n",
       "      <td>0.0</td>\n",
       "      <td>0.0</td>\n",
       "      <td>0.0</td>\n",
       "      <td>0.0</td>\n",
       "      <td>0.0</td>\n",
       "      <td>...</td>\n",
       "      <td>0.0</td>\n",
       "      <td>0.0</td>\n",
       "      <td>0.0</td>\n",
       "      <td>0.0</td>\n",
       "      <td>0.0</td>\n",
       "      <td>0.0</td>\n",
       "      <td>0.0</td>\n",
       "      <td>0.0</td>\n",
       "      <td>0.0</td>\n",
       "      <td>5.0</td>\n",
       "    </tr>\n",
       "    <tr>\n",
       "      <th>37728</th>\n",
       "      <td>0.0</td>\n",
       "      <td>0.0</td>\n",
       "      <td>0.0</td>\n",
       "      <td>1.0</td>\n",
       "      <td>0.0</td>\n",
       "      <td>0.0</td>\n",
       "      <td>0.0</td>\n",
       "      <td>0.0</td>\n",
       "      <td>0.0</td>\n",
       "      <td>0.0</td>\n",
       "      <td>...</td>\n",
       "      <td>0.0</td>\n",
       "      <td>0.0</td>\n",
       "      <td>0.0</td>\n",
       "      <td>0.0</td>\n",
       "      <td>0.0</td>\n",
       "      <td>0.0</td>\n",
       "      <td>0.0</td>\n",
       "      <td>0.0</td>\n",
       "      <td>0.0</td>\n",
       "      <td>4.4</td>\n",
       "    </tr>\n",
       "    <tr>\n",
       "      <th>37729</th>\n",
       "      <td>0.0</td>\n",
       "      <td>0.0</td>\n",
       "      <td>0.0</td>\n",
       "      <td>0.0</td>\n",
       "      <td>1.0</td>\n",
       "      <td>0.0</td>\n",
       "      <td>0.0</td>\n",
       "      <td>0.0</td>\n",
       "      <td>0.0</td>\n",
       "      <td>0.0</td>\n",
       "      <td>...</td>\n",
       "      <td>0.0</td>\n",
       "      <td>0.0</td>\n",
       "      <td>0.0</td>\n",
       "      <td>0.0</td>\n",
       "      <td>0.0</td>\n",
       "      <td>0.0</td>\n",
       "      <td>0.0</td>\n",
       "      <td>0.0</td>\n",
       "      <td>0.0</td>\n",
       "      <td>4.3</td>\n",
       "    </tr>\n",
       "    <tr>\n",
       "      <th>37730</th>\n",
       "      <td>0.0</td>\n",
       "      <td>0.0</td>\n",
       "      <td>0.0</td>\n",
       "      <td>0.0</td>\n",
       "      <td>0.0</td>\n",
       "      <td>0.0</td>\n",
       "      <td>0.0</td>\n",
       "      <td>0.0</td>\n",
       "      <td>0.0</td>\n",
       "      <td>0.0</td>\n",
       "      <td>...</td>\n",
       "      <td>0.0</td>\n",
       "      <td>0.0</td>\n",
       "      <td>0.0</td>\n",
       "      <td>0.0</td>\n",
       "      <td>0.0</td>\n",
       "      <td>0.0</td>\n",
       "      <td>0.0</td>\n",
       "      <td>1.0</td>\n",
       "      <td>0.0</td>\n",
       "      <td>4.3</td>\n",
       "    </tr>\n",
       "  </tbody>\n",
       "</table>\n",
       "<p>37731 rows × 29 columns</p>\n",
       "</div>"
      ],
      "text/plain": [
       "       main_category_AMAZON FASHION  main_category_All Beauty  \\\n",
       "0                               0.0                       0.0   \n",
       "1                               0.0                       0.0   \n",
       "2                               0.0                       0.0   \n",
       "3                               0.0                       0.0   \n",
       "4                               0.0                       0.0   \n",
       "...                             ...                       ...   \n",
       "37726                           0.0                       0.0   \n",
       "37727                           0.0                       0.0   \n",
       "37728                           0.0                       0.0   \n",
       "37729                           0.0                       0.0   \n",
       "37730                           0.0                       0.0   \n",
       "\n",
       "       main_category_All Electronics  main_category_Amazon Home  \\\n",
       "0                                0.0                        0.0   \n",
       "1                                0.0                        1.0   \n",
       "2                                0.0                        0.0   \n",
       "3                                0.0                        0.0   \n",
       "4                                0.0                        0.0   \n",
       "...                              ...                        ...   \n",
       "37726                            0.0                        1.0   \n",
       "37727                            0.0                        0.0   \n",
       "37728                            0.0                        1.0   \n",
       "37729                            0.0                        0.0   \n",
       "37730                            0.0                        0.0   \n",
       "\n",
       "       main_category_Appliances  main_category_Arts, Crafts & Sewing  \\\n",
       "0                           1.0                                  0.0   \n",
       "1                           0.0                                  0.0   \n",
       "2                           0.0                                  0.0   \n",
       "3                           1.0                                  0.0   \n",
       "4                           1.0                                  0.0   \n",
       "...                         ...                                  ...   \n",
       "37726                       0.0                                  0.0   \n",
       "37727                       1.0                                  0.0   \n",
       "37728                       0.0                                  0.0   \n",
       "37729                       1.0                                  0.0   \n",
       "37730                       0.0                                  0.0   \n",
       "\n",
       "       main_category_Automotive  main_category_Baby  main_category_Books  \\\n",
       "0                           0.0                 0.0                  0.0   \n",
       "1                           0.0                 0.0                  0.0   \n",
       "2                           0.0                 0.0                  0.0   \n",
       "3                           0.0                 0.0                  0.0   \n",
       "4                           0.0                 0.0                  0.0   \n",
       "...                         ...                 ...                  ...   \n",
       "37726                       0.0                 0.0                  0.0   \n",
       "37727                       0.0                 0.0                  0.0   \n",
       "37728                       0.0                 0.0                  0.0   \n",
       "37729                       0.0                 0.0                  0.0   \n",
       "37730                       0.0                 0.0                  0.0   \n",
       "\n",
       "       main_category_Camera & Photo  ...  main_category_Office Products  \\\n",
       "0                               0.0  ...                            0.0   \n",
       "1                               0.0  ...                            0.0   \n",
       "2                               0.0  ...                            0.0   \n",
       "3                               0.0  ...                            0.0   \n",
       "4                               0.0  ...                            0.0   \n",
       "...                             ...  ...                            ...   \n",
       "37726                           0.0  ...                            0.0   \n",
       "37727                           0.0  ...                            0.0   \n",
       "37728                           0.0  ...                            0.0   \n",
       "37729                           0.0  ...                            0.0   \n",
       "37730                           0.0  ...                            0.0   \n",
       "\n",
       "       main_category_Pet Supplies  main_category_Portable Audio & Accessories  \\\n",
       "0                             0.0                                         0.0   \n",
       "1                             0.0                                         0.0   \n",
       "2                             0.0                                         0.0   \n",
       "3                             0.0                                         0.0   \n",
       "4                             0.0                                         0.0   \n",
       "...                           ...                                         ...   \n",
       "37726                         0.0                                         0.0   \n",
       "37727                         0.0                                         0.0   \n",
       "37728                         0.0                                         0.0   \n",
       "37729                         0.0                                         0.0   \n",
       "37730                         0.0                                         0.0   \n",
       "\n",
       "       main_category_Premium Beauty  main_category_Sports & Outdoors  \\\n",
       "0                               0.0                              0.0   \n",
       "1                               0.0                              0.0   \n",
       "2                               0.0                              0.0   \n",
       "3                               0.0                              0.0   \n",
       "4                               0.0                              0.0   \n",
       "...                             ...                              ...   \n",
       "37726                           0.0                              0.0   \n",
       "37727                           0.0                              0.0   \n",
       "37728                           0.0                              0.0   \n",
       "37729                           0.0                              0.0   \n",
       "37730                           0.0                              0.0   \n",
       "\n",
       "       main_category_Tools & Home Improvement  main_category_Toys & Games  \\\n",
       "0                                         0.0                         0.0   \n",
       "1                                         0.0                         0.0   \n",
       "2                                         1.0                         0.0   \n",
       "3                                         0.0                         0.0   \n",
       "4                                         0.0                         0.0   \n",
       "...                                       ...                         ...   \n",
       "37726                                     0.0                         0.0   \n",
       "37727                                     0.0                         0.0   \n",
       "37728                                     0.0                         0.0   \n",
       "37729                                     0.0                         0.0   \n",
       "37730                                     0.0                         0.0   \n",
       "\n",
       "       main_category_Unknown  main_category_Video Games  average_rating  \n",
       "0                        0.0                        0.0             2.9  \n",
       "1                        0.0                        0.0             4.4  \n",
       "2                        0.0                        0.0             5.0  \n",
       "3                        0.0                        0.0             4.4  \n",
       "4                        0.0                        0.0             4.0  \n",
       "...                      ...                        ...             ...  \n",
       "37726                    0.0                        0.0             4.6  \n",
       "37727                    0.0                        0.0             5.0  \n",
       "37728                    0.0                        0.0             4.4  \n",
       "37729                    0.0                        0.0             4.3  \n",
       "37730                    1.0                        0.0             4.3  \n",
       "\n",
       "[37731 rows x 29 columns]"
      ]
     },
     "execution_count": 47,
     "metadata": {},
     "output_type": "execute_result"
    }
   ],
   "source": [
    "new_df"
   ]
  },
  {
   "cell_type": "code",
   "execution_count": 48,
   "id": "ed2b0aa1-0bda-4c08-8274-c846ee197d19",
   "metadata": {},
   "outputs": [],
   "source": [
    "df['title_tokens'] = df['title_tokens'].apply(lambda x: tokens_to_vec(x))"
   ]
  },
  {
   "cell_type": "code",
   "execution_count": 49,
   "id": "61fab40a-e9e4-4d40-a5c4-1cb6506702c4",
   "metadata": {
    "scrolled": true
   },
   "outputs": [
    {
     "data": {
      "text/plain": [
       "array([-0.7931059 ,  0.2232966 , -0.17456146,  0.72244966,  0.97009414,\n",
       "       -0.38485366,  1.0224221 ,  2.5094004 , -1.1466985 , -0.97389776,\n",
       "       -0.48897603, -0.318738  ,  0.8373493 ,  0.79977494,  1.1824898 ,\n",
       "       -1.6610123 ,  1.124975  , -1.0111227 , -0.15239699, -1.2492995 ,\n",
       "        0.39439994,  0.08845143,  0.34682545, -1.0735142 , -0.15734346,\n",
       "       -1.170747  , -1.0579562 , -0.09518883, -0.36750594,  0.34578943,\n",
       "        1.5149444 , -0.547556  , -0.17247061, -0.60074407, -0.88539636,\n",
       "        2.5300353 , -0.5031191 , -0.45325488, -0.72623044, -1.1094911 ,\n",
       "       -0.06867205, -0.16302745,  0.724527  ,  0.7400706 ,  0.4364109 ,\n",
       "        0.21828146, -0.6939741 , -1.0493977 ,  0.525056  , -0.60559624,\n",
       "        0.16227776, -0.7590214 , -1.1360251 , -0.02592522,  0.17152262,\n",
       "        1.4223595 , -0.6443937 ,  0.42560947,  0.42812875, -0.27054796,\n",
       "       -0.4338355 , -0.18611799,  1.0596963 , -1.2457191 , -1.6568909 ,\n",
       "        1.3422432 ,  0.12390924,  1.1515827 , -1.9367337 ,  0.53576785,\n",
       "       -0.63680595,  1.3542951 ,  1.4907966 , -0.45005348,  0.63543385,\n",
       "       -0.25345677, -0.38421604,  0.4252628 , -1.5771431 , -0.16210279,\n",
       "       -1.2996635 , -0.4751934 , -1.2883911 ,  1.3151745 ,  0.2940543 ,\n",
       "        0.31283793, -0.06645031,  0.34603608,  1.5029454 , -0.5052139 ,\n",
       "        0.8503643 ,  0.18561088,  0.21182385,  0.3982354 ,  0.66958565,\n",
       "        0.09853534,  0.88618493,  0.5060417 ,  0.9655178 , -0.77660805],\n",
       "      dtype=float32)"
      ]
     },
     "execution_count": 49,
     "metadata": {},
     "output_type": "execute_result"
    }
   ],
   "source": [
    "df['title_tokens'].iloc[0]"
   ]
  },
  {
   "cell_type": "code",
   "execution_count": 50,
   "id": "77f1e56d-67f0-44dd-80ce-a4fcaa7cd9a2",
   "metadata": {},
   "outputs": [],
   "source": [
    "df['title_tokens_vec']  = df['title_tokens'].apply(lambda x: x.reshape(1,-1))"
   ]
  },
  {
   "cell_type": "code",
   "execution_count": 51,
   "id": "8a7cfb59-7e97-4596-a2c3-8ed6bcf3b813",
   "metadata": {},
   "outputs": [],
   "source": [
    "token_df = pd.DataFrame(df['title_tokens'])"
   ]
  },
  {
   "cell_type": "code",
   "execution_count": 52,
   "id": "0c9e99bd-9820-41c6-ad15-e5175a0afa6a",
   "metadata": {
    "scrolled": true
   },
   "outputs": [
    {
     "data": {
      "text/plain": [
       "title_tokens    [-1.08549, 1.419483, -0.6168945, 0.08406241, 0...\n",
       "Name: 3, dtype: object"
      ]
     },
     "execution_count": 52,
     "metadata": {},
     "output_type": "execute_result"
    }
   ],
   "source": [
    "token_df.iloc[3]"
   ]
  },
  {
   "cell_type": "code",
   "execution_count": 53,
   "id": "59909289-2517-44c3-936d-0b90a03b42bc",
   "metadata": {},
   "outputs": [],
   "source": [
    "df_vectors = pd.DataFrame(df['title_to_vecs'].tolist(), index=df.index)"
   ]
  },
  {
   "cell_type": "code",
   "execution_count": 54,
   "id": "e42a5165-f763-4eaa-9901-7919615b6f22",
   "metadata": {},
   "outputs": [
    {
     "data": {
      "text/plain": [
       "((37731, 100), (37731, 29))"
      ]
     },
     "execution_count": 54,
     "metadata": {},
     "output_type": "execute_result"
    }
   ],
   "source": [
    "df_vectors.shape,new_df.shape"
   ]
  },
  {
   "cell_type": "code",
   "execution_count": 55,
   "id": "9b015e1c-23b0-4658-b152-29522e74adc8",
   "metadata": {},
   "outputs": [],
   "source": [
    "demo_df = pd.concat([new_df,df_vectors],axis = 1)"
   ]
  },
  {
   "cell_type": "code",
   "execution_count": null,
   "id": "31ad7da1-ed5f-4c32-ba97-b2a286f50be9",
   "metadata": {},
   "outputs": [],
   "source": []
  }
 ],
 "metadata": {
  "kernelspec": {
   "display_name": "Python 3.12.3",
   "language": "python",
   "name": "python312"
  },
  "language_info": {
   "codemirror_mode": {
    "name": "ipython",
    "version": 3
   },
   "file_extension": ".py",
   "mimetype": "text/x-python",
   "name": "python",
   "nbconvert_exporter": "python",
   "pygments_lexer": "ipython3",
   "version": "3.12.3"
  }
 },
 "nbformat": 4,
 "nbformat_minor": 5
}
